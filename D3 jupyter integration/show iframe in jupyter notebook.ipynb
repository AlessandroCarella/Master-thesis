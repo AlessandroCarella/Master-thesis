{
 "cells": [
  {
   "cell_type": "code",
   "execution_count": 3,
   "metadata": {},
   "outputs": [],
   "source": [
    "from IPython.display import display, HTML\n",
    "\n",
    "def show_localhost_content(port=8080, width='100%', height=1000, path=\"\", scale=0.7):\n",
    "    url = f\"http://localhost:{port}/{path.lstrip('/')}\" if path else f\"http://localhost:{port}\"\n",
    "    \n",
    "    # Calculate scaled dimensions\n",
    "    if isinstance(width, str) and width.endswith('%'):\n",
    "        container_width = width\n",
    "        iframe_width = f\"{int(100 / scale)}%\"\n",
    "    else:\n",
    "        # Handle pixel values\n",
    "        width_val = int(width) if isinstance(width, (int, str)) else 1200\n",
    "        container_width = f\"{int(width_val * scale)}px\"\n",
    "        iframe_width = f\"{width_val}px\"\n",
    "    \n",
    "    scaled_height = int(height * scale)\n",
    "    iframe_height = f\"{height}px\"\n",
    "    \n",
    "    html_content = f\"\"\"\n",
    "    <div style=\"\n",
    "        width: {container_width};\n",
    "        height: {scaled_height}px;\n",
    "        overflow: hidden;\n",
    "        border: 1px solid #ccc;\n",
    "        position: relative;\n",
    "    \">\n",
    "        <iframe src=\"{url}\" \n",
    "                width=\"{iframe_width}\" \n",
    "                height=\"{iframe_height}\"\n",
    "                style=\"\n",
    "                    transform: scale({scale});\n",
    "                    transform-origin: top left;\n",
    "                    border: none;\n",
    "                    position: absolute;\n",
    "                    top: 0;\n",
    "                    left: 0;\n",
    "                \"\n",
    "                frameborder=\"0\"\n",
    "                scrolling=\"auto\">\n",
    "        </iframe>\n",
    "    </div>\n",
    "    \"\"\"\n",
    "    \n",
    "    display(HTML(html_content))"
   ]
  },
  {
   "cell_type": "code",
   "execution_count": 4,
   "metadata": {},
   "outputs": [
    {
     "data": {
      "text/html": [
       "\n",
       "    <div style=\"\n",
       "        width: 100%;\n",
       "        height: 700px;\n",
       "        overflow: hidden;\n",
       "        border: 1px solid #ccc;\n",
       "        position: relative;\n",
       "    \">\n",
       "        <iframe src=\"http://localhost:8080\" \n",
       "                width=\"142%\" \n",
       "                height=\"1000px\"\n",
       "                style=\"\n",
       "                    transform: scale(0.7);\n",
       "                    transform-origin: top left;\n",
       "                    border: none;\n",
       "                    position: absolute;\n",
       "                    top: 0;\n",
       "                    left: 0;\n",
       "                \"\n",
       "                frameborder=\"0\"\n",
       "                scrolling=\"auto\">\n",
       "        </iframe>\n",
       "    </div>\n",
       "    "
      ],
      "text/plain": [
       "<IPython.core.display.HTML object>"
      ]
     },
     "metadata": {},
     "output_type": "display_data"
    }
   ],
   "source": [
    "show_localhost_content(scale=0.7)"
   ]
  }
 ],
 "metadata": {
  "anaconda-cloud": {},
  "kernelspec": {
   "display_name": "Python 3",
   "language": "python",
   "name": "python3"
  },
  "language_info": {
   "codemirror_mode": {
    "name": "ipython",
    "version": 3
   },
   "file_extension": ".py",
   "mimetype": "text/x-python",
   "name": "python",
   "nbconvert_exporter": "python",
   "pygments_lexer": "ipython3",
   "version": "3.9.0"
  },
  "toc": {
   "nav_menu": {},
   "number_sections": true,
   "sideBar": true,
   "skip_h1_title": false,
   "toc_cell": false,
   "toc_position": {},
   "toc_section_display": "block",
   "toc_window_display": false
  }
 },
 "nbformat": 4,
 "nbformat_minor": 2
}

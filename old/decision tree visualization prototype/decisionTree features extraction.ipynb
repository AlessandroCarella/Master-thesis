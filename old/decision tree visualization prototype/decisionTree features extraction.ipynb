{
 "cells": [
  {
   "cell_type": "code",
   "execution_count": 1,
   "metadata": {},
   "outputs": [],
   "source": [
    "from generate_decision_tree_visualization_data import *"
   ]
  },
  {
   "cell_type": "code",
   "execution_count": 2,
   "metadata": {},
   "outputs": [],
   "source": [
    "# Import necessary libraries\n",
    "from sklearn.datasets import load_iris\n",
    "from sklearn.model_selection import train_test_split\n",
    "from sklearn.tree import DecisionTreeClassifier\n",
    "\n",
    "# Load the Iris dataset\n",
    "iris = load_iris()\n",
    "X = iris.data  # Features\n",
    "y = iris.target  # Labels\n",
    "\n",
    "# Split the data into training and testing sets\n",
    "X_train, X_test, y_train, y_test = train_test_split(X, y, test_size=0.3, random_state=42)\n",
    "\n",
    "# Create a Decision Tree Classifier\n",
    "clf = DecisionTreeClassifier(random_state=42)\n",
    "\n",
    "# Train the classifier\n",
    "clf = clf.fit(X_train, y_train)\n"
   ]
  },
  {
   "cell_type": "code",
   "execution_count": 3,
   "metadata": {},
   "outputs": [],
   "source": [
    "save_tree_to_json(extract_tree_structure(clf, iris.feature_names, iris.target_names), filename=\"test.json\")"
   ]
  },
  {
   "cell_type": "markdown",
   "metadata": {},
   "source": [
    "the code works for the iris dataset generated tree, let's try a bigger one"
   ]
  },
  {
   "cell_type": "code",
   "execution_count": 4,
   "metadata": {},
   "outputs": [],
   "source": [
    "import pandas as pd"
   ]
  },
  {
   "cell_type": "code",
   "execution_count": 5,
   "metadata": {},
   "outputs": [],
   "source": [
    "df = pd.read_csv (\"test_dataset.csv\")"
   ]
  },
  {
   "cell_type": "code",
   "execution_count": 6,
   "metadata": {},
   "outputs": [
    {
     "data": {
      "text/plain": [
       "Index(['y_', 'ID', 'engine_age', 'length', 'power', 'month', 'landing',\n",
       "       'weight', 'value', 'value_cpi', 'price', 'y_month', 'year', 'patch',\n",
       "       'dist', 'patch_area', 'weight_lym', 'weight_lm', 'val_lm', 'val_lym',\n",
       "       'nao_index', 'surf_temp'],\n",
       "      dtype='object')"
      ]
     },
     "execution_count": 6,
     "metadata": {},
     "output_type": "execute_result"
    }
   ],
   "source": [
    "df.columns"
   ]
  },
  {
   "cell_type": "code",
   "execution_count": 7,
   "metadata": {},
   "outputs": [
    {
     "name": "stdout",
     "output_type": "stream",
     "text": [
      "y_ : [1. 1. 0. ... 1. 0. 1.]\n",
      "ID : [1993001257 1993005128 1996007882 ... 2007039109 2001015121 2008043528]\n",
      "engine_age : [10. 26. 32. ...  3.  9.  8.]\n",
      "length : [10.5  21.3  12.13 ...  7.   14.16 35.49]\n",
      "power : [ 367.  970.  190. ...  144.  291. 1000.]\n",
      "month : [ 44 131 170 ... 124 121 198]\n",
      "landing : ['RISØR' 'BÅTSFJORD' 'ØKSNES' ... 'BØMLO' 'RØST' 'MÅSØY']\n",
      "weight : [5.0000e+00 1.9000e+01 0.0000e+00 ... 1.5000e+00 0.0000e+00 9.4625e+04]\n",
      "value : [9.5700000e+01 5.6459000e+02 0.0000000e+00 ... 1.9170000e+01 0.0000000e+00\n",
      " 5.0858288e+05]\n",
      "value_cpi : [1.1962000e+02 6.1169000e+02 0.0000000e+00 ... 2.0680000e+01 0.0000000e+00\n",
      " 4.8996424e+05]\n",
      "price : [19.14       29.71526316  0.         ... 12.78        0.\n",
      "  5.37472   ]\n",
      "y_month : [ 8 11  2 ...  4  1  6]\n",
      "year : [ 3. 10. 14. ... 10. 10. 16.]\n",
      "patch : ['09-16' '03-03' '04-27' ... '08-15' '07-26' '03-07']\n",
      "dist : [ 13.6  59.6 286.7 ...  10.6 457.5 220.2]\n",
      "patch_area : [3229 2122 4596 ... 1418 5377 2768]\n",
      "weight_lym : [0. 0. 0. ... 1. 0. 0.]\n",
      "weight_lm : [1.         0.37136675 0.         ... 0.         0.         0.        ]\n",
      "val_lm : [1.         0.35962817 0.         ... 0.         0.         0.        ]\n",
      "val_lym : [0. 0. 0. ... 1. 0. 0.]\n",
      "nao_index : [-0.07  -1.616  1.335 ... -0.72  -1.109 -0.433]\n",
      "surf_temp : [286.9  276.25 279.03 ... 287.35 279.31 277.65]\n"
     ]
    }
   ],
   "source": [
    "for col in list (df.columns):\n",
    "    print (col, \":\", df[col].values)"
   ]
  },
  {
   "cell_type": "code",
   "execution_count": 8,
   "metadata": {},
   "outputs": [],
   "source": [
    "#remove \n",
    "# non numerical data \n",
    "# value adjusted for inflation (check dataset page for more info)\n",
    "# other non relevant/not known features \n",
    "df.drop([\"landing\", \"patch\", \"value_cpi\", \"y_\", \"ID\", \"dist\", \"patch_area\", \"weight_lym\", \"weight_lm\", \"val_lm\", \"val_lym\", \"nao_index\", \"price\"], axis=1, inplace=True)"
   ]
  },
  {
   "cell_type": "code",
   "execution_count": 9,
   "metadata": {},
   "outputs": [
    {
     "data": {
      "text/plain": [
       "Index(['engine_age', 'length', 'power', 'month', 'weight', 'value', 'y_month',\n",
       "       'year', 'surf_temp'],\n",
       "      dtype='object')"
      ]
     },
     "execution_count": 9,
     "metadata": {},
     "output_type": "execute_result"
    }
   ],
   "source": [
    "df.columns"
   ]
  },
  {
   "cell_type": "code",
   "execution_count": 10,
   "metadata": {},
   "outputs": [],
   "source": [
    "y = df[\"value\"]\n",
    "X = df[['engine_age', 'length', 'power', 'month', 'weight', 'y_month',\n",
    "       'year', 'surf_temp']]"
   ]
  },
  {
   "cell_type": "code",
   "execution_count": 11,
   "metadata": {},
   "outputs": [],
   "source": [
    "#make y categorical\n",
    "labels = [\n",
    "    \"Poor Session\", \"Below Average\", \"Average Session\", \"Above Average\", \n",
    "    \"Good Session\", \"Great Session\", \"Excellent Session\", \n",
    "    \"Outstanding\", \"Legendary\", \"Epic\"\n",
    "]\n",
    "# Split the values into 10 categories with meaningful labels\n",
    "y = pd.cut(y, bins=10, labels=labels)"
   ]
  },
  {
   "cell_type": "code",
   "execution_count": 12,
   "metadata": {},
   "outputs": [],
   "source": [
    "# Split the data into training and testing sets\n",
    "X_train, X_test, y_train, y_test = train_test_split(X, y, test_size=0.3, random_state=42)\n",
    "\n",
    "# Create a Decision Tree Classifier\n",
    "clf2 = DecisionTreeClassifier(random_state=42)\n",
    "\n",
    "# Train the classifier\n",
    "clf2 = clf.fit(X_train, y_train)"
   ]
  },
  {
   "cell_type": "code",
   "execution_count": 13,
   "metadata": {},
   "outputs": [],
   "source": [
    "save_tree_to_json(extract_tree_structure(clf, feature_names=['engine_age', 'length', 'power', 'month', 'weight', 'y_month',\n",
    "       'year', 'surf_temp'], target_names=labels), filename=\"fishingTree.json\")"
   ]
  }
 ],
 "metadata": {
  "kernelspec": {
   "display_name": "Python 3",
   "language": "python",
   "name": "python3"
  },
  "language_info": {
   "codemirror_mode": {
    "name": "ipython",
    "version": 3
   },
   "file_extension": ".py",
   "mimetype": "text/x-python",
   "name": "python",
   "nbconvert_exporter": "python",
   "pygments_lexer": "ipython3",
   "version": "3.9.0"
  }
 },
 "nbformat": 4,
 "nbformat_minor": 2
}

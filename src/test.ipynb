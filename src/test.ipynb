{
 "cells": [
  {
   "cell_type": "code",
   "execution_count": 1,
   "id": "6ac1b9bc",
   "metadata": {},
   "outputs": [],
   "source": [
    "from main import *"
   ]
  },
  {
   "cell_type": "code",
   "execution_count": null,
   "id": "36da17a5",
   "metadata": {},
   "outputs": [],
   "source": [
    "import seaborn as sns\n",
    "from sklearn.ensemble import RandomForestClassifier\n",
    "from sklearn.preprocessing import LabelEncoder\n",
    "\n",
    "df = sns.load_dataset('penguins').dropna()\n",
    "df.rename(columns={'species':'target'}, inplace=True)"
   ]
  },
  {
   "cell_type": "code",
   "execution_count": 12,
   "id": "5486e5d1",
   "metadata": {},
   "outputs": [],
   "source": [
    "setup_custom_explanation_system(df, RandomForestClassifier, target_column='target')"
   ]
  },
  {
   "cell_type": "code",
   "execution_count": 7,
   "id": "ac9634f5",
   "metadata": {},
   "outputs": [],
   "source": [
    "from pythonHelpers.routes.state import global_state\n",
    "import json\n",
    "print(f\"\\nGlobal state after setup:\")\n",
    "print(f\"Dataset descriptor: {json.dumps(global_state.dataset.descriptor, indent=4)}\")\n",
    "print(f\"Feature names: {global_state.feature_names}\")"
   ]
  },
  {
   "cell_type": "code",
   "execution_count": null,
   "id": "404723f0",
   "metadata": {},
   "outputs": [
    {
     "name": "stdout",
     "output_type": "stream",
     "text": [
      "INFO:     127.0.0.1:55913 - \"OPTIONS /api/check-custom-data HTTP/1.1\" 200 OK\n",
      "INFO:     127.0.0.1:55913 - \"GET /api/check-custom-data HTTP/1.1\" 200 OK\n"
     ]
    }
   ],
   "source": [
    "launch_demo_with_custom_data()\n",
    "# launch_demo()"
   ]
  }
 ],
 "metadata": {
  "kernelspec": {
   "display_name": "Python 3",
   "language": "python",
   "name": "python3"
  },
  "language_info": {
   "codemirror_mode": {
    "name": "ipython",
    "version": 3
   },
   "file_extension": ".py",
   "mimetype": "text/x-python",
   "name": "python",
   "nbconvert_exporter": "python",
   "pygments_lexer": "ipython3",
   "version": "3.9.0"
  }
 },
 "nbformat": 4,
 "nbformat_minor": 5
}

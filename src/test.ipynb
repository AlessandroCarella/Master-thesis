{
 "cells": [
  {
   "cell_type": "code",
   "execution_count": 1,
   "id": "6ac1b9bc",
   "metadata": {},
   "outputs": [],
   "source": [
    "from main import launch_demo"
   ]
  },
  {
   "cell_type": "code",
   "execution_count": 2,
   "id": "f012e505",
   "metadata": {},
   "outputs": [
    {
     "name": "stdout",
     "output_type": "stream",
     "text": [
      "🎯 Launching Master Thesis Demo Application\n",
      "==================================================\n",
      "🔍 Found available ports - API: 8000, Client: 8080\n",
      "✅ CORS configured for origins: ['http://localhost:8080', 'http://127.0.0.1:8080', '*']\n",
      "📡 Starting API server on 0.0.0.0:8000\n"
     ]
    },
    {
     "name": "stderr",
     "output_type": "stream",
     "text": [
      "INFO:     Started server process [15796]\n",
      "INFO:     Waiting for application startup.\n"
     ]
    },
    {
     "name": "stdout",
     "output_type": "stream",
     "text": [
      "2025-09-03 23:58:36,951 - root - INFO - Logging configured with level INFO\n"
     ]
    },
    {
     "name": "stderr",
     "output_type": "stream",
     "text": [
      "INFO:     Application startup complete.\n",
      "ERROR:    [Errno 10048] error while attempting to bind on address ('0.0.0.0', 8000): only one usage of each socket address (protocol/network address/port) is normally permitted\n",
      "INFO:     Waiting for application shutdown.\n",
      "INFO:     Application shutdown complete.\n"
     ]
    },
    {
     "name": "stdout",
     "output_type": "stream",
     "text": [
      "✅ API server is ready at http://localhost:8000\n",
      "🚀 Starting client application on port 8080...\n",
      "⏳ Waiting for client to start...\n",
      "\n",
      "==================================================\n",
      "✅ Demo application started successfully!\n",
      "📡 API: http://localhost:8000\n",
      "🌐 Client: http://localhost:8080\n",
      "💡 If ports were busy, alternative ports were automatically selected\n",
      "==================================================\n"
     ]
    },
    {
     "data": {
      "text/html": [
       "\n",
       "    <div style=\"\n",
       "        width: 100%;\n",
       "        height: 1050px;\n",
       "        overflow: hidden;\n",
       "        border: 1px solid #ccc;\n",
       "        position: relative;\n",
       "    \">\n",
       "        <iframe src=\"http://localhost:8080\" \n",
       "                width=\"142%\" \n",
       "                height=\"1500px\"\n",
       "                style=\"\n",
       "                    transform: scale(0.7);\n",
       "                    transform-origin: top left;\n",
       "                    border: none;\n",
       "                    position: absolute;\n",
       "                    top: 0;\n",
       "                    left: 0;\n",
       "                \"\n",
       "                frameborder=\"0\"\n",
       "                scrolling=\"auto\">\n",
       "        </iframe>\n",
       "    </div>\n",
       "    "
      ],
      "text/plain": [
       "<IPython.core.display.HTML object>"
      ]
     },
     "metadata": {},
     "output_type": "display_data"
    }
   ],
   "source": [
    "launch_demo()"
   ]
  }
 ],
 "metadata": {
  "kernelspec": {
   "display_name": "Python 3",
   "language": "python",
   "name": "python3"
  },
  "language_info": {
   "codemirror_mode": {
    "name": "ipython",
    "version": 3
   },
   "file_extension": ".py",
   "mimetype": "text/x-python",
   "name": "python",
   "nbconvert_exporter": "python",
   "pygments_lexer": "ipython3",
   "version": "3.9.0"
  }
 },
 "nbformat": 4,
 "nbformat_minor": 5
}

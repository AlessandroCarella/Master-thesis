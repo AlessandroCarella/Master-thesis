{
 "cells": [
  {
   "cell_type": "code",
   "execution_count": 10,
   "id": "6ac1b9bc",
   "metadata": {},
   "outputs": [],
   "source": [
    "from main import *"
   ]
  },
  {
   "cell_type": "code",
   "execution_count": 11,
   "id": "f64fad72",
   "metadata": {},
   "outputs": [],
   "source": [
    "def launch_demo(width='100%', height=1000, path=\"\", scale=0.7):\n",
    "    print(\"🎯 Launching Master Thesis Demo Application\")\n",
    "    print(\"=\" * 50)\n",
    "    \n",
    "    # Clean up existing processes on target ports\n",
    "    cleanup_ports([8000, 8080])\n",
    "    \n",
    "    # Find available ports\n",
    "    try:\n",
    "        api_port = find_available_port(8000)\n",
    "        client_port = find_available_port(8080)\n",
    "        print(f\"🔍 Found available ports - API: {api_port}, Client: {client_port}\")\n",
    "    except RuntimeError as e:\n",
    "        print(f\"❌ {e}\")\n",
    "        return\n",
    "    \n",
    "    # Reconfigure CORS with dynamic ports\n",
    "    try:\n",
    "        reconfigure_cors(api_port, client_port)\n",
    "    except Exception as e:\n",
    "        print(f\"⚠️  Warning: Could not reconfigure CORS: {e}\")\n",
    "    \n",
    "    # Get host configuration\n",
    "    host = os.environ.get(\"HOST\", \"0.0.0.0\")\n",
    "    \n",
    "    print(f\"📡 Starting API server on {host}:{api_port}\")\n",
    "    \n",
    "    # Start server in background thread\n",
    "    server_thread, actual_api_port = start_server_thread(host, api_port)\n",
    "    \n",
    "    # Wait for server to be ready\n",
    "    if not wait_for_server(\"localhost\", actual_api_port):\n",
    "        print(\"❌ Failed to start API server. Exiting...\")\n",
    "        return\n",
    "    \n",
    "    # Start client\n",
    "    client_process, actual_client_port = start_client(client_port)\n",
    "    if not client_process or actual_client_port is None:\n",
    "        print(\"❌ Failed to start client. Exiting...\")\n",
    "        return\n",
    "    \n",
    "    # Wait a moment for the client to start\n",
    "    print(\"⏳ Waiting for client to start...\")\n",
    "    time.sleep(3)\n",
    "    \n",
    "    print(\"\\n\" + \"=\" * 50)\n",
    "    print(\"✅ Demo application started successfully!\")\n",
    "    print(f\"📡 API: http://localhost:{actual_api_port}\")\n",
    "    print(f\"🌐 Client: http://localhost:{actual_client_port}\")\n",
    "    print(\"💡 If ports were busy, alternative ports were automatically selected\")\n",
    "    print(\"=\" * 50)\n",
    "    \n",
    "    # Show the client in the notebook\n",
    "    show_localhost_content(actual_client_port, width, height, scale)"
   ]
  },
  {
   "cell_type": "code",
   "execution_count": 12,
   "id": "4fc91571",
   "metadata": {},
   "outputs": [],
   "source": [
    "def setup_custom_explanation_system(dataset_df, classifier, target_column='target'):\n",
    "    print(\"🎯 Setting up Custom Dataset Explanation System\")\n",
    "    print(\"=\" * 50)\n",
    "    \n",
    "    # Clean up existing processes on target ports first\n",
    "    cleanup_ports([8000, 8080])\n",
    "    \n",
    "    try:\n",
    "        import pandas as pd\n",
    "        import numpy as np\n",
    "        from sklearn.model_selection import train_test_split\n",
    "        from sklearn.pipeline import make_pipeline\n",
    "        from sklearn.preprocessing import StandardScaler, OrdinalEncoder\n",
    "        from sklearn.compose import ColumnTransformer\n",
    "        from lore_sa.dataset import TabularDataset\n",
    "        from lore_sa.bbox import sklearn_classifier_bbox\n",
    "        from pythonHelpers.routes.state import global_state\n",
    "        \n",
    "        # Validate inputs\n",
    "        print(\"📊 Validating custom dataset...\")\n",
    "        if dataset_df.empty:\n",
    "            raise ValueError(\"Dataset is empty\")\n",
    "        if target_column not in dataset_df.columns:\n",
    "            raise ValueError(f\"Target column '{target_column}' not found in dataset\")\n",
    "        if len(dataset_df.columns) < 2:\n",
    "            raise ValueError(\"Dataset must have at least 2 columns (features + target)\")\n",
    "            \n",
    "        print(\"🤖 Validating custom classifier...\")\n",
    "        required_methods = ['predict', 'predict_proba']\n",
    "        for method in required_methods:\n",
    "            if not hasattr(classifier, method):\n",
    "                raise ValueError(f\"Classifier must have '{method}' method\")\n",
    "        \n",
    "        # Test classifier on sample\n",
    "        feature_cols = [col for col in dataset_df.columns if col != target_column]\n",
    "        X_sample = dataset_df[feature_cols].iloc[:1]\n",
    "        try:\n",
    "            prediction = classifier.predict(X_sample)\n",
    "            prob_prediction = classifier.predict_proba(X_sample)\n",
    "        except Exception as e:\n",
    "            raise ValueError(f\"Classifier validation failed: {str(e)}\")\n",
    "        \n",
    "        print(\"🔄 Converting dataset to LORE format...\")\n",
    "        \n",
    "        # Create data dictionary for TabularDataset\n",
    "        data_dict = {}\n",
    "        for col in dataset_df.columns:\n",
    "            if col != target_column:\n",
    "                series = dataset_df[col]\n",
    "                if pd.api.types.is_numeric_dtype(series):\n",
    "                    data_dict[col] = series.values\n",
    "                else:\n",
    "                    data_dict[col] = series.astype(str).values\n",
    "            else:\n",
    "                # Convert target to string labels\n",
    "                data_dict[target_column] = dataset_df[col].astype(str).values\n",
    "        \n",
    "        # Create TabularDataset\n",
    "        dataset = TabularDataset.from_dict(data_dict, target_column)\n",
    "        dataset.df.dropna(inplace=True)\n",
    "        \n",
    "        print(\"📦 Setting up classifier bbox...\")\n",
    "        \n",
    "        # Create preprocessor for the classifier\n",
    "        numeric_indices = [v['index'] for v in dataset.descriptor['numeric'].values()]\n",
    "        categorical_indices = [v['index'] for v in dataset.descriptor['categorical'].values()]\n",
    "        \n",
    "        preprocessor = ColumnTransformer([\n",
    "            ('num', StandardScaler(), numeric_indices),\n",
    "            ('cat', OrdinalEncoder(), categorical_indices)\n",
    "        ])\n",
    "        \n",
    "        # Create pipeline with preprocessor and classifier\n",
    "        model = make_pipeline(preprocessor, classifier)\n",
    "        \n",
    "        # Prepare training data for fitting the preprocessor\n",
    "        feature_indices = numeric_indices + categorical_indices\n",
    "        X = dataset.df.iloc[:, feature_indices]\n",
    "        y = dataset.df[target_column]\n",
    "        \n",
    "        # Split for training (we need to fit the preprocessor)\n",
    "        X_train, X_test, y_train, y_test = train_test_split(\n",
    "            X, y, test_size=0.3, random_state=42, stratify=y\n",
    "        )\n",
    "        \n",
    "        # Fit the pipeline (this will fit the preprocessor)\n",
    "        model.fit(X_train, y_train)\n",
    "        \n",
    "        # Create LORE-compatible bbox\n",
    "        bbox = sklearn_classifier_bbox.sklearnBBox(model)\n",
    "        \n",
    "        print(\"💾 Updating global state...\")\n",
    "        \n",
    "        # Update global state to match what training normally does\n",
    "        global_state.bbox = bbox\n",
    "        global_state.dataset = dataset  \n",
    "        global_state.X_train = X_train\n",
    "        global_state.y_train = y_train\n",
    "        global_state.X_test = X_test\n",
    "        global_state.y_test = y_test\n",
    "        global_state.descriptor = dataset.descriptor\n",
    "        global_state.feature_names = feature_cols\n",
    "        global_state.target_names = sorted(dataset_df[target_column].unique().tolist())\n",
    "        global_state.dataset_name = \"Custom Dataset\"\n",
    "        \n",
    "        print(\"✅ Custom dataset and classifier loaded successfully!\")\n",
    "        print(f\"📈 Dataset: {len(dataset_df)} samples, {len(feature_cols)} features\")  \n",
    "        print(f\"🏷️  Classes: {global_state.target_names}\")\n",
    "        print(f\"📊 Feature types: {len(dataset.descriptor.get('numeric', {}))} numeric, {len(dataset.descriptor.get('categorical', {}))} categorical\")\n",
    "        print(\"=\" * 50)\n",
    "        print(\"🌐 Custom data is now loaded!\")\n",
    "        print(\"👉 Go to localhost:8080 in your browser and refresh the page\")\n",
    "        print(\"🎯 You should see the feature inputs directly (skipping dataset selection)\")\n",
    "        \n",
    "    except Exception as e:\n",
    "        print(f\"❌ Error setting up custom explanation system: {str(e)}\")\n",
    "        raise"
   ]
  },
  {
   "cell_type": "code",
   "execution_count": 13,
   "id": "e4fd0610",
   "metadata": {},
   "outputs": [],
   "source": [
    "def launch_demo_with_custom_data(width='100%', height=1000, scale=0.7):\n",
    "    print(\"🚀 Launching demo with custom data loaded...\")\n",
    "    \n",
    "    # Clean up existing processes on target ports first\n",
    "    cleanup_ports([8000, 8080])\n",
    "    \n",
    "    # Start the normal demo but with a flag to indicate custom data is loaded\n",
    "    os.environ[\"CUSTOM_DATA_LOADED\"] = \"true\"\n",
    "    launch_demo(width=width, height=height, scale=scale)"
   ]
  },
  {
   "cell_type": "code",
   "execution_count": 14,
   "id": "f012e505",
   "metadata": {},
   "outputs": [],
   "source": [
    "# launch_demo()"
   ]
  },
  {
   "cell_type": "code",
   "execution_count": 15,
   "id": "36da17a5",
   "metadata": {},
   "outputs": [
    {
     "data": {
      "text/html": [
       "<style>#sk-container-id-2 {color: black;}#sk-container-id-2 pre{padding: 0;}#sk-container-id-2 div.sk-toggleable {background-color: white;}#sk-container-id-2 label.sk-toggleable__label {cursor: pointer;display: block;width: 100%;margin-bottom: 0;padding: 0.3em;box-sizing: border-box;text-align: center;}#sk-container-id-2 label.sk-toggleable__label-arrow:before {content: \"▸\";float: left;margin-right: 0.25em;color: #696969;}#sk-container-id-2 label.sk-toggleable__label-arrow:hover:before {color: black;}#sk-container-id-2 div.sk-estimator:hover label.sk-toggleable__label-arrow:before {color: black;}#sk-container-id-2 div.sk-toggleable__content {max-height: 0;max-width: 0;overflow: hidden;text-align: left;background-color: #f0f8ff;}#sk-container-id-2 div.sk-toggleable__content pre {margin: 0.2em;color: black;border-radius: 0.25em;background-color: #f0f8ff;}#sk-container-id-2 input.sk-toggleable__control:checked~div.sk-toggleable__content {max-height: 200px;max-width: 100%;overflow: auto;}#sk-container-id-2 input.sk-toggleable__control:checked~label.sk-toggleable__label-arrow:before {content: \"▾\";}#sk-container-id-2 div.sk-estimator input.sk-toggleable__control:checked~label.sk-toggleable__label {background-color: #d4ebff;}#sk-container-id-2 div.sk-label input.sk-toggleable__control:checked~label.sk-toggleable__label {background-color: #d4ebff;}#sk-container-id-2 input.sk-hidden--visually {border: 0;clip: rect(1px 1px 1px 1px);clip: rect(1px, 1px, 1px, 1px);height: 1px;margin: -1px;overflow: hidden;padding: 0;position: absolute;width: 1px;}#sk-container-id-2 div.sk-estimator {font-family: monospace;background-color: #f0f8ff;border: 1px dotted black;border-radius: 0.25em;box-sizing: border-box;margin-bottom: 0.5em;}#sk-container-id-2 div.sk-estimator:hover {background-color: #d4ebff;}#sk-container-id-2 div.sk-parallel-item::after {content: \"\";width: 100%;border-bottom: 1px solid gray;flex-grow: 1;}#sk-container-id-2 div.sk-label:hover label.sk-toggleable__label {background-color: #d4ebff;}#sk-container-id-2 div.sk-serial::before {content: \"\";position: absolute;border-left: 1px solid gray;box-sizing: border-box;top: 0;bottom: 0;left: 50%;z-index: 0;}#sk-container-id-2 div.sk-serial {display: flex;flex-direction: column;align-items: center;background-color: white;padding-right: 0.2em;padding-left: 0.2em;position: relative;}#sk-container-id-2 div.sk-item {position: relative;z-index: 1;}#sk-container-id-2 div.sk-parallel {display: flex;align-items: stretch;justify-content: center;background-color: white;position: relative;}#sk-container-id-2 div.sk-item::before, #sk-container-id-2 div.sk-parallel-item::before {content: \"\";position: absolute;border-left: 1px solid gray;box-sizing: border-box;top: 0;bottom: 0;left: 50%;z-index: -1;}#sk-container-id-2 div.sk-parallel-item {display: flex;flex-direction: column;z-index: 1;position: relative;background-color: white;}#sk-container-id-2 div.sk-parallel-item:first-child::after {align-self: flex-end;width: 50%;}#sk-container-id-2 div.sk-parallel-item:last-child::after {align-self: flex-start;width: 50%;}#sk-container-id-2 div.sk-parallel-item:only-child::after {width: 0;}#sk-container-id-2 div.sk-dashed-wrapped {border: 1px dashed gray;margin: 0 0.4em 0.5em 0.4em;box-sizing: border-box;padding-bottom: 0.4em;background-color: white;}#sk-container-id-2 div.sk-label label {font-family: monospace;font-weight: bold;display: inline-block;line-height: 1.2em;}#sk-container-id-2 div.sk-label-container {text-align: center;}#sk-container-id-2 div.sk-container {/* jupyter's `normalize.less` sets `[hidden] { display: none; }` but bootstrap.min.css set `[hidden] { display: none !important; }` so we also need the `!important` here to be able to override the default hidden behavior on the sphinx rendered scikit-learn.org. See: https://github.com/scikit-learn/scikit-learn/issues/21755 */display: inline-block !important;position: relative;}#sk-container-id-2 div.sk-text-repr-fallback {display: none;}</style><div id=\"sk-container-id-2\" class=\"sk-top-container\"><div class=\"sk-text-repr-fallback\"><pre>RandomForestClassifier(random_state=42)</pre><b>In a Jupyter environment, please rerun this cell to show the HTML representation or trust the notebook. <br />On GitHub, the HTML representation is unable to render, please try loading this page with nbviewer.org.</b></div><div class=\"sk-container\" hidden><div class=\"sk-item\"><div class=\"sk-estimator sk-toggleable\"><input class=\"sk-toggleable__control sk-hidden--visually\" id=\"sk-estimator-id-2\" type=\"checkbox\" checked><label for=\"sk-estimator-id-2\" class=\"sk-toggleable__label sk-toggleable__label-arrow\">RandomForestClassifier</label><div class=\"sk-toggleable__content\"><pre>RandomForestClassifier(random_state=42)</pre></div></div></div></div></div>"
      ],
      "text/plain": [
       "RandomForestClassifier(random_state=42)"
      ]
     },
     "execution_count": 15,
     "metadata": {},
     "output_type": "execute_result"
    }
   ],
   "source": [
    "import pandas as pd\n",
    "from sklearn.ensemble import RandomForestClassifier\n",
    "from sklearn.datasets import load_iris\n",
    "\n",
    "# Example with iris dataset\n",
    "iris = load_iris()\n",
    "df = pd.DataFrame(iris.data, columns=iris.feature_names)\n",
    "df['target'] = iris.target\n",
    "\n",
    "# Split and train\n",
    "from sklearn.model_selection import train_test_split\n",
    "X = df.drop('target', axis=1)\n",
    "y = df['target']\n",
    "X_train, X_test, y_train, y_test = train_test_split(X, y, test_size=0.2)\n",
    "\n",
    "# Train classifier\n",
    "clf = RandomForestClassifier(n_estimators=100, random_state=42)\n",
    "clf.fit(X_train, y_train)"
   ]
  },
  {
   "cell_type": "code",
   "execution_count": 16,
   "id": "5486e5d1",
   "metadata": {},
   "outputs": [
    {
     "name": "stdout",
     "output_type": "stream",
     "text": [
      "🎯 Setting up Custom Dataset Explanation System\n",
      "==================================================\n",
      "🧹 Cleaning up processes on target ports...\n",
      "========================================\n",
      "🔍 Checking port 8000...\n",
      "⚠️  Error finding processes on port 8000: invalid attr name 'connections'\n",
      "✅ No processes found running on port 8000\n",
      "🔍 Checking port 8080...\n",
      "⚠️  Error finding processes on port 8080: invalid attr name 'connections'\n",
      "✅ No processes found running on port 8080\n",
      "========================================\n",
      "✅ Port cleanup completed successfully\n",
      "📊 Validating custom dataset...\n",
      "🤖 Validating custom classifier...\n",
      "🔄 Converting dataset to LORE format...\n",
      "📦 Setting up classifier bbox...\n",
      "💾 Updating global state...\n",
      "✅ Custom dataset and classifier loaded successfully!\n",
      "📈 Dataset: 150 samples, 4 features\n",
      "🏷️  Classes: [0, 1, 2]\n",
      "📊 Feature types: 4 numeric, 0 categorical\n",
      "==================================================\n",
      "🌐 Custom data is now loaded!\n",
      "👉 Go to localhost:8080 in your browser and refresh the page\n",
      "🎯 You should see the feature inputs directly (skipping dataset selection)\n"
     ]
    }
   ],
   "source": [
    "setup_custom_explanation_system(df, clf, target_column='target')"
   ]
  },
  {
   "cell_type": "code",
   "execution_count": 17,
   "id": "ac9634f5",
   "metadata": {},
   "outputs": [
    {
     "name": "stdout",
     "output_type": "stream",
     "text": [
      "\n",
      "Global state after setup:\n",
      "Dataset descriptor: {'numeric': {'sepal length (cm)': {'index': 0, 'min': 4.3, 'max': 7.9, 'mean': 5.843333333333334, 'std': 0.828066127977863, 'median': 5.8, 'q1': 5.1, 'q3': 6.4}, 'sepal width (cm)': {'index': 1, 'min': 2.0, 'max': 4.4, 'mean': 3.0573333333333337, 'std': 0.4358662849366982, 'median': 3.0, 'q1': 2.8, 'q3': 3.3}, 'petal length (cm)': {'index': 2, 'min': 1.0, 'max': 6.9, 'mean': 3.7580000000000005, 'std': 1.7652982332594662, 'median': 4.35, 'q1': 1.6, 'q3': 5.1}, 'petal width (cm)': {'index': 3, 'min': 0.1, 'max': 2.5, 'mean': 1.1993333333333336, 'std': 0.7622376689603465, 'median': 1.3, 'q1': 0.3, 'q3': 1.8}}, 'categorical': {}, 'ordinal': {}, 'target': {'target': {'index': 4, 'distinct_values': ['0', '1', '2'], 'count': {'0': 50, '1': 50, '2': 50}}}}\n",
      "Feature names: ['sepal length (cm)', 'sepal width (cm)', 'petal length (cm)', 'petal width (cm)']\n"
     ]
    }
   ],
   "source": [
    "from pythonHelpers.routes.state import global_state\n",
    "\n",
    "print(f\"\\nGlobal state after setup:\")\n",
    "print(f\"Dataset descriptor: {global_state.dataset.descriptor}\")\n",
    "print(f\"Feature names: {global_state.feature_names}\")"
   ]
  },
  {
   "cell_type": "code",
   "execution_count": 18,
   "id": "404723f0",
   "metadata": {},
   "outputs": [
    {
     "name": "stdout",
     "output_type": "stream",
     "text": [
      "🎯 Launching Master Thesis Demo Application\n",
      "==================================================\n",
      "🧹 Cleaning up processes on target ports...\n",
      "========================================\n",
      "🔍 Checking port 8000...\n",
      "⚠️  Error finding processes on port 8000: invalid attr name 'connections'\n",
      "✅ No processes found running on port 8000\n",
      "🔍 Checking port 8080...\n",
      "⚠️  Error finding processes on port 8080: invalid attr name 'connections'\n",
      "✅ No processes found running on port 8080\n",
      "========================================\n",
      "✅ Port cleanup completed successfully\n",
      "🔍 Found available ports - API: 8000, Client: 8080\n",
      "✅ CORS configured for origins: ['http://localhost:8080', 'http://127.0.0.1:8080', '*']\n",
      "📡 Starting API server on 0.0.0.0:8000\n"
     ]
    },
    {
     "name": "stderr",
     "output_type": "stream",
     "text": [
      "INFO:     Started server process [2280]\n",
      "INFO:     Waiting for application startup.\n",
      "INFO:     Application startup complete.\n",
      "ERROR:    [Errno 10048] error while attempting to bind on address ('0.0.0.0', 8000): only one usage of each socket address (protocol/network address/port) is normally permitted\n",
      "INFO:     Waiting for application shutdown.\n",
      "INFO:     Application shutdown complete.\n"
     ]
    },
    {
     "name": "stdout",
     "output_type": "stream",
     "text": [
      "✅ API server is ready at http://localhost:8000\n",
      "🚀 Starting client application on port 8080...\n",
      "⏳ Waiting for client to start...\n",
      "\n",
      "==================================================\n",
      "✅ Demo application started successfully!\n",
      "📡 API: http://localhost:8000\n",
      "🌐 Client: http://localhost:8080\n",
      "💡 If ports were busy, alternative ports were automatically selected\n",
      "==================================================\n"
     ]
    },
    {
     "data": {
      "text/html": [
       "\n",
       "    <div style=\"\n",
       "        width: 100%;\n",
       "        height: 700px;\n",
       "        overflow: hidden;\n",
       "        border: 1px solid #ccc;\n",
       "        position: relative;\n",
       "    \">\n",
       "        <iframe src=\"http://localhost:8080\" \n",
       "                width=\"142%\" \n",
       "                height=\"1000px\"\n",
       "                style=\"\n",
       "                    transform: scale(0.7);\n",
       "                    transform-origin: top left;\n",
       "                    border: none;\n",
       "                    position: absolute;\n",
       "                    top: 0;\n",
       "                    left: 0;\n",
       "                \"\n",
       "                frameborder=\"0\"\n",
       "                scrolling=\"auto\">\n",
       "        </iframe>\n",
       "    </div>\n",
       "    "
      ],
      "text/plain": [
       "<IPython.core.display.HTML object>"
      ]
     },
     "metadata": {},
     "output_type": "display_data"
    }
   ],
   "source": [
    "# launch_demo_with_custom_data()\n",
    "launch_demo()"
   ]
  }
 ],
 "metadata": {
  "kernelspec": {
   "display_name": "Python 3",
   "language": "python",
   "name": "python3"
  },
  "language_info": {
   "codemirror_mode": {
    "name": "ipython",
    "version": 3
   },
   "file_extension": ".py",
   "mimetype": "text/x-python",
   "name": "python",
   "nbconvert_exporter": "python",
   "pygments_lexer": "ipython3",
   "version": "3.9.0"
  }
 },
 "nbformat": 4,
 "nbformat_minor": 5
}

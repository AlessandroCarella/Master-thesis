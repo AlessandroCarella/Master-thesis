{
 "cells": [
  {
   "cell_type": "code",
   "execution_count": 1,
   "id": "19298b4c",
   "metadata": {},
   "outputs": [],
   "source": [
    "import pickle"
   ]
  },
  {
   "cell_type": "code",
   "execution_count": 2,
   "id": "2b2a625c",
   "metadata": {},
   "outputs": [],
   "source": [
    "with open (\"x.pkl\", \"rb\") as f:\n",
    "    x = pickle.load(f)"
   ]
  },
  {
   "cell_type": "code",
   "execution_count": 3,
   "id": "749de511",
   "metadata": {},
   "outputs": [
    {
     "data": {
      "text/plain": [
       "[TreeNode(node_id=0, feature_name='alcohol', feature_index=0, threshold=13.018583297729492, left_child=1, right_child=24, is_leaf=False, class_label=None, impurity=0.5131195335276968, n_samples=147, weighted_n_samples=147.0, value=array([[74., 71.,  2.]])),\n",
       " TreeNode(node_id=1, feature_name='proline', feature_index=12, threshold=829.8230590820312, left_child=2, right_child=21, is_leaf=False, class_label=None, impurity=0.3409777777777778, n_samples=75, weighted_n_samples=75.0, value=array([[15., 59.,  1.]])),\n",
       " TreeNode(node_id=2, feature_name='total_phenols', feature_index=5, threshold=2.6875529289245605, left_child=3, right_child=18, is_leaf=False, class_label=None, impurity=0.21625344352617082, n_samples=66, weighted_n_samples=66.0, value=array([[ 7., 58.,  1.]])),\n",
       " TreeNode(node_id=3, feature_name='flavanoids', feature_index=6, threshold=0.7902491986751556, left_child=4, right_child=5, is_leaf=False, class_label=None, impurity=0.15036420395421435, n_samples=62, weighted_n_samples=62.0, value=array([[ 4., 57.,  1.]])),\n",
       " TreeNode(node_id=4, feature_name=None, feature_index=None, threshold=None, left_child=None, right_child=None, is_leaf=True, class_label='class_2', impurity=0.0, n_samples=1, weighted_n_samples=1.0, value=array([[0., 0., 1.]])),\n",
       " TreeNode(node_id=5, feature_name='proanthocyanins', feature_index=8, threshold=1.1300837695598602, left_child=6, right_child=7, is_leaf=False, class_label=None, impurity=0.1225477022305832, n_samples=61, weighted_n_samples=61.0, value=array([[ 4., 57.,  0.]])),\n",
       " TreeNode(node_id=6, feature_name=None, feature_index=None, threshold=None, left_child=None, right_child=None, is_leaf=True, class_label='class_0', impurity=0.0, n_samples=1, weighted_n_samples=1.0, value=array([[1., 0., 0.]])),\n",
       " TreeNode(node_id=7, feature_name='ash', feature_index=2, threshold=1.5633244514465332, left_child=8, right_child=9, is_leaf=False, class_label=None, impurity=0.09499999999999997, n_samples=60, weighted_n_samples=60.0, value=array([[ 3., 57.,  0.]])),\n",
       " TreeNode(node_id=8, feature_name=None, feature_index=None, threshold=None, left_child=None, right_child=None, is_leaf=True, class_label='class_0', impurity=0.0, n_samples=1, weighted_n_samples=1.0, value=array([[1., 0., 0.]])),\n",
       " TreeNode(node_id=9, feature_name='alcalinity_of_ash', feature_index=3, threshold=15.980202674865723, left_child=10, right_child=13, is_leaf=False, class_label=None, impurity=0.06549841999425454, n_samples=59, weighted_n_samples=59.0, value=array([[ 2., 57.,  0.]])),\n",
       " TreeNode(node_id=10, feature_name='total_phenols', feature_index=5, threshold=2.3752033710479736, left_child=11, right_child=12, is_leaf=False, class_label=None, impurity=0.5, n_samples=2, weighted_n_samples=2.0, value=array([[1., 1., 0.]])),\n",
       " TreeNode(node_id=11, feature_name=None, feature_index=None, threshold=None, left_child=None, right_child=None, is_leaf=True, class_label='class_0', impurity=0.0, n_samples=1, weighted_n_samples=1.0, value=array([[1., 0., 0.]])),\n",
       " TreeNode(node_id=12, feature_name=None, feature_index=None, threshold=None, left_child=None, right_child=None, is_leaf=True, class_label='class_1', impurity=0.0, n_samples=1, weighted_n_samples=1.0, value=array([[0., 1., 0.]])),\n",
       " TreeNode(node_id=13, feature_name='magnesium', feature_index=4, threshold=127.97839736938477, left_child=14, right_child=15, is_leaf=False, class_label=None, impurity=0.03447214527546938, n_samples=57, weighted_n_samples=57.0, value=array([[ 1., 56.,  0.]])),\n",
       " TreeNode(node_id=14, feature_name=None, feature_index=None, threshold=None, left_child=None, right_child=None, is_leaf=True, class_label='class_1', impurity=0.0, n_samples=52, weighted_n_samples=52.0, value=array([[ 0., 52.,  0.]])),\n",
       " TreeNode(node_id=15, feature_name='magnesium', feature_index=4, threshold=130.76742553710938, left_child=16, right_child=17, is_leaf=False, class_label=None, impurity=0.31999999999999995, n_samples=5, weighted_n_samples=5.0, value=array([[1., 4., 0.]])),\n",
       " TreeNode(node_id=16, feature_name=None, feature_index=None, threshold=None, left_child=None, right_child=None, is_leaf=True, class_label='class_0', impurity=0.0, n_samples=1, weighted_n_samples=1.0, value=array([[1., 0., 0.]])),\n",
       " TreeNode(node_id=17, feature_name=None, feature_index=None, threshold=None, left_child=None, right_child=None, is_leaf=True, class_label='class_1', impurity=0.0, n_samples=4, weighted_n_samples=4.0, value=array([[0., 4., 0.]])),\n",
       " TreeNode(node_id=18, feature_name='hue', feature_index=10, threshold=0.7806049585342407, left_child=19, right_child=20, is_leaf=False, class_label=None, impurity=0.375, n_samples=4, weighted_n_samples=4.0, value=array([[3., 1., 0.]])),\n",
       " TreeNode(node_id=19, feature_name=None, feature_index=None, threshold=None, left_child=None, right_child=None, is_leaf=True, class_label='class_1', impurity=0.0, n_samples=1, weighted_n_samples=1.0, value=array([[0., 1., 0.]])),\n",
       " TreeNode(node_id=20, feature_name=None, feature_index=None, threshold=None, left_child=None, right_child=None, is_leaf=True, class_label='class_0', impurity=0.0, n_samples=3, weighted_n_samples=3.0, value=array([[3., 0., 0.]])),\n",
       " TreeNode(node_id=21, feature_name='malic_acid', feature_index=1, threshold=2.304783880710602, left_child=22, right_child=23, is_leaf=False, class_label=None, impurity=0.19753086419753085, n_samples=9, weighted_n_samples=9.0, value=array([[8., 1., 0.]])),\n",
       " TreeNode(node_id=22, feature_name=None, feature_index=None, threshold=None, left_child=None, right_child=None, is_leaf=True, class_label='class_0', impurity=0.0, n_samples=8, weighted_n_samples=8.0, value=array([[8., 0., 0.]])),\n",
       " TreeNode(node_id=23, feature_name=None, feature_index=None, threshold=None, left_child=None, right_child=None, is_leaf=True, class_label='class_1', impurity=0.0, n_samples=1, weighted_n_samples=1.0, value=array([[0., 1., 0.]])),\n",
       " TreeNode(node_id=24, feature_name='od280/od315_of_diluted_wines', feature_index=11, threshold=2.4536956548690796, left_child=25, right_child=28, is_leaf=False, class_label=None, impurity=0.30054012345679015, n_samples=72, weighted_n_samples=72.0, value=array([[59., 12.,  1.]])),\n",
       " TreeNode(node_id=25, feature_name='total_phenols', feature_index=5, threshold=2.3289090394973755, left_child=26, right_child=27, is_leaf=False, class_label=None, impurity=0.375, n_samples=4, weighted_n_samples=4.0, value=array([[1., 3., 0.]])),\n",
       " TreeNode(node_id=26, feature_name=None, feature_index=None, threshold=None, left_child=None, right_child=None, is_leaf=True, class_label='class_0', impurity=0.0, n_samples=1, weighted_n_samples=1.0, value=array([[1., 0., 0.]])),\n",
       " TreeNode(node_id=27, feature_name=None, feature_index=None, threshold=None, left_child=None, right_child=None, is_leaf=True, class_label='class_1', impurity=0.0, n_samples=3, weighted_n_samples=3.0, value=array([[0., 3., 0.]])),\n",
       " TreeNode(node_id=28, feature_name='alcalinity_of_ash', feature_index=3, threshold=24.833029747009277, left_child=29, right_child=42, is_leaf=False, class_label=None, impurity=0.254757785467128, n_samples=68, weighted_n_samples=68.0, value=array([[58.,  9.,  1.]])),\n",
       " TreeNode(node_id=29, feature_name='proline', feature_index=12, threshold=597.6029052734375, left_child=30, right_child=31, is_leaf=False, class_label=None, impurity=0.19775390625, n_samples=64, weighted_n_samples=64.0, value=array([[57.,  6.,  1.]])),\n",
       " TreeNode(node_id=30, feature_name=None, feature_index=None, threshold=None, left_child=None, right_child=None, is_leaf=True, class_label='class_1', impurity=0.0, n_samples=2, weighted_n_samples=2.0, value=array([[0., 2., 0.]])),\n",
       " TreeNode(node_id=31, feature_name='total_phenols', feature_index=5, threshold=1.9570426940917969, left_child=32, right_child=35, is_leaf=False, class_label=None, impurity=0.15036420395421435, n_samples=62, weighted_n_samples=62.0, value=array([[57.,  4.,  1.]])),\n",
       " TreeNode(node_id=32, feature_name='nonflavanoid_phenols', feature_index=7, threshold=0.35494689643383026, left_child=33, right_child=34, is_leaf=False, class_label=None, impurity=0.4444444444444444, n_samples=3, weighted_n_samples=3.0, value=array([[1., 2., 0.]])),\n",
       " TreeNode(node_id=33, feature_name=None, feature_index=None, threshold=None, left_child=None, right_child=None, is_leaf=True, class_label='class_1', impurity=0.0, n_samples=2, weighted_n_samples=2.0, value=array([[0., 2., 0.]])),\n",
       " TreeNode(node_id=34, feature_name=None, feature_index=None, threshold=None, left_child=None, right_child=None, is_leaf=True, class_label='class_0', impurity=0.0, n_samples=1, weighted_n_samples=1.0, value=array([[1., 0., 0.]])),\n",
       " TreeNode(node_id=35, feature_name='flavanoids', feature_index=6, threshold=1.3675470650196075, left_child=36, right_child=37, is_leaf=False, class_label=None, impurity=0.09767308244757256, n_samples=59, weighted_n_samples=59.0, value=array([[56.,  2.,  1.]])),\n",
       " TreeNode(node_id=36, feature_name=None, feature_index=None, threshold=None, left_child=None, right_child=None, is_leaf=True, class_label='class_2', impurity=0.0, n_samples=1, weighted_n_samples=1.0, value=array([[0., 0., 1.]])),\n",
       " TreeNode(node_id=37, feature_name='magnesium', feature_index=4, threshold=81.5349349975586, left_child=38, right_child=39, is_leaf=False, class_label=None, impurity=0.06658739595719376, n_samples=58, weighted_n_samples=58.0, value=array([[56.,  2.,  0.]])),\n",
       " TreeNode(node_id=38, feature_name=None, feature_index=None, threshold=None, left_child=None, right_child=None, is_leaf=True, class_label='class_1', impurity=0.0, n_samples=1, weighted_n_samples=1.0, value=array([[0., 1., 0.]])),\n",
       " TreeNode(node_id=39, feature_name='ash', feature_index=2, threshold=1.9825103282928467, left_child=40, right_child=41, is_leaf=False, class_label=None, impurity=0.03447214527546938, n_samples=57, weighted_n_samples=57.0, value=array([[56.,  1.,  0.]])),\n",
       " TreeNode(node_id=40, feature_name=None, feature_index=None, threshold=None, left_child=None, right_child=None, is_leaf=True, class_label='class_1', impurity=0.0, n_samples=1, weighted_n_samples=1.0, value=array([[0., 1., 0.]])),\n",
       " TreeNode(node_id=41, feature_name=None, feature_index=None, threshold=None, left_child=None, right_child=None, is_leaf=True, class_label='class_0', impurity=0.0, n_samples=56, weighted_n_samples=56.0, value=array([[56.,  0.,  0.]])),\n",
       " TreeNode(node_id=42, feature_name='alcohol', feature_index=0, threshold=13.864129066467285, left_child=43, right_child=44, is_leaf=False, class_label=None, impurity=0.375, n_samples=4, weighted_n_samples=4.0, value=array([[1., 3., 0.]])),\n",
       " TreeNode(node_id=43, feature_name=None, feature_index=None, threshold=None, left_child=None, right_child=None, is_leaf=True, class_label='class_1', impurity=0.0, n_samples=3, weighted_n_samples=3.0, value=array([[0., 3., 0.]])),\n",
       " TreeNode(node_id=44, feature_name=None, feature_index=None, threshold=None, left_child=None, right_child=None, is_leaf=True, class_label='class_0', impurity=0.0, n_samples=1, weighted_n_samples=1.0, value=array([[1., 0., 0.]]))]"
      ]
     },
     "execution_count": 3,
     "metadata": {},
     "output_type": "execute_result"
    }
   ],
   "source": [
    "x"
   ]
  },
  {
   "cell_type": "code",
   "execution_count": 20,
   "id": "ffa3c1df",
   "metadata": {},
   "outputs": [],
   "source": [
    "import numpy as np\n",
    "out = []\n",
    "for elem in x:\n",
    "    mock = {}\n",
    "    for property, value in vars(elem).items():\n",
    "        if isinstance(value, np.ndarray):\n",
    "            mock[property] = value.tolist()[0]\n",
    "        else:\n",
    "            mock[property] = value\n",
    "    out.append(mock)"
   ]
  },
  {
   "cell_type": "code",
   "execution_count": 22,
   "id": "b5ba1998",
   "metadata": {},
   "outputs": [],
   "source": [
    "import json\n",
    "with open (\"x.json\", \"w\") as f:\n",
    "    json.dump(out, f, indent=4)"
   ]
  }
 ],
 "metadata": {
  "kernelspec": {
   "display_name": "Python 3",
   "language": "python",
   "name": "python3"
  },
  "language_info": {
   "codemirror_mode": {
    "name": "ipython",
    "version": 3
   },
   "file_extension": ".py",
   "mimetype": "text/x-python",
   "name": "python",
   "nbconvert_exporter": "python",
   "pygments_lexer": "ipython3",
   "version": "3.9.0"
  }
 },
 "nbformat": 4,
 "nbformat_minor": 5
}

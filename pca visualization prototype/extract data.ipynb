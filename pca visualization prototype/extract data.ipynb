{
 "cells": [
  {
   "cell_type": "code",
   "execution_count": 11,
   "metadata": {},
   "outputs": [],
   "source": [
    "import numpy as np\n",
    "import pandas as pd\n",
    "from sklearn.decomposition import PCA\n",
    "from sklearn.datasets import load_iris\n",
    "from sklearn.preprocessing import StandardScaler\n",
    "from sklearn.tree import DecisionTreeClassifier\n",
    "from sklearn.model_selection import train_test_split\n",
    "import json"
   ]
  },
  {
   "cell_type": "code",
   "execution_count": 12,
   "metadata": {},
   "outputs": [],
   "source": [
    "data_file = \"iris.json\"\n",
    "# Load and prepare data\n",
    "data = load_iris()\n",
    "X = data.data\n",
    "y = data.target\n",
    "feature_names = list(data.feature_names)"
   ]
  },
  {
   "cell_type": "code",
   "execution_count": 13,
   "metadata": {},
   "outputs": [],
   "source": [
    "def get_tree_data(tree, feature_names):\n",
    "    n_nodes = tree.node_count\n",
    "    children_left = tree.children_left\n",
    "    children_right = tree.children_right\n",
    "    feature = tree.feature\n",
    "    threshold = tree.threshold\n",
    "    value = tree.value\n",
    "    \n",
    "    nodes = []\n",
    "    for i in range(n_nodes):\n",
    "        node_data = {\n",
    "            \"id\": i,\n",
    "            \"feature\": feature_names[feature[i]] if feature[i] != -2 else \"leaf\",\n",
    "            \"threshold\": float(threshold[i]) if feature[i] != -2 else None,\n",
    "            \"value\": value[i].tolist(),\n",
    "            \"left\": int(children_left[i]) if children_left[i] != -1 else None,\n",
    "            \"right\": int(children_right[i]) if children_right[i] != -1 else None\n",
    "        }\n",
    "        nodes.append(node_data)\n",
    "    \n",
    "    return nodes\n"
   ]
  },
  {
   "cell_type": "code",
   "execution_count": 14,
   "metadata": {},
   "outputs": [],
   "source": [
    "# Standardize the dataset\n",
    "scaler = StandardScaler()\n",
    "X_scaled = scaler.fit_transform(X)\n",
    "\n",
    "# Apply PCA\n",
    "pca = PCA(n_components=2)\n",
    "X_pca = pca.fit_transform(X_scaled)"
   ]
  },
  {
   "cell_type": "code",
   "execution_count": 15,
   "metadata": {},
   "outputs": [],
   "source": [
    "# Split the data and train the tree (following your original script)\n",
    "X_train_pca, X_test_pca, y_train, y_test = train_test_split(X_pca, y, test_size=0.3, random_state=42)\n",
    "dt_classifier_pca = DecisionTreeClassifier(random_state=42)  # Removed max_depth constraint\n",
    "dt_classifier_pca.fit(X_train_pca, y_train)\n",
    "\n",
    "# Generate decision boundary data with finer grid\n",
    "x_min, x_max = X_pca[:, 0].min() - 1, X_pca[:, 0].max() + 1\n",
    "y_min, y_max = X_pca[:, 1].min() - 1, X_pca[:, 1].max() + 1\n",
    "step = 0.05  # Reduced step size for finer grid\n",
    "xx, yy = np.meshgrid(np.arange(x_min, x_max, step), np.arange(y_min, y_max, step))"
   ]
  },
  {
   "cell_type": "code",
   "execution_count": 16,
   "metadata": {},
   "outputs": [],
   "source": [
    "# Get predictions for the grid\n",
    "Z = dt_classifier_pca.predict(np.c_[xx.ravel(), yy.ravel()])\n",
    "Z = Z.reshape(xx.shape)\n",
    "\n",
    "# Get prediction probabilities for more detailed visualization\n",
    "Z_prob = dt_classifier_pca.predict_proba(np.c_[xx.ravel(), yy.ravel()])\n",
    "Z_prob = Z_prob.reshape((xx.shape[0], xx.shape[1], -1))\n",
    "\n",
    "# Create grid points and predictions for the frontend\n",
    "grid_points = []\n",
    "for i in range(len(xx)):\n",
    "    for j in range(len(xx[0])):\n",
    "        grid_points.append({\n",
    "            'x': float(xx[i][j]),\n",
    "            'y': float(yy[i][j]),\n",
    "            'class': int(Z[i][j]),\n",
    "            'probabilities': [float(p) for p in Z_prob[i, j]]\n",
    "        })"
   ]
  },
  {
   "cell_type": "code",
   "execution_count": 18,
   "metadata": {},
   "outputs": [],
   "source": [
    "with open (data_file, \"w\") as f:\n",
    "    json.dump (\n",
    "        {\n",
    "            \"treeData\": get_tree_data(dt_classifier_pca.tree_, ['PC1', 'PC2']),\n",
    "            \"pcaData\": X_pca.tolist(),\n",
    "            \"targets\": y.tolist(),\n",
    "            \"featureNames\": feature_names,\n",
    "            \"targetNames\": list(data.target_names),\n",
    "            \"decisionBoundary\": {\n",
    "                \"points\": grid_points,\n",
    "                \"xRange\": [float(x_min), float(x_max)],\n",
    "                \"yRange\": [float(y_min), float(y_max)],\n",
    "                \"step\": step\n",
    "            },\n",
    "            \"trainIndices\": y_train.tolist(),  # Added to show train/test split\n",
    "            \"testIndices\": y_test.tolist()\n",
    "        },\n",
    "        f,\n",
    "        indent=4\n",
    "    )"
   ]
  }
 ],
 "metadata": {
  "kernelspec": {
   "display_name": "Python 3",
   "language": "python",
   "name": "python3"
  },
  "language_info": {
   "codemirror_mode": {
    "name": "ipython",
    "version": 3
   },
   "file_extension": ".py",
   "mimetype": "text/x-python",
   "name": "python",
   "nbconvert_exporter": "python",
   "pygments_lexer": "ipython3",
   "version": "3.9.0"
  }
 },
 "nbformat": 4,
 "nbformat_minor": 2
}

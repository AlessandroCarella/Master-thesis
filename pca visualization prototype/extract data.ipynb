{
 "cells": [
  {
   "cell_type": "code",
   "execution_count": 8,
   "metadata": {},
   "outputs": [],
   "source": [
    "import numpy as np\n",
    "import pandas as pd\n",
    "from sklearn.decomposition import PCA\n",
    "from sklearn.datasets import load_iris\n",
    "from sklearn.preprocessing import StandardScaler\n",
    "from sklearn.tree import DecisionTreeClassifier\n",
    "from sklearn.model_selection import train_test_split\n",
    "import json\n",
    "from sklearn.preprocessing import LabelEncoder"
   ]
  },
  {
   "cell_type": "code",
   "execution_count": 9,
   "metadata": {},
   "outputs": [],
   "source": [
    "# data_file = \"iris.json\"\n",
    "# # Load and prepare data\n",
    "# data = load_iris()\n",
    "# X = data.data\n",
    "# y = data.target\n",
    "# feature_names = list(data.feature_names)\n",
    "# target_names = list(data.target_names)\n",
    "\n",
    "# # PCA setup \n",
    "# step = 0.05"
   ]
  },
  {
   "cell_type": "code",
   "execution_count": 10,
   "metadata": {},
   "outputs": [],
   "source": [
    "df = pd.read_csv (\"test_dataset.csv\")\n",
    "df.dropna(inplace=True)\n",
    "data_file = 'fishing.json'\n",
    "\n",
    "target_names = [\n",
    "    \"Poor Session\", \"Below Average\", \"Average Session\", \"Above Average\", \n",
    "    \"Good Session\", \"Great Session\", \"Excellent Session\", \n",
    "    \"Outstanding\", \"Legendary\", \"Epic\"\n",
    "]\n",
    "feature_names = ['engine_age', 'length', 'power', 'month', 'weight', 'y_month',\n",
    "       'year', 'surf_temp']\n",
    "\n",
    "#remove non numerical data \n",
    "# value adjusted for inflation (check dataset page for more info)\n",
    "# other non relevant/not known features \n",
    "df.drop([\"landing\", \"patch\", \"value_cpi\", \"y_\", \"ID\", \"dist\", \"patch_area\", \"weight_lym\", \"weight_lm\", \"val_lm\", \"val_lym\", \"nao_index\", \"price\"], axis=1, inplace=True)\n",
    "\n",
    "y = df[\"value\"]\n",
    "X = df[feature_names]\n",
    "\n",
    "# Split the values into 10 categories with meaningful labels\n",
    "y = pd.cut(y, bins=10, labels=target_names)\n",
    "\n",
    "label_encoder = LabelEncoder()\n",
    "y = label_encoder.fit_transform(y)  # Convert categories to numerical values\n",
    "\n",
    "# PCA setup \n",
    "step = 0.2 "
   ]
  },
  {
   "cell_type": "code",
   "execution_count": 11,
   "metadata": {},
   "outputs": [],
   "source": [
    "# Standardize the dataset\n",
    "scaler = StandardScaler()\n",
    "X_scaled = scaler.fit_transform(X)\n",
    "\n",
    "# Apply PCA\n",
    "pca = PCA(n_components=2)\n",
    "X_pca = pca.fit_transform(X_scaled)"
   ]
  },
  {
   "cell_type": "code",
   "execution_count": 12,
   "metadata": {},
   "outputs": [],
   "source": [
    "# Split the data and train the tree (following your original script)\n",
    "X_train_pca, X_test_pca, y_train, y_test = train_test_split(X_pca, y, test_size=0.3, random_state=42)\n",
    "dt_classifier_pca = DecisionTreeClassifier(random_state=42)  # Removed max_depth constraint\n",
    "dt_classifier_pca.fit(X_train_pca, y_train)\n",
    "\n",
    "# Generate decision boundary data with finer grid\n",
    "x_min, x_max = X_pca[:, 0].min() - 1, X_pca[:, 0].max() + 1\n",
    "y_min, y_max = X_pca[:, 1].min() - 1, X_pca[:, 1].max() + 1\n",
    "xx, yy = np.meshgrid(np.arange(x_min, x_max, step), np.arange(y_min, y_max, step))"
   ]
  },
  {
   "cell_type": "code",
   "execution_count": 13,
   "metadata": {},
   "outputs": [],
   "source": [
    "# Get predictions for the grid\n",
    "Z = dt_classifier_pca.predict(np.c_[xx.ravel(), yy.ravel()])\n",
    "Z = Z.reshape(xx.shape)\n",
    "\n",
    "# Get prediction probabilities for more detailed visualization\n",
    "Z_prob = dt_classifier_pca.predict_proba(np.c_[xx.ravel(), yy.ravel()])\n",
    "Z_prob = Z_prob.reshape((xx.shape[0], xx.shape[1], -1))"
   ]
  },
  {
   "cell_type": "code",
   "execution_count": 14,
   "metadata": {},
   "outputs": [],
   "source": [
    "# Create grid points and predictions for the frontend\n",
    "grid_points = []\n",
    "for i in range(len(xx)):\n",
    "    for j in range(len(xx[0])):\n",
    "        grid_points.append({\n",
    "            'x': float(xx[i][j]),\n",
    "            'y': float(yy[i][j]),\n",
    "            'class': int(Z[i][j]),\n",
    "        })\n",
    "\n",
    "with open (data_file, \"w\") as f:\n",
    "    json.dump (\n",
    "        {\n",
    "            \"pcaData\": X_pca.tolist(),\n",
    "            \"targets\": y.tolist(),\n",
    "            \"targetNames\": list(target_names),\n",
    "            \"decisionBoundary\": {\n",
    "                \"points\": grid_points,\n",
    "                \"xRange\": [float(x_min), float(x_max)],\n",
    "                \"yRange\": [float(y_min), float(y_max)],\n",
    "                \"step\": step\n",
    "            },\n",
    "        },\n",
    "        f,\n",
    "        indent=4\n",
    "    )"
   ]
  }
 ],
 "metadata": {
  "kernelspec": {
   "display_name": "Python 3",
   "language": "python",
   "name": "python3"
  },
  "language_info": {
   "codemirror_mode": {
    "name": "ipython",
    "version": 3
   },
   "file_extension": ".py",
   "mimetype": "text/x-python",
   "name": "python",
   "nbconvert_exporter": "python",
   "pygments_lexer": "ipython3",
   "version": "3.9.0"
  }
 },
 "nbformat": 4,
 "nbformat_minor": 2
}

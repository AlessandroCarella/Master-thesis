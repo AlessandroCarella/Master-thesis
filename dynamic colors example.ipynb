{
 "cells": [
  {
   "cell_type": "code",
   "execution_count": 1,
   "metadata": {},
   "outputs": [],
   "source": [
    "import numpy as np\n",
    "from sklearn.decomposition import PCA\n",
    "from sklearn.preprocessing import MinMaxScaler\n",
    "from matplotlib.colors import rgb2hex"
   ]
  },
  {
   "cell_type": "code",
   "execution_count": 2,
   "metadata": {},
   "outputs": [],
   "source": [
    "\n",
    "def compute_centroids(X, y):\n",
    "    \"\"\"\n",
    "    Compute centroids for each class in the dataset.\n",
    "    \n",
    "    Parameters:\n",
    "    - X: feature matrix\n",
    "    - y: target values\n",
    "    \n",
    "    Returns:\n",
    "    - Dictionary mapping class labels to centroids\n",
    "    \"\"\"\n",
    "    unique_classes = np.unique(y)\n",
    "    centroids = {}\n",
    "    \n",
    "    for cls in unique_classes:\n",
    "        class_samples = X[y == cls]\n",
    "        centroids[cls] = np.mean(class_samples, axis=0)\n",
    "    \n",
    "    return centroids\n",
    "\n",
    "def project_to_rgb(centroids):\n",
    "    \"\"\"\n",
    "    Project centroids to RGB color space.\n",
    "    \n",
    "    Parameters:\n",
    "    - centroids: Dictionary mapping class labels to centroids\n",
    "    \n",
    "    Returns:\n",
    "    - Dictionary mapping class labels to RGB colors\n",
    "    \"\"\"\n",
    "    labels = list(centroids.keys())\n",
    "    centroid_matrix = np.array([centroids[label] for label in labels])\n",
    "    \n",
    "    # Use PCA to reduce to 3 dimensions\n",
    "    if centroid_matrix.shape[1] > 3:\n",
    "        pca = PCA(n_components=3)\n",
    "        reduced_centroids = pca.fit_transform(centroid_matrix)\n",
    "    else:\n",
    "        reduced_centroids = centroid_matrix\n",
    "    \n",
    "    # Scale to [0, 1] range for RGB\n",
    "    scaler = MinMaxScaler(feature_range=(0, 1))\n",
    "    rgb_values = scaler.fit_transform(reduced_centroids)\n",
    "    \n",
    "    # Create dictionary mapping labels to RGB colors\n",
    "    colors = {label: rgb_values[i] for i, label in enumerate(labels)}\n",
    "    return colors"
   ]
  },
  {
   "cell_type": "code",
   "execution_count": 3,
   "metadata": {},
   "outputs": [],
   "source": [
    "def get_class_colors(X, y):\n",
    "    \"\"\"\n",
    "    Main function to compute and assign colors to classes based on centroid similarity.\n",
    "    \n",
    "    Parameters:\n",
    "    - X: feature matrix\n",
    "    - y: target values\n",
    "    - target_names: Optional mapping from class labels to human-readable names\n",
    "    - visualize: Whether to visualize the results\n",
    "    \n",
    "    Returns:\n",
    "    - Dictionary mapping class labels to RGB colors\n",
    "    \"\"\"\n",
    "    # Compute centroids\n",
    "    centroids = compute_centroids(X, y)\n",
    "    \n",
    "    # Project centroids to RGB space\n",
    "    colors = project_to_rgb(centroids)\n",
    "    \n",
    "    return colors, centroids"
   ]
  },
  {
   "cell_type": "code",
   "execution_count": 4,
   "metadata": {},
   "outputs": [
    {
     "name": "stdout",
     "output_type": "stream",
     "text": [
      "\n",
      "Assigned RGB Colors:\n",
      "setosa: RGB(1.0, 0.205, 0.0) (Hex: #ff3400)\n",
      "versicolor: RGB(0.329, 1.0, 0.0) (Hex: #54ff00)\n",
      "virginica: RGB(0.0, 0.0, 0.0) (Hex: #000000)\n"
     ]
    }
   ],
   "source": [
    "from sklearn.datasets import load_iris\n",
    "\n",
    "# Load dataset\n",
    "data = load_iris()\n",
    "X = data.data\n",
    "y = data.target\n",
    "target_names = data.target_names\n",
    "\n",
    "# Get colors\n",
    "colors, centroids = get_class_colors(X, y)\n",
    "\n",
    "# Print RGB values for each class\n",
    "print(\"\\nAssigned RGB Colors:\")\n",
    "for label, color in colors.items():\n",
    "    print(f\"{target_names[label]}: RGB{tuple(np.round(color, 3))} (Hex: {rgb2hex(color)})\")"
   ]
  },
  {
   "cell_type": "code",
   "execution_count": 5,
   "metadata": {},
   "outputs": [
    {
     "name": "stdout",
     "output_type": "stream",
     "text": [
      "\n",
      "Assigned RGB Colors:\n",
      "0: RGB(1.0, 0.253, 0.208) (Hex: #ff4135)\n",
      "1: RGB(0.0, 1.0, 0.307) (Hex: #00ff4e)\n",
      "2: RGB(0.437, 0.718, 0.725) (Hex: #70b7b9)\n",
      "3: RGB(0.451, 0.766, 0.0) (Hex: #73c300)\n",
      "4: RGB(0.19, 0.0, 0.567) (Hex: #300091)\n",
      "5: RGB(0.47, 0.477, 0.127) (Hex: #787a20)\n",
      "6: RGB(0.458, 0.429, 1.0) (Hex: #756dff)\n",
      "7: RGB(0.115, 0.017, 0.087) (Hex: #1d0416)\n",
      "8: RGB(0.353, 0.608, 0.257) (Hex: #5a9b42)\n",
      "9: RGB(0.146, 0.023, 0.298) (Hex: #25064c)\n"
     ]
    }
   ],
   "source": [
    "from tensorflow.keras.datasets import mnist\n",
    "\n",
    "# Load MNIST dataset\n",
    "(X_train, y_train), (_, _) = mnist.load_data()\n",
    "\n",
    "# Flatten images\n",
    "X_train = X_train.reshape(X_train.shape[0], -1)\n",
    "\n",
    "colors, centroids = get_class_colors(X_train, y_train)\n",
    "\n",
    "# Print RGB values for each class\n",
    "print(\"\\nAssigned RGB Colors:\")\n",
    "for label, color in colors.items():\n",
    "    print(f\"{label}: RGB{tuple(np.round(color, 3))} (Hex: {rgb2hex(color)})\")"
   ]
  }
 ],
 "metadata": {
  "kernelspec": {
   "display_name": "Python 3",
   "language": "python",
   "name": "python3"
  },
  "language_info": {
   "codemirror_mode": {
    "name": "ipython",
    "version": 3
   },
   "file_extension": ".py",
   "mimetype": "text/x-python",
   "name": "python",
   "nbconvert_exporter": "python",
   "pygments_lexer": "ipython3",
   "version": "3.9.0"
  }
 },
 "nbformat": 4,
 "nbformat_minor": 2
}

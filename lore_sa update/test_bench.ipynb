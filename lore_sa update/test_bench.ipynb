{
 "cells": [
  {
   "cell_type": "code",
   "execution_count": 1,
   "id": "e5144e0a",
   "metadata": {},
   "outputs": [],
   "source": [
    "from lore_sa.dataset import TabularDataset"
   ]
  },
  {
   "cell_type": "code",
   "execution_count": 2,
   "id": "66c360ef",
   "metadata": {
    "ExecuteTime": {
     "end_time": "2024-07-01T09:13:06.822427Z",
     "start_time": "2024-07-01T09:13:06.227080Z"
    }
   },
   "outputs": [],
   "source": [
    "dataset = TabularDataset.from_csv('iris.csv', class_name = \"variety\")\n",
    "dataset.df.dropna(inplace = True)"
   ]
  },
  {
   "cell_type": "code",
   "execution_count": 3,
   "id": "213cddc1",
   "metadata": {},
   "outputs": [
    {
     "data": {
      "text/plain": [
       "Index(['sepal.length', 'sepal.width', 'petal.length', 'petal.width',\n",
       "       'variety'],\n",
       "      dtype='object')"
      ]
     },
     "execution_count": 3,
     "metadata": {},
     "output_type": "execute_result"
    }
   ],
   "source": [
    "dataset.df.keys()"
   ]
  },
  {
   "cell_type": "code",
   "execution_count": 4,
   "id": "a974d87a",
   "metadata": {
    "ExecuteTime": {
     "end_time": "2024-07-01T09:21:25.971357Z",
     "start_time": "2024-07-01T09:21:25.698303Z"
    }
   },
   "outputs": [],
   "source": [
    "dataset.update_descriptor()"
   ]
  },
  {
   "cell_type": "code",
   "execution_count": 5,
   "id": "adb3009d21ac3996",
   "metadata": {
    "ExecuteTime": {
     "end_time": "2024-07-01T09:33:08.224084Z",
     "start_time": "2024-07-01T09:33:08.209156Z"
    }
   },
   "outputs": [],
   "source": [
    "from sklearn.pipeline import make_pipeline\n",
    "from sklearn.preprocessing import StandardScaler, OrdinalEncoder\n",
    "from sklearn.compose import ColumnTransformer\n",
    "from sklearn.ensemble import RandomForestClassifier\n",
    "from sklearn.model_selection import train_test_split\n",
    "from lore_sa.bbox import sklearn_classifier_bbox\n",
    "\n",
    "\n",
    "def train_model(dataset: TabularDataset):\n",
    "    numeric_indices = [v['index'] for v in dataset.descriptor['numeric'].values()]\n",
    "    categorical_indices = [v['index'] for v in dataset.descriptor['categorical'].values()]\n",
    "    preprocessor = ColumnTransformer(\n",
    "        transformers=[\n",
    "            ('num', StandardScaler(), numeric_indices),\n",
    "            ('cat', OrdinalEncoder(), categorical_indices)\n",
    "        ]\n",
    "    )\n",
    "    model = make_pipeline(preprocessor, RandomForestClassifier(n_estimators=100, random_state=42))\n",
    "    \n",
    "    X_train, X_test, y_train, y_test = train_test_split(dataset.df.loc[:, 'sepal.length':'petal.width'].values, dataset.df['variety'].values,\n",
    "                test_size=0.3, random_state=42, stratify=dataset.df['variety'].values)\n",
    "    model.fit(X_train, y_train)\n",
    "    \n",
    "    return sklearn_classifier_bbox.sklearnBBox(model)"
   ]
  },
  {
   "cell_type": "code",
   "execution_count": 6,
   "id": "5249087cf760cf4f",
   "metadata": {
    "ExecuteTime": {
     "end_time": "2024-07-01T09:33:09.806446Z",
     "start_time": "2024-07-01T09:33:08.432660Z"
    }
   },
   "outputs": [],
   "source": [
    "bbox = train_model(dataset)"
   ]
  },
  {
   "cell_type": "code",
   "execution_count": 7,
   "id": "96805c27b65ef473",
   "metadata": {
    "ExecuteTime": {
     "end_time": "2024-07-01T09:36:30.604558Z",
     "start_time": "2024-07-01T09:36:30.583912Z"
    }
   },
   "outputs": [],
   "source": [
    "from lore_sa.lore import TabularGeneticGeneratorLore\n",
    "\n",
    "tabularLore = TabularGeneticGeneratorLore(bbox, dataset)"
   ]
  },
  {
   "cell_type": "code",
   "execution_count": 8,
   "id": "76891ffe",
   "metadata": {},
   "outputs": [
    {
     "data": {
      "text/plain": [
       "(['sepal.length', 'sepal.width', 'petal.length', 'petal.width'],\n",
       " dict_keys(['numeric', 'categorical', 'ordinal', 'target']))"
      ]
     },
     "execution_count": 8,
     "metadata": {},
     "output_type": "execute_result"
    }
   ],
   "source": [
    "out = []\n",
    "for k in dataset.descriptor.keys():\n",
    "    if k != 'target':\n",
    "        out.extend(list(dataset.descriptor[k].keys()))\n",
    "out, dataset.descriptor.keys()"
   ]
  },
  {
   "cell_type": "code",
   "execution_count": 9,
   "id": "44da9354",
   "metadata": {},
   "outputs": [
    {
     "data": {
      "text/plain": [
       "{'variety': {'index': 4,\n",
       "  'distinct_values': ['Setosa', 'Versicolor', 'Virginica'],\n",
       "  'count': {'Setosa': 50, 'Versicolor': 50, 'Virginica': 50}}}"
      ]
     },
     "execution_count": 9,
     "metadata": {},
     "output_type": "execute_result"
    }
   ],
   "source": [
    "dataset.descriptor[\"target\"]"
   ]
  },
  {
   "cell_type": "code",
   "execution_count": 10,
   "id": "a74e4711",
   "metadata": {},
   "outputs": [],
   "source": [
    "from lore_sa.webapp import Webapp\n",
    "webapp = Webapp()"
   ]
  },
  {
   "cell_type": "code",
   "execution_count": null,
   "id": "5b4ac621",
   "metadata": {},
   "outputs": [
    {
     "name": "stderr",
     "output_type": "stream",
     "text": [
      "INFO:     Started server process [17388]\n",
      "INFO:     Waiting for application startup.\n",
      "INFO:     Application startup complete.\n",
      "INFO:     Uvicorn running on http://0.0.0.0:8000 (Press CTRL+C to quit)\n"
     ]
    },
    {
     "name": "stdout",
     "output_type": "stream",
     "text": [
      "Launching LORE_sa Demo Application\n",
      "==================================================\n",
      "Starting API server on 0.0.0.0:8000\n",
      "INFO:     127.0.0.1:54554 - \"GET /api/get-datasets HTTP/1.1\" 200 OK\n",
      "API server is ready at http://localhost:8000\n"
     ]
    },
    {
     "ename": "NPMClientError",
     "evalue": "NPM is not installed or not accessible.\n            \nPlease install Node.js and npm from here https://nodejs.org/en/download/ first.\n            \nVersions used for development:\n                \n\tNPM version: 10.7.0\n                \n\tNode.js version: 20.15.1\n            ",
     "output_type": "error",
     "traceback": [
      "\u001b[1;31m---------------------------------------------------------------------------\u001b[0m",
      "\u001b[1;31mCalledProcessError\u001b[0m                        Traceback (most recent call last)",
      "File \u001b[1;32mc:\\Users\\Ale\\Desktop\\Master-thesis\\lore_sa update\\lore_sa\\webapp\\webapp_npm.py:16\u001b[0m, in \u001b[0;36mcheck_npm_installed\u001b[1;34m()\u001b[0m\n\u001b[0;32m     15\u001b[0m \u001b[38;5;28;01mtry\u001b[39;00m:\n\u001b[1;32m---> 16\u001b[0m     result \u001b[38;5;241m=\u001b[39m \u001b[43msubprocess\u001b[49m\u001b[38;5;241;43m.\u001b[39;49m\u001b[43mrun\u001b[49m\u001b[43m(\u001b[49m\n\u001b[0;32m     17\u001b[0m \u001b[43m        \u001b[49m\u001b[43m[\u001b[49m\u001b[38;5;124;43m\"\u001b[39;49m\u001b[38;5;124;43mnpm\u001b[39;49m\u001b[38;5;124;43m\"\u001b[39;49m\u001b[43m,\u001b[49m\u001b[43m \u001b[49m\u001b[38;5;124;43m\"\u001b[39;49m\u001b[38;5;124;43m--version\u001b[39;49m\u001b[38;5;124;43m\"\u001b[39;49m\u001b[43m]\u001b[49m\u001b[43m,\u001b[49m\u001b[43m \u001b[49m\n\u001b[0;32m     18\u001b[0m \u001b[43m        \u001b[49m\u001b[43mcapture_output\u001b[49m\u001b[38;5;241;43m=\u001b[39;49m\u001b[38;5;28;43;01mTrue\u001b[39;49;00m\u001b[43m,\u001b[49m\u001b[43m \u001b[49m\n\u001b[0;32m     19\u001b[0m \u001b[43m        \u001b[49m\u001b[43mtext\u001b[49m\u001b[38;5;241;43m=\u001b[39;49m\u001b[38;5;28;43;01mTrue\u001b[39;49;00m\u001b[43m,\u001b[49m\u001b[43m \u001b[49m\n\u001b[0;32m     20\u001b[0m \u001b[43m        \u001b[49m\u001b[43mcheck\u001b[49m\u001b[38;5;241;43m=\u001b[39;49m\u001b[38;5;28;43;01mTrue\u001b[39;49;00m\u001b[43m,\u001b[49m\n\u001b[0;32m     21\u001b[0m \u001b[43m        \u001b[49m\u001b[43mshell\u001b[49m\u001b[38;5;241;43m=\u001b[39;49m\u001b[38;5;28;43;01mTrue\u001b[39;49;00m\u001b[43m \u001b[49m\u001b[38;5;28;43;01mif\u001b[39;49;00m\u001b[43m \u001b[49m\u001b[43msys\u001b[49m\u001b[38;5;241;43m.\u001b[39;49m\u001b[43mplatform\u001b[49m\u001b[43m \u001b[49m\u001b[38;5;241;43m==\u001b[39;49m\u001b[43m \u001b[49m\u001b[38;5;124;43m\"\u001b[39;49m\u001b[38;5;124;43mwin32\u001b[39;49m\u001b[38;5;124;43m\"\u001b[39;49m\u001b[43m \u001b[49m\u001b[38;5;28;43;01melse\u001b[39;49;00m\u001b[43m \u001b[49m\u001b[38;5;28;43;01mFalse\u001b[39;49;00m\n\u001b[0;32m     22\u001b[0m \u001b[43m    \u001b[49m\u001b[43m)\u001b[49m\n\u001b[0;32m     23\u001b[0m     \u001b[38;5;28mprint\u001b[39m(\u001b[38;5;124mf\u001b[39m\u001b[38;5;124m\"\u001b[39m\u001b[38;5;124mNPM version detected: \u001b[39m\u001b[38;5;132;01m{\u001b[39;00mresult\u001b[38;5;241m.\u001b[39mstdout\u001b[38;5;241m.\u001b[39mstrip()\u001b[38;5;132;01m}\u001b[39;00m\u001b[38;5;124m\"\u001b[39m)\n",
      "File \u001b[1;32mc:\\Users\\Ale\\AppData\\Local\\Programs\\Python\\Python39\\lib\\subprocess.py:524\u001b[0m, in \u001b[0;36mrun\u001b[1;34m(input, capture_output, timeout, check, *popenargs, **kwargs)\u001b[0m\n\u001b[0;32m    523\u001b[0m     \u001b[38;5;28;01mif\u001b[39;00m check \u001b[38;5;129;01mand\u001b[39;00m retcode:\n\u001b[1;32m--> 524\u001b[0m         \u001b[38;5;28;01mraise\u001b[39;00m CalledProcessError(retcode, process\u001b[38;5;241m.\u001b[39margs,\n\u001b[0;32m    525\u001b[0m                                  output\u001b[38;5;241m=\u001b[39mstdout, stderr\u001b[38;5;241m=\u001b[39mstderr)\n\u001b[0;32m    526\u001b[0m \u001b[38;5;28;01mreturn\u001b[39;00m CompletedProcess(process\u001b[38;5;241m.\u001b[39margs, retcode, stdout, stderr)\n",
      "\u001b[1;31mCalledProcessError\u001b[0m: Command '['npm', '--version']' returned non-zero exit status 1.",
      "\nThe above exception was the direct cause of the following exception:\n",
      "\u001b[1;31mNPMClientError\u001b[0m                            Traceback (most recent call last)",
      "Cell \u001b[1;32mIn[11], line 1\u001b[0m\n\u001b[1;32m----> 1\u001b[0m \u001b[43mwebapp\u001b[49m\u001b[38;5;241;43m.\u001b[39;49m\u001b[43mlaunch_demo\u001b[49m\u001b[43m(\u001b[49m\u001b[43m)\u001b[49m\n\u001b[0;32m      2\u001b[0m \u001b[38;5;66;03m# webapp.interactive_explanation(tabularLore.bbox, tabularLore.dataset, 'variety')\u001b[39;00m\n",
      "File \u001b[1;32mc:\\Users\\Ale\\Desktop\\Master-thesis\\lore_sa update\\lore_sa\\webapp\\webapp.py:182\u001b[0m, in \u001b[0;36mWebapp.launch_demo\u001b[1;34m(self, inJupyter, width, height, scale, title)\u001b[0m\n\u001b[0;32m    179\u001b[0m webapp_state\u001b[38;5;241m.\u001b[39mdataset_name \u001b[38;5;241m=\u001b[39m \u001b[38;5;28;01mNone\u001b[39;00m\n\u001b[0;32m    181\u001b[0m \u001b[38;5;66;03m# Launch the webapp with demo parameters\u001b[39;00m\n\u001b[1;32m--> 182\u001b[0m \u001b[38;5;28;43mself\u001b[39;49m\u001b[38;5;241;43m.\u001b[39;49m\u001b[43m_launch_webapp\u001b[49m\u001b[43m(\u001b[49m\n\u001b[0;32m    183\u001b[0m \u001b[43m    \u001b[49m\u001b[43minJupyter\u001b[49m\u001b[38;5;241;43m=\u001b[39;49m\u001b[43minJupyter\u001b[49m\u001b[43m,\u001b[49m\n\u001b[0;32m    184\u001b[0m \u001b[43m    \u001b[49m\u001b[43mwidth\u001b[49m\u001b[38;5;241;43m=\u001b[39;49m\u001b[43mwidth\u001b[49m\u001b[43m,\u001b[49m\u001b[43m \u001b[49m\n\u001b[0;32m    185\u001b[0m \u001b[43m    \u001b[49m\u001b[43mheight\u001b[49m\u001b[38;5;241;43m=\u001b[39;49m\u001b[43mheight\u001b[49m\u001b[43m,\u001b[49m\u001b[43m \u001b[49m\n\u001b[0;32m    186\u001b[0m \u001b[43m    \u001b[49m\u001b[43mscale\u001b[49m\u001b[38;5;241;43m=\u001b[39;49m\u001b[43mscale\u001b[49m\u001b[43m,\u001b[49m\u001b[43m \u001b[49m\n\u001b[0;32m    187\u001b[0m \u001b[43m    \u001b[49m\u001b[43mtitle\u001b[49m\u001b[38;5;241;43m=\u001b[39;49m\u001b[43mtitle\u001b[49m\n\u001b[0;32m    188\u001b[0m \u001b[43m\u001b[49m\u001b[43m)\u001b[49m\n",
      "File \u001b[1;32mc:\\Users\\Ale\\Desktop\\Master-thesis\\lore_sa update\\lore_sa\\webapp\\webapp.py:149\u001b[0m, in \u001b[0;36mWebapp._launch_webapp\u001b[1;34m(self, inJupyter, width, height, scale, title)\u001b[0m\n\u001b[0;32m    146\u001b[0m     \u001b[38;5;28;01mreturn\u001b[39;00m \u001b[38;5;28;01mNone\u001b[39;00m, \u001b[38;5;28;01mNone\u001b[39;00m\n\u001b[0;32m    148\u001b[0m \u001b[38;5;66;03m# Start client\u001b[39;00m\n\u001b[1;32m--> 149\u001b[0m client_process, actual_client_port \u001b[38;5;241m=\u001b[39m \u001b[43mstart_client\u001b[49m\u001b[43m(\u001b[49m\u001b[38;5;28;43mself\u001b[39;49m\u001b[38;5;241;43m.\u001b[39;49m\u001b[43mclient_port\u001b[49m\u001b[43m)\u001b[49m\n\u001b[0;32m    150\u001b[0m \u001b[38;5;28;01mif\u001b[39;00m \u001b[38;5;129;01mnot\u001b[39;00m client_process \u001b[38;5;129;01mor\u001b[39;00m actual_client_port \u001b[38;5;129;01mis\u001b[39;00m \u001b[38;5;28;01mNone\u001b[39;00m:\n\u001b[0;32m    151\u001b[0m     \u001b[38;5;28mprint\u001b[39m(\u001b[38;5;124m\"\u001b[39m\u001b[38;5;124mFailed to start client. Exiting...\u001b[39m\u001b[38;5;124m\"\u001b[39m)\n",
      "File \u001b[1;32mc:\\Users\\Ale\\Desktop\\Master-thesis\\lore_sa update\\lore_sa\\webapp\\webapp_npm.py:119\u001b[0m, in \u001b[0;36mstart_client\u001b[1;34m(port, auto_install, env_vars)\u001b[0m\n\u001b[0;32m    104\u001b[0m \u001b[38;5;28;01mdef\u001b[39;00m\u001b[38;5;250m \u001b[39m\u001b[38;5;21mstart_client\u001b[39m(port\u001b[38;5;241m=\u001b[39m\u001b[38;5;28;01mNone\u001b[39;00m, auto_install\u001b[38;5;241m=\u001b[39m\u001b[38;5;28;01mTrue\u001b[39;00m, env_vars\u001b[38;5;241m=\u001b[39m\u001b[38;5;28;01mNone\u001b[39;00m):\n\u001b[0;32m    105\u001b[0m \u001b[38;5;250m    \u001b[39m\u001b[38;5;124;03m\"\"\"\u001b[39;00m\n\u001b[0;32m    106\u001b[0m \u001b[38;5;124;03m    Start the npm client on an available port.\u001b[39;00m\n\u001b[0;32m    107\u001b[0m \u001b[38;5;124;03m    \u001b[39;00m\n\u001b[1;32m   (...)\u001b[0m\n\u001b[0;32m    117\u001b[0m \u001b[38;5;124;03m        NPMClientError: If npm is not installed or other setup issues occur.\u001b[39;00m\n\u001b[0;32m    118\u001b[0m \u001b[38;5;124;03m    \"\"\"\u001b[39;00m\n\u001b[1;32m--> 119\u001b[0m     \u001b[43mcheck_npm_installed\u001b[49m\u001b[43m(\u001b[49m\u001b[43m)\u001b[49m\n\u001b[0;32m    121\u001b[0m     npm_directory \u001b[38;5;241m=\u001b[39m get_npm_directory()\n\u001b[0;32m    123\u001b[0m     \u001b[38;5;28;01mif\u001b[39;00m auto_install:\n",
      "File \u001b[1;32mc:\\Users\\Ale\\Desktop\\Master-thesis\\lore_sa update\\lore_sa\\webapp\\webapp_npm.py:26\u001b[0m, in \u001b[0;36mcheck_npm_installed\u001b[1;34m()\u001b[0m\n\u001b[0;32m     24\u001b[0m     \u001b[38;5;28;01mreturn\u001b[39;00m \u001b[38;5;28;01mTrue\u001b[39;00m\n\u001b[0;32m     25\u001b[0m \u001b[38;5;28;01mexcept\u001b[39;00m (subprocess\u001b[38;5;241m.\u001b[39mCalledProcessError, \u001b[38;5;167;01mFileNotFoundError\u001b[39;00m) \u001b[38;5;28;01mas\u001b[39;00m e:\n\u001b[1;32m---> 26\u001b[0m     \u001b[38;5;28;01mraise\u001b[39;00m NPMClientError(\n\u001b[0;32m     27\u001b[0m \u001b[38;5;250m        \u001b[39m\u001b[38;5;124;03m\"\"\"NPM is not installed or not accessible.\u001b[39;00m\n\u001b[0;32m     28\u001b[0m \u001b[38;5;124;03m        \\nPlease install Node.js and npm from here https://nodejs.org/en/download/ first.\u001b[39;00m\n\u001b[0;32m     29\u001b[0m \u001b[38;5;124;03m        \\nVersions used for development:\u001b[39;00m\n\u001b[0;32m     30\u001b[0m \u001b[38;5;124;03m            \\n\\tNPM version: 10.7.0\u001b[39;00m\n\u001b[0;32m     31\u001b[0m \u001b[38;5;124;03m            \\n\\tNode.js version: 20.15.1\u001b[39;00m\n\u001b[0;32m     32\u001b[0m \u001b[38;5;124;03m        \"\"\"\u001b[39;00m\n\u001b[0;32m     33\u001b[0m     ) \u001b[38;5;28;01mfrom\u001b[39;00m\u001b[38;5;250m \u001b[39m\u001b[38;5;21;01me\u001b[39;00m\n",
      "\u001b[1;31mNPMClientError\u001b[0m: NPM is not installed or not accessible.\n            \nPlease install Node.js and npm from here https://nodejs.org/en/download/ first.\n            \nVersions used for development:\n                \n\tNPM version: 10.7.0\n                \n\tNode.js version: 20.15.1\n            "
     ]
    },
    {
     "name": "stdout",
     "output_type": "stream",
     "text": [
      "INFO:     127.0.0.1:53495 - \"GET /api/get-datasets HTTP/1.1\" 200 OK\n",
      "INFO:     127.0.0.1:53539 - \"GET /api/get-datasets HTTP/1.1\" 200 OK\n",
      "INFO:     127.0.0.1:53566 - \"GET /api/get-datasets HTTP/1.1\" 200 OK\n",
      "INFO:     127.0.0.1:53581 - \"GET /api/get-datasets HTTP/1.1\" 200 OK\n"
     ]
    }
   ],
   "source": [
    "webapp.launch_demo()\n",
    "# webapp.interactive_explanation(tabularLore.bbox, tabularLore.dataset, 'variety')"
   ]
  }
 ],
 "metadata": {
  "kernelspec": {
   "display_name": "Python 3",
   "language": "python",
   "name": "python3"
  },
  "language_info": {
   "codemirror_mode": {
    "name": "ipython",
    "version": 3
   },
   "file_extension": ".py",
   "mimetype": "text/x-python",
   "name": "python",
   "nbconvert_exporter": "python",
   "pygments_lexer": "ipython3",
   "version": "3.9.0"
  }
 },
 "nbformat": 4,
 "nbformat_minor": 5
}

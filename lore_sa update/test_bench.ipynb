{
 "cells": [
  {
   "cell_type": "code",
   "execution_count": 1,
   "id": "e5144e0a",
   "metadata": {},
   "outputs": [],
   "source": [
    "from lore_sa.dataset import TabularDataset\n",
    "from lore_sa.lore import TabularGeneticGeneratorLore"
   ]
  },
  {
   "cell_type": "code",
   "execution_count": 2,
   "id": "1614f5c1",
   "metadata": {},
   "outputs": [],
   "source": [
    "target = 'income'"
   ]
  },
  {
   "cell_type": "code",
   "execution_count": 3,
   "id": "66c360ef",
   "metadata": {
    "ExecuteTime": {
     "end_time": "2024-07-01T09:13:06.822427Z",
     "start_time": "2024-07-01T09:13:06.227080Z"
    }
   },
   "outputs": [],
   "source": [
    "dataset = TabularDataset.from_csv('adult.csv', class_name = target)\n",
    "dataset.df.dropna(inplace = True)"
   ]
  },
  {
   "cell_type": "code",
   "execution_count": 4,
   "id": "213cddc1",
   "metadata": {},
   "outputs": [
    {
     "data": {
      "text/plain": [
       "Index(['age', 'workclass', 'fnlwgt', 'education', 'educational-num',\n",
       "       'marital-status', 'occupation', 'relationship', 'race', 'gender',\n",
       "       'capital-gain', 'capital-loss', 'hours-per-week', 'native-country',\n",
       "       'income'],\n",
       "      dtype='object')"
      ]
     },
     "execution_count": 4,
     "metadata": {},
     "output_type": "execute_result"
    }
   ],
   "source": [
    "dataset.df.keys()"
   ]
  },
  {
   "cell_type": "code",
   "execution_count": 5,
   "id": "ba3937ac",
   "metadata": {},
   "outputs": [],
   "source": [
    "dataset.df.drop([\"marital-status\", \"fnlwgt\", \"educational-num\", \"occupation\", \"native-country\"], axis=1, inplace=True)"
   ]
  },
  {
   "cell_type": "code",
   "execution_count": 6,
   "id": "a974d87a",
   "metadata": {
    "ExecuteTime": {
     "end_time": "2024-07-01T09:21:25.971357Z",
     "start_time": "2024-07-01T09:21:25.698303Z"
    }
   },
   "outputs": [],
   "source": [
    "dataset.update_descriptor()"
   ]
  },
  {
   "cell_type": "code",
   "execution_count": 7,
   "id": "adb3009d21ac3996",
   "metadata": {
    "ExecuteTime": {
     "end_time": "2024-07-01T09:33:08.224084Z",
     "start_time": "2024-07-01T09:33:08.209156Z"
    }
   },
   "outputs": [],
   "source": [
    "from sklearn.pipeline import make_pipeline\n",
    "from sklearn.preprocessing import StandardScaler, OrdinalEncoder\n",
    "from sklearn.compose import ColumnTransformer\n",
    "from sklearn.ensemble import RandomForestClassifier\n",
    "from sklearn.model_selection import train_test_split\n",
    "from lore_sa.bbox import sklearn_classifier_bbox\n",
    "\n",
    "def train_model(dataset: TabularDataset):\n",
    "    numeric_indices = [v['index'] for v in dataset.descriptor['numeric'].values()]\n",
    "    categorical_indices = [v['index'] for v in dataset.descriptor['categorical'].values()]\n",
    "    preprocessor = ColumnTransformer(\n",
    "        transformers=[\n",
    "            ('num', StandardScaler(), numeric_indices),\n",
    "            ('cat', OrdinalEncoder(), categorical_indices)\n",
    "        ]\n",
    "    )\n",
    "    model = make_pipeline(preprocessor, RandomForestClassifier(n_estimators=100, random_state=42))\n",
    "    \n",
    "    X = dataset.df.drop([target], axis=1)\n",
    "    X_train, X_test, y_train, y_test = train_test_split(X.values, dataset.df[target].values,\n",
    "                test_size=0.3, random_state=42, stratify=dataset.df[target].values)\n",
    "    model.fit(X_train, y_train)\n",
    "    \n",
    "    return sklearn_classifier_bbox.sklearnBBox(model)"
   ]
  },
  {
   "cell_type": "code",
   "execution_count": 8,
   "id": "5249087cf760cf4f",
   "metadata": {
    "ExecuteTime": {
     "end_time": "2024-07-01T09:33:09.806446Z",
     "start_time": "2024-07-01T09:33:08.432660Z"
    }
   },
   "outputs": [],
   "source": [
    "bbox = train_model(dataset)"
   ]
  },
  {
   "cell_type": "code",
   "execution_count": 9,
   "id": "96805c27b65ef473",
   "metadata": {
    "ExecuteTime": {
     "end_time": "2024-07-01T09:36:30.604558Z",
     "start_time": "2024-07-01T09:36:30.583912Z"
    }
   },
   "outputs": [],
   "source": [
    "tabularLore = TabularGeneticGeneratorLore(bbox, dataset)"
   ]
  },
  {
   "cell_type": "code",
   "execution_count": 10,
   "id": "76891ffe",
   "metadata": {},
   "outputs": [
    {
     "data": {
      "text/plain": [
       "(['age',\n",
       "  'capital-gain',\n",
       "  'capital-loss',\n",
       "  'hours-per-week',\n",
       "  'workclass',\n",
       "  'education',\n",
       "  'relationship',\n",
       "  'race',\n",
       "  'gender'],\n",
       " dict_keys(['numeric', 'categorical', 'ordinal', 'target']))"
      ]
     },
     "execution_count": 10,
     "metadata": {},
     "output_type": "execute_result"
    }
   ],
   "source": [
    "out = []\n",
    "for k in dataset.descriptor.keys():\n",
    "    if k != 'target':\n",
    "        out.extend(list(dataset.descriptor[k].keys()))\n",
    "out, dataset.descriptor.keys()"
   ]
  },
  {
   "cell_type": "code",
   "execution_count": 11,
   "id": "44da9354",
   "metadata": {},
   "outputs": [
    {
     "data": {
      "text/plain": [
       "{'income': {'index': 9,\n",
       "  'distinct_values': ['>50K', '<=50K'],\n",
       "  'count': {'>50K': 559, '<=50K': 1697}}}"
      ]
     },
     "execution_count": 11,
     "metadata": {},
     "output_type": "execute_result"
    }
   ],
   "source": [
    "dataset.descriptor[\"target\"]"
   ]
  },
  {
   "cell_type": "code",
   "execution_count": 12,
   "id": "f12adf21",
   "metadata": {},
   "outputs": [],
   "source": [
    "x = (dataset.df.drop([target], axis=1)).iloc[1]"
   ]
  },
  {
   "cell_type": "code",
   "execution_count": 13,
   "id": "cd1f4ee3",
   "metadata": {},
   "outputs": [],
   "source": [
    "# tabularLore.explain(x)"
   ]
  },
  {
   "cell_type": "code",
   "execution_count": 14,
   "id": "0b1aaead",
   "metadata": {},
   "outputs": [
    {
     "name": "stdout",
     "output_type": "stream",
     "text": [
      "age 49\n",
      "workclass Private\n",
      "education Doctorate\n",
      "relationship Unmarried\n",
      "race White\n",
      "gender Male\n",
      "capital-gain 7430\n",
      "capital-loss 0\n",
      "hours-per-week 40\n"
     ]
    }
   ],
   "source": [
    "for k,v in x.items():\n",
    "    print (k,v)"
   ]
  },
  {
   "cell_type": "code",
   "execution_count": 15,
   "id": "d3dd5465",
   "metadata": {},
   "outputs": [],
   "source": [
    "# tabularLore.interactive_explanation(x, inJupyter=False)"
   ]
  },
  {
   "cell_type": "code",
   "execution_count": 16,
   "id": "5e645233",
   "metadata": {},
   "outputs": [],
   "source": [
    "# tabularLore.interactive_explanation(inJupyter=False)"
   ]
  },
  {
   "cell_type": "code",
   "execution_count": 17,
   "id": "80168e86",
   "metadata": {},
   "outputs": [],
   "source": [
    "from lore_sa.webapp import Webapp\n",
    "webapp = Webapp()"
   ]
  },
  {
   "cell_type": "code",
   "execution_count": null,
   "id": "4fa0c73b",
   "metadata": {},
   "outputs": [
    {
     "name": "stderr",
     "output_type": "stream",
     "text": [
      "INFO:     Started server process [6580]\n",
      "INFO:     Waiting for application startup.\n",
      "INFO:     Application startup complete.\n",
      "INFO:     Uvicorn running on http://0.0.0.0:8000 (Press CTRL+C to quit)\n"
     ]
    },
    {
     "name": "stdout",
     "output_type": "stream",
     "text": [
      "Launching LORE_sa Demo Application\n",
      "==================================================\n",
      "Starting API server on 0.0.0.0:8000\n",
      "INFO:     127.0.0.1:54657 - \"GET /api/get-datasets HTTP/1.1\" 200 OK\n",
      "API server is ready at http://localhost:8000\n",
      "NPM version detected: 10.9.3\n",
      "Dependencies already installed, skipping npm install\n",
      "Application started successfully!\n",
      "API: http://localhost:8000/docs#/\n",
      "Client: http://localhost:8080\n",
      "==================================================\n",
      "Opening http://localhost:8080 in your default browser...\n",
      "Browser opened successfully!\n"
     ]
    },
    {
     "name": "stdout",
     "output_type": "stream",
     "text": [
      "INFO:     127.0.0.1:53946 - \"OPTIONS /api/check-custom-data HTTP/1.1\" 200 OK\n",
      "INFO:     127.0.0.1:53946 - \"GET /api/check-custom-data HTTP/1.1\" 200 OK\n",
      "INFO:     127.0.0.1:53946 - \"GET /api/get-datasets HTTP/1.1\" 200 OK\n",
      "INFO:     127.0.0.1:53946 - \"GET /api/get-dataset-info/iris HTTP/1.1\" 200 OK\n",
      "INFO:     127.0.0.1:53946 - \"GET /api/get-classifiers HTTP/1.1\" 200 OK\n",
      "INFO:     127.0.0.1:53946 - \"GET /api/get-classifiers HTTP/1.1\" 200 OK\n",
      "INFO:     127.0.0.1:53946 - \"OPTIONS /api/train-model HTTP/1.1\" 200 OK\n",
      "INFO:     127.0.0.1:53946 - \"POST /api/train-model HTTP/1.1\" 200 OK\n",
      "INFO:     127.0.0.1:53946 - \"OPTIONS /api/explain HTTP/1.1\" 200 OK\n",
      "   sepal length (cm)  sepal width (cm)  petal length (cm)  petal width (cm)\n",
      "0                5.8               3.0               4.35               1.3 instance_df\n",
      "[[5.8  3.   4.35 1.3 ]] encoded_instance\n",
      "OrderedDict([('sepal length (cm)', 5.8), ('sepal width (cm)', 3), ('petal length (cm)', 4.35), ('petal width (cm)', 1.3)]) instance\n",
      "[5.8  3.   4.35 1.3 ] encoded_instance\n",
      "<class 'numpy.ndarray'> type encoded_instance\n",
      "[5.8  3.   4.35 1.3 ] neighborhood[-1]\n",
      "[5.8  3.   4.35 1.3 ] neighborhood[0]\n",
      "decoded_neighborhood[-1] [5.8  3.   4.35 1.3 ]\n",
      "decoded_neighborhood[0] [5.8  3.   4.35 1.3 ]\n",
      "INFO:     127.0.0.1:57904 - \"POST /api/explain HTTP/1.1\" 200 OK\n",
      "INFO:     127.0.0.1:57904 - \"GET /api/get-classes-colors?method=umap HTTP/1.1\" 200 OK\n",
      "INFO:     127.0.0.1:62841 - \"OPTIONS /api/explain HTTP/1.1\" 200 OK\n",
      "   sepal length (cm)  sepal width (cm)  petal length (cm)  petal width (cm)\n",
      "0                5.8               3.0               4.35               1.3 instance_df\n",
      "[[5.8  3.   4.35 1.3 ]] encoded_instance\n",
      "OrderedDict([('sepal length (cm)', 5.8), ('sepal width (cm)', 3), ('petal length (cm)', 4.35), ('petal width (cm)', 1.3)]) instance\n",
      "[5.8  3.   4.35 1.3 ] encoded_instance\n",
      "<class 'numpy.ndarray'> type encoded_instance\n",
      "[5.8  3.   4.35 1.3 ] neighborhood[-1]\n",
      "[5.8  3.   4.35 1.3 ] neighborhood[0]\n",
      "decoded_neighborhood[-1] [5.8  3.   4.35 1.3 ]\n",
      "decoded_neighborhood[0] [5.8  3.   4.35 1.3 ]\n",
      "INFO:     127.0.0.1:62841 - \"POST /api/explain HTTP/1.1\" 200 OK\n",
      "INFO:     127.0.0.1:62841 - \"GET /api/get-classes-colors?method=umap HTTP/1.1\" 200 OK\n",
      "INFO:     127.0.0.1:65349 - \"GET /api/get-dataset-info/wine HTTP/1.1\" 200 OK\n",
      "INFO:     127.0.0.1:65349 - \"GET /api/get-classifiers HTTP/1.1\" 200 OK\n",
      "INFO:     127.0.0.1:65349 - \"GET /api/get-classifiers HTTP/1.1\" 200 OK\n",
      "INFO:     127.0.0.1:65349 - \"POST /api/train-model HTTP/1.1\" 200 OK\n",
      "   alcohol  malic_acid   ash  alcalinity_of_ash  magnesium  total_phenols  \\\n",
      "0    13.05        1.87  2.36               19.5       98.0           2.35   \n",
      "\n",
      "   flavanoids  nonflavanoid_phenols  proanthocyanins  color_intensity   hue  \\\n",
      "0        2.13                  0.34             1.56             4.69  0.96   \n",
      "\n",
      "   od280/od315_of_diluted_wines  proline  \n",
      "0                          2.78    673.5   instance_df\n",
      "[[1.305e+01 1.870e+00 2.360e+00 1.950e+01 9.800e+01 2.350e+00 2.130e+00\n",
      "  3.400e-01 1.560e+00 4.690e+00 9.600e-01 2.780e+00 6.735e+02]] encoded_instance\n",
      "OrderedDict([('alcohol', 13.05), ('malic_acid', 1.87), ('ash', 2.36), ('alcalinity_of_ash', 19.5), ('magnesium', 98), ('total_phenols', 2.35), ('flavanoids', 2.13), ('nonflavanoid_phenols', 0.34), ('proanthocyanins', 1.56), ('color_intensity', 4.69), ('hue', 0.96), ('od280/od315_of_diluted_wines', 2.78), ('proline', 673.5)]) instance\n",
      "[1.305e+01 1.870e+00 2.360e+00 1.950e+01 9.800e+01 2.350e+00 2.130e+00\n",
      " 3.400e-01 1.560e+00 4.690e+00 9.600e-01 2.780e+00 6.735e+02] encoded_instance\n",
      "<class 'numpy.ndarray'> type encoded_instance\n",
      "[1.305e+01 1.870e+00 2.360e+00 1.950e+01 9.800e+01 2.350e+00 2.130e+00\n",
      " 3.400e-01 1.560e+00 4.690e+00 9.600e-01 2.780e+00 6.735e+02] neighborhood[-1]\n",
      "[1.305e+01 1.870e+00 2.360e+00 1.950e+01 9.800e+01 2.350e+00 2.130e+00\n",
      " 3.400e-01 1.560e+00 4.690e+00 9.600e-01 2.780e+00 6.735e+02] neighborhood[0]\n",
      "decoded_neighborhood[-1] [1.305e+01 1.870e+00 2.360e+00 1.950e+01 9.800e+01 2.350e+00 2.130e+00\n",
      " 3.400e-01 1.560e+00 4.690e+00 9.600e-01 2.780e+00 6.735e+02]\n",
      "decoded_neighborhood[0] [1.305e+01 1.870e+00 2.360e+00 1.950e+01 9.800e+01 2.350e+00 2.130e+00\n",
      " 3.400e-01 1.560e+00 4.690e+00 9.600e-01 2.780e+00 6.735e+02]\n",
      "INFO:     127.0.0.1:65349 - \"POST /api/explain HTTP/1.1\" 200 OK\n",
      "INFO:     127.0.0.1:65349 - \"GET /api/get-classes-colors?method=umap HTTP/1.1\" 200 OK\n",
      "INFO:     127.0.0.1:52578 - \"GET /api/get-dataset-info/adult_5 HTTP/1.1\" 200 OK\n",
      "INFO:     127.0.0.1:52578 - \"GET /api/get-classifiers HTTP/1.1\" 200 OK\n",
      "INFO:     127.0.0.1:52578 - \"GET /api/get-classifiers HTTP/1.1\" 200 OK\n",
      "INFO:     127.0.0.1:52578 - \"POST /api/train-model HTTP/1.1\" 200 OK\n",
      "    age workclass    fnlwgt education  education-num marital-status  \\\n",
      "0  37.0   Private  177635.0      11th           10.0  Never-married   \n",
      "\n",
      "          occupation relationship   race   sex  capital-gain  capital-loss  \\\n",
      "0  Machine-op-inspct    Own-child  Black  Male           0.0           0.0   \n",
      "\n",
      "   hours-per-week native-country  \n",
      "0            40.0  United-States   instance_df\n",
      "[[3.70000e+01 1.77635e+05 1.00000e+01 0.00000e+00 0.00000e+00 4.00000e+01\n",
      "  0.00000e+00 0.00000e+00 1.00000e+00 0.00000e+00 0.00000e+00 0.00000e+00\n",
      "  0.00000e+00 0.00000e+00 1.00000e+00 0.00000e+00 0.00000e+00 0.00000e+00\n",
      "  0.00000e+00 0.00000e+00 0.00000e+00 0.00000e+00 0.00000e+00 0.00000e+00\n",
      "  0.00000e+00 0.00000e+00 0.00000e+00 0.00000e+00 0.00000e+00 0.00000e+00\n",
      "  0.00000e+00 0.00000e+00 0.00000e+00 1.00000e+00 0.00000e+00 0.00000e+00\n",
      "  0.00000e+00 0.00000e+00 0.00000e+00 0.00000e+00 0.00000e+00 0.00000e+00\n",
      "  1.00000e+00 0.00000e+00 0.00000e+00 0.00000e+00 0.00000e+00 0.00000e+00\n",
      "  0.00000e+00 0.00000e+00 0.00000e+00 0.00000e+00 0.00000e+00 1.00000e+00\n",
      "  0.00000e+00 0.00000e+00 0.00000e+00 0.00000e+00 1.00000e+00 0.00000e+00\n",
      "  0.00000e+00 0.00000e+00 1.00000e+00 0.00000e+00 0.00000e+00 0.00000e+00\n",
      "  0.00000e+00 0.00000e+00 0.00000e+00 0.00000e+00 0.00000e+00 0.00000e+00\n",
      "  0.00000e+00 0.00000e+00 0.00000e+00 0.00000e+00 0.00000e+00 0.00000e+00\n",
      "  0.00000e+00 0.00000e+00 0.00000e+00 0.00000e+00 0.00000e+00 0.00000e+00\n",
      "  0.00000e+00 0.00000e+00 0.00000e+00 0.00000e+00 0.00000e+00 0.00000e+00\n",
      "  0.00000e+00 0.00000e+00 0.00000e+00 0.00000e+00 0.00000e+00 0.00000e+00\n",
      "  0.00000e+00 0.00000e+00 0.00000e+00 0.00000e+00 1.00000e+00 0.00000e+00\n",
      "  0.00000e+00]] encoded_instance\n",
      "OrderedDict([('age', 37), ('workclass', 'Private'), ('fnlwgt', 177635), ('education', '11th'), ('education-num', 10), ('marital-status', 'Never-married'), ('occupation', 'Machine-op-inspct'), ('relationship', 'Own-child'), ('race', 'Black'), ('sex', 'Male'), ('capital-gain', 0), ('capital-loss', 0), ('hours-per-week', 40), ('native-country', 'United-States')]) instance\n",
      "[3.70000e+01 1.77635e+05 1.00000e+01 0.00000e+00 0.00000e+00 4.00000e+01\n",
      " 0.00000e+00 0.00000e+00 1.00000e+00 0.00000e+00 0.00000e+00 0.00000e+00\n",
      " 0.00000e+00 0.00000e+00 1.00000e+00 0.00000e+00 0.00000e+00 0.00000e+00\n",
      " 0.00000e+00 0.00000e+00 0.00000e+00 0.00000e+00 0.00000e+00 0.00000e+00\n",
      " 0.00000e+00 0.00000e+00 0.00000e+00 0.00000e+00 0.00000e+00 0.00000e+00\n",
      " 0.00000e+00 0.00000e+00 0.00000e+00 1.00000e+00 0.00000e+00 0.00000e+00\n",
      " 0.00000e+00 0.00000e+00 0.00000e+00 0.00000e+00 0.00000e+00 0.00000e+00\n",
      " 1.00000e+00 0.00000e+00 0.00000e+00 0.00000e+00 0.00000e+00 0.00000e+00\n",
      " 0.00000e+00 0.00000e+00 0.00000e+00 0.00000e+00 0.00000e+00 1.00000e+00\n",
      " 0.00000e+00 0.00000e+00 0.00000e+00 0.00000e+00 1.00000e+00 0.00000e+00\n",
      " 0.00000e+00 0.00000e+00 1.00000e+00 0.00000e+00 0.00000e+00 0.00000e+00\n",
      " 0.00000e+00 0.00000e+00 0.00000e+00 0.00000e+00 0.00000e+00 0.00000e+00\n",
      " 0.00000e+00 0.00000e+00 0.00000e+00 0.00000e+00 0.00000e+00 0.00000e+00\n",
      " 0.00000e+00 0.00000e+00 0.00000e+00 0.00000e+00 0.00000e+00 0.00000e+00\n",
      " 0.00000e+00 0.00000e+00 0.00000e+00 0.00000e+00 0.00000e+00 0.00000e+00\n",
      " 0.00000e+00 0.00000e+00 0.00000e+00 0.00000e+00 0.00000e+00 0.00000e+00\n",
      " 0.00000e+00 0.00000e+00 0.00000e+00 0.00000e+00 1.00000e+00 0.00000e+00\n",
      " 0.00000e+00] encoded_instance\n",
      "<class 'numpy.ndarray'> type encoded_instance\n",
      "[3.70000e+01 1.77635e+05 1.00000e+01 0.00000e+00 0.00000e+00 4.00000e+01\n",
      " 0.00000e+00 0.00000e+00 1.00000e+00 0.00000e+00 0.00000e+00 0.00000e+00\n",
      " 0.00000e+00 0.00000e+00 1.00000e+00 0.00000e+00 0.00000e+00 0.00000e+00\n",
      " 0.00000e+00 0.00000e+00 0.00000e+00 0.00000e+00 0.00000e+00 0.00000e+00\n",
      " 0.00000e+00 0.00000e+00 0.00000e+00 0.00000e+00 0.00000e+00 0.00000e+00\n",
      " 0.00000e+00 0.00000e+00 0.00000e+00 1.00000e+00 0.00000e+00 0.00000e+00\n",
      " 0.00000e+00 0.00000e+00 0.00000e+00 0.00000e+00 0.00000e+00 0.00000e+00\n",
      " 1.00000e+00 0.00000e+00 0.00000e+00 0.00000e+00 0.00000e+00 0.00000e+00\n",
      " 0.00000e+00 0.00000e+00 0.00000e+00 0.00000e+00 0.00000e+00 1.00000e+00\n",
      " 0.00000e+00 0.00000e+00 0.00000e+00 0.00000e+00 1.00000e+00 0.00000e+00\n",
      " 0.00000e+00 0.00000e+00 1.00000e+00 0.00000e+00 0.00000e+00 0.00000e+00\n",
      " 0.00000e+00 0.00000e+00 0.00000e+00 0.00000e+00 0.00000e+00 0.00000e+00\n",
      " 0.00000e+00 0.00000e+00 0.00000e+00 0.00000e+00 0.00000e+00 0.00000e+00\n",
      " 0.00000e+00 0.00000e+00 0.00000e+00 0.00000e+00 0.00000e+00 0.00000e+00\n",
      " 0.00000e+00 0.00000e+00 0.00000e+00 0.00000e+00 0.00000e+00 0.00000e+00\n",
      " 0.00000e+00 0.00000e+00 0.00000e+00 0.00000e+00 0.00000e+00 0.00000e+00\n",
      " 0.00000e+00 0.00000e+00 0.00000e+00 0.00000e+00 1.00000e+00 0.00000e+00\n",
      " 0.00000e+00] neighborhood[-1]\n",
      "[3.70000e+01 1.77635e+05 1.00000e+01 0.00000e+00 0.00000e+00 4.00000e+01\n",
      " 0.00000e+00 0.00000e+00 1.00000e+00 0.00000e+00 0.00000e+00 0.00000e+00\n",
      " 0.00000e+00 0.00000e+00 1.00000e+00 0.00000e+00 0.00000e+00 0.00000e+00\n",
      " 0.00000e+00 0.00000e+00 0.00000e+00 0.00000e+00 0.00000e+00 0.00000e+00\n",
      " 0.00000e+00 0.00000e+00 0.00000e+00 0.00000e+00 0.00000e+00 0.00000e+00\n",
      " 0.00000e+00 0.00000e+00 0.00000e+00 1.00000e+00 0.00000e+00 0.00000e+00\n",
      " 0.00000e+00 0.00000e+00 0.00000e+00 0.00000e+00 0.00000e+00 0.00000e+00\n",
      " 1.00000e+00 0.00000e+00 0.00000e+00 0.00000e+00 0.00000e+00 0.00000e+00\n",
      " 0.00000e+00 0.00000e+00 0.00000e+00 0.00000e+00 0.00000e+00 1.00000e+00\n",
      " 0.00000e+00 0.00000e+00 0.00000e+00 0.00000e+00 1.00000e+00 0.00000e+00\n",
      " 0.00000e+00 0.00000e+00 1.00000e+00 0.00000e+00 0.00000e+00 0.00000e+00\n",
      " 0.00000e+00 0.00000e+00 0.00000e+00 0.00000e+00 0.00000e+00 0.00000e+00\n",
      " 0.00000e+00 0.00000e+00 0.00000e+00 0.00000e+00 0.00000e+00 0.00000e+00\n",
      " 0.00000e+00 0.00000e+00 0.00000e+00 0.00000e+00 0.00000e+00 0.00000e+00\n",
      " 0.00000e+00 0.00000e+00 0.00000e+00 0.00000e+00 0.00000e+00 0.00000e+00\n",
      " 0.00000e+00 0.00000e+00 0.00000e+00 0.00000e+00 0.00000e+00 0.00000e+00\n",
      " 0.00000e+00 0.00000e+00 0.00000e+00 0.00000e+00 1.00000e+00 0.00000e+00\n",
      " 0.00000e+00] neighborhood[0]\n",
      "decoded_neighborhood[-1] [37.0 'Private' 177635.0 '11th' 10.0 'Never-married' 'Machine-op-inspct'\n",
      " 'Own-child' 'Black' 'Male' 0.0 0.0 40.0 'United-States']\n",
      "decoded_neighborhood[0] [37.0 'Private' 177635.0 '11th' 10.0 'Never-married' 'Machine-op-inspct'\n",
      " 'Own-child' 'Black' 'Male' 0.0 0.0 40.0 'United-States']\n",
      "INFO:     127.0.0.1:52578 - \"POST /api/explain HTTP/1.1\" 200 OK\n",
      "INFO:     127.0.0.1:52578 - \"GET /api/get-classes-colors?method=umap HTTP/1.1\" 200 OK\n",
      "    age workclass    fnlwgt education  education-num marital-status  \\\n",
      "0  37.0   Private  177635.0      11th           10.0  Never-married   \n",
      "\n",
      "          occupation relationship   race   sex  capital-gain  capital-loss  \\\n",
      "0  Machine-op-inspct    Own-child  Black  Male           0.0           0.0   \n",
      "\n",
      "   hours-per-week native-country  \n",
      "0            40.0  United-States   instance_df\n",
      "[[3.70000e+01 1.77635e+05 1.00000e+01 0.00000e+00 0.00000e+00 4.00000e+01\n",
      "  0.00000e+00 0.00000e+00 1.00000e+00 0.00000e+00 0.00000e+00 0.00000e+00\n",
      "  0.00000e+00 0.00000e+00 1.00000e+00 0.00000e+00 0.00000e+00 0.00000e+00\n",
      "  0.00000e+00 0.00000e+00 0.00000e+00 0.00000e+00 0.00000e+00 0.00000e+00\n",
      "  0.00000e+00 0.00000e+00 0.00000e+00 0.00000e+00 0.00000e+00 0.00000e+00\n",
      "  0.00000e+00 0.00000e+00 0.00000e+00 1.00000e+00 0.00000e+00 0.00000e+00\n",
      "  0.00000e+00 0.00000e+00 0.00000e+00 0.00000e+00 0.00000e+00 0.00000e+00\n",
      "  1.00000e+00 0.00000e+00 0.00000e+00 0.00000e+00 0.00000e+00 0.00000e+00\n",
      "  0.00000e+00 0.00000e+00 0.00000e+00 0.00000e+00 0.00000e+00 1.00000e+00\n",
      "  0.00000e+00 0.00000e+00 0.00000e+00 0.00000e+00 1.00000e+00 0.00000e+00\n",
      "  0.00000e+00 0.00000e+00 1.00000e+00 0.00000e+00 0.00000e+00 0.00000e+00\n",
      "  0.00000e+00 0.00000e+00 0.00000e+00 0.00000e+00 0.00000e+00 0.00000e+00\n",
      "  0.00000e+00 0.00000e+00 0.00000e+00 0.00000e+00 0.00000e+00 0.00000e+00\n",
      "  0.00000e+00 0.00000e+00 0.00000e+00 0.00000e+00 0.00000e+00 0.00000e+00\n",
      "  0.00000e+00 0.00000e+00 0.00000e+00 0.00000e+00 0.00000e+00 0.00000e+00\n",
      "  0.00000e+00 0.00000e+00 0.00000e+00 0.00000e+00 0.00000e+00 0.00000e+00\n",
      "  0.00000e+00 0.00000e+00 0.00000e+00 0.00000e+00 1.00000e+00 0.00000e+00\n",
      "  0.00000e+00]] encoded_instance\n",
      "OrderedDict([('age', 37), ('workclass', 'Private'), ('fnlwgt', 177635), ('education', '11th'), ('education-num', 10), ('marital-status', 'Never-married'), ('occupation', 'Machine-op-inspct'), ('relationship', 'Own-child'), ('race', 'Black'), ('sex', 'Male'), ('capital-gain', 0), ('capital-loss', 0), ('hours-per-week', 40), ('native-country', 'United-States')]) instance\n",
      "[3.70000e+01 1.77635e+05 1.00000e+01 0.00000e+00 0.00000e+00 4.00000e+01\n",
      " 0.00000e+00 0.00000e+00 1.00000e+00 0.00000e+00 0.00000e+00 0.00000e+00\n",
      " 0.00000e+00 0.00000e+00 1.00000e+00 0.00000e+00 0.00000e+00 0.00000e+00\n",
      " 0.00000e+00 0.00000e+00 0.00000e+00 0.00000e+00 0.00000e+00 0.00000e+00\n",
      " 0.00000e+00 0.00000e+00 0.00000e+00 0.00000e+00 0.00000e+00 0.00000e+00\n",
      " 0.00000e+00 0.00000e+00 0.00000e+00 1.00000e+00 0.00000e+00 0.00000e+00\n",
      " 0.00000e+00 0.00000e+00 0.00000e+00 0.00000e+00 0.00000e+00 0.00000e+00\n",
      " 1.00000e+00 0.00000e+00 0.00000e+00 0.00000e+00 0.00000e+00 0.00000e+00\n",
      " 0.00000e+00 0.00000e+00 0.00000e+00 0.00000e+00 0.00000e+00 1.00000e+00\n",
      " 0.00000e+00 0.00000e+00 0.00000e+00 0.00000e+00 1.00000e+00 0.00000e+00\n",
      " 0.00000e+00 0.00000e+00 1.00000e+00 0.00000e+00 0.00000e+00 0.00000e+00\n",
      " 0.00000e+00 0.00000e+00 0.00000e+00 0.00000e+00 0.00000e+00 0.00000e+00\n",
      " 0.00000e+00 0.00000e+00 0.00000e+00 0.00000e+00 0.00000e+00 0.00000e+00\n",
      " 0.00000e+00 0.00000e+00 0.00000e+00 0.00000e+00 0.00000e+00 0.00000e+00\n",
      " 0.00000e+00 0.00000e+00 0.00000e+00 0.00000e+00 0.00000e+00 0.00000e+00\n",
      " 0.00000e+00 0.00000e+00 0.00000e+00 0.00000e+00 0.00000e+00 0.00000e+00\n",
      " 0.00000e+00 0.00000e+00 0.00000e+00 0.00000e+00 1.00000e+00 0.00000e+00\n",
      " 0.00000e+00] encoded_instance\n",
      "<class 'numpy.ndarray'> type encoded_instance\n",
      "[3.70000e+01 1.77635e+05 1.00000e+01 0.00000e+00 0.00000e+00 4.00000e+01\n",
      " 0.00000e+00 0.00000e+00 1.00000e+00 0.00000e+00 0.00000e+00 0.00000e+00\n",
      " 0.00000e+00 0.00000e+00 1.00000e+00 0.00000e+00 0.00000e+00 0.00000e+00\n",
      " 0.00000e+00 0.00000e+00 0.00000e+00 0.00000e+00 0.00000e+00 0.00000e+00\n",
      " 0.00000e+00 0.00000e+00 0.00000e+00 0.00000e+00 0.00000e+00 0.00000e+00\n",
      " 0.00000e+00 0.00000e+00 0.00000e+00 1.00000e+00 0.00000e+00 0.00000e+00\n",
      " 0.00000e+00 0.00000e+00 0.00000e+00 0.00000e+00 0.00000e+00 0.00000e+00\n",
      " 1.00000e+00 0.00000e+00 0.00000e+00 0.00000e+00 0.00000e+00 0.00000e+00\n",
      " 0.00000e+00 0.00000e+00 0.00000e+00 0.00000e+00 0.00000e+00 1.00000e+00\n",
      " 0.00000e+00 0.00000e+00 0.00000e+00 0.00000e+00 1.00000e+00 0.00000e+00\n",
      " 0.00000e+00 0.00000e+00 1.00000e+00 0.00000e+00 0.00000e+00 0.00000e+00\n",
      " 0.00000e+00 0.00000e+00 0.00000e+00 0.00000e+00 0.00000e+00 0.00000e+00\n",
      " 0.00000e+00 0.00000e+00 0.00000e+00 0.00000e+00 0.00000e+00 0.00000e+00\n",
      " 0.00000e+00 0.00000e+00 0.00000e+00 0.00000e+00 0.00000e+00 0.00000e+00\n",
      " 0.00000e+00 0.00000e+00 0.00000e+00 0.00000e+00 0.00000e+00 0.00000e+00\n",
      " 0.00000e+00 0.00000e+00 0.00000e+00 0.00000e+00 0.00000e+00 0.00000e+00\n",
      " 0.00000e+00 0.00000e+00 0.00000e+00 0.00000e+00 1.00000e+00 0.00000e+00\n",
      " 0.00000e+00] neighborhood[-1]\n",
      "[3.70000e+01 1.77635e+05 1.00000e+01 0.00000e+00 0.00000e+00 4.00000e+01\n",
      " 0.00000e+00 0.00000e+00 1.00000e+00 0.00000e+00 0.00000e+00 0.00000e+00\n",
      " 0.00000e+00 0.00000e+00 1.00000e+00 0.00000e+00 0.00000e+00 0.00000e+00\n",
      " 0.00000e+00 0.00000e+00 0.00000e+00 0.00000e+00 0.00000e+00 0.00000e+00\n",
      " 0.00000e+00 0.00000e+00 0.00000e+00 0.00000e+00 0.00000e+00 0.00000e+00\n",
      " 0.00000e+00 0.00000e+00 0.00000e+00 1.00000e+00 0.00000e+00 0.00000e+00\n",
      " 0.00000e+00 0.00000e+00 0.00000e+00 0.00000e+00 0.00000e+00 0.00000e+00\n",
      " 1.00000e+00 0.00000e+00 0.00000e+00 0.00000e+00 0.00000e+00 0.00000e+00\n",
      " 0.00000e+00 0.00000e+00 0.00000e+00 0.00000e+00 0.00000e+00 1.00000e+00\n",
      " 0.00000e+00 0.00000e+00 0.00000e+00 0.00000e+00 1.00000e+00 0.00000e+00\n",
      " 0.00000e+00 0.00000e+00 1.00000e+00 0.00000e+00 0.00000e+00 0.00000e+00\n",
      " 0.00000e+00 0.00000e+00 0.00000e+00 0.00000e+00 0.00000e+00 0.00000e+00\n",
      " 0.00000e+00 0.00000e+00 0.00000e+00 0.00000e+00 0.00000e+00 0.00000e+00\n",
      " 0.00000e+00 0.00000e+00 0.00000e+00 0.00000e+00 0.00000e+00 0.00000e+00\n",
      " 0.00000e+00 0.00000e+00 0.00000e+00 0.00000e+00 0.00000e+00 0.00000e+00\n",
      " 0.00000e+00 0.00000e+00 0.00000e+00 0.00000e+00 0.00000e+00 0.00000e+00\n",
      " 0.00000e+00 0.00000e+00 0.00000e+00 0.00000e+00 1.00000e+00 0.00000e+00\n",
      " 0.00000e+00] neighborhood[0]\n",
      "decoded_neighborhood[-1] [37.0 'Private' 177635.0 '11th' 10.0 'Never-married' 'Machine-op-inspct'\n",
      " 'Own-child' 'Black' 'Male' 0.0 0.0 40.0 'United-States']\n",
      "decoded_neighborhood[0] [37.0 'Private' 177635.0 '11th' 10.0 'Never-married' 'Machine-op-inspct'\n",
      " 'Own-child' 'Black' 'Male' 0.0 0.0 40.0 'United-States']\n",
      "INFO:     127.0.0.1:49374 - \"POST /api/explain HTTP/1.1\" 200 OK\n",
      "INFO:     127.0.0.1:49374 - \"GET /api/get-classes-colors?method=umap HTTP/1.1\" 200 OK\n"
     ]
    }
   ],
   "source": [
    "webapp.launch_demo()"
   ]
  }
 ],
 "metadata": {
  "kernelspec": {
   "display_name": "Python 3",
   "language": "python",
   "name": "python3"
  },
  "language_info": {
   "codemirror_mode": {
    "name": "ipython",
    "version": 3
   },
   "file_extension": ".py",
   "mimetype": "text/x-python",
   "name": "python",
   "nbconvert_exporter": "python",
   "pygments_lexer": "ipython3",
   "version": "3.9.0"
  }
 },
 "nbformat": 4,
 "nbformat_minor": 5
}

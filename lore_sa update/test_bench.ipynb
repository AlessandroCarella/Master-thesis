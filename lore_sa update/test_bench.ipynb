{
 "cells": [
  {
   "cell_type": "code",
   "execution_count": 1,
   "id": "e5144e0a",
   "metadata": {},
   "outputs": [],
   "source": [
    "from lore_sa.dataset import TabularDataset\n",
    "from lore_sa.lore import TabularGeneticGeneratorLore"
   ]
  },
  {
   "cell_type": "code",
   "execution_count": 2,
   "id": "1614f5c1",
   "metadata": {},
   "outputs": [],
   "source": [
    "target = 'income'"
   ]
  },
  {
   "cell_type": "code",
   "execution_count": 3,
   "id": "66c360ef",
   "metadata": {
    "ExecuteTime": {
     "end_time": "2024-07-01T09:13:06.822427Z",
     "start_time": "2024-07-01T09:13:06.227080Z"
    }
   },
   "outputs": [],
   "source": [
    "dataset = TabularDataset.from_csv('adult.csv', class_name = target)\n",
    "dataset.df.dropna(inplace = True)"
   ]
  },
  {
   "cell_type": "code",
   "execution_count": 4,
   "id": "213cddc1",
   "metadata": {},
   "outputs": [
    {
     "data": {
      "text/plain": [
       "Index(['age', 'workclass', 'fnlwgt', 'education', 'educational-num',\n",
       "       'marital-status', 'occupation', 'relationship', 'race', 'gender',\n",
       "       'capital-gain', 'capital-loss', 'hours-per-week', 'native-country',\n",
       "       'income'],\n",
       "      dtype='object')"
      ]
     },
     "execution_count": 4,
     "metadata": {},
     "output_type": "execute_result"
    }
   ],
   "source": [
    "dataset.df.keys()"
   ]
  },
  {
   "cell_type": "code",
   "execution_count": 5,
   "id": "ba3937ac",
   "metadata": {},
   "outputs": [],
   "source": [
    "dataset.df.drop([\"marital-status\", \"fnlwgt\", \"educational-num\", \"occupation\", \"native-country\"], axis=1, inplace=True)"
   ]
  },
  {
   "cell_type": "code",
   "execution_count": 6,
   "id": "a974d87a",
   "metadata": {
    "ExecuteTime": {
     "end_time": "2024-07-01T09:21:25.971357Z",
     "start_time": "2024-07-01T09:21:25.698303Z"
    }
   },
   "outputs": [],
   "source": [
    "dataset.update_descriptor()"
   ]
  },
  {
   "cell_type": "code",
   "execution_count": 7,
   "id": "adb3009d21ac3996",
   "metadata": {
    "ExecuteTime": {
     "end_time": "2024-07-01T09:33:08.224084Z",
     "start_time": "2024-07-01T09:33:08.209156Z"
    }
   },
   "outputs": [],
   "source": [
    "from sklearn.pipeline import make_pipeline\n",
    "from sklearn.preprocessing import StandardScaler, OrdinalEncoder\n",
    "from sklearn.compose import ColumnTransformer\n",
    "from sklearn.ensemble import RandomForestClassifier\n",
    "from sklearn.model_selection import train_test_split\n",
    "from lore_sa.bbox import sklearn_classifier_bbox\n",
    "\n",
    "def train_model(dataset: TabularDataset):\n",
    "    numeric_indices = [v['index'] for v in dataset.descriptor['numeric'].values()]\n",
    "    categorical_indices = [v['index'] for v in dataset.descriptor['categorical'].values()]\n",
    "    preprocessor = ColumnTransformer(\n",
    "        transformers=[\n",
    "            ('num', StandardScaler(), numeric_indices),\n",
    "            ('cat', OrdinalEncoder(), categorical_indices)\n",
    "        ]\n",
    "    )\n",
    "    model = make_pipeline(preprocessor, RandomForestClassifier(n_estimators=100, random_state=42))\n",
    "    \n",
    "    X = dataset.df.drop([target], axis=1)\n",
    "    X_train, X_test, y_train, y_test = train_test_split(X.values, dataset.df[target].values,\n",
    "                test_size=0.3, random_state=42, stratify=dataset.df[target].values)\n",
    "    model.fit(X_train, y_train)\n",
    "    \n",
    "    return sklearn_classifier_bbox.sklearnBBox(model)"
   ]
  },
  {
   "cell_type": "code",
   "execution_count": 8,
   "id": "5249087cf760cf4f",
   "metadata": {
    "ExecuteTime": {
     "end_time": "2024-07-01T09:33:09.806446Z",
     "start_time": "2024-07-01T09:33:08.432660Z"
    }
   },
   "outputs": [],
   "source": [
    "bbox = train_model(dataset)"
   ]
  },
  {
   "cell_type": "code",
   "execution_count": 9,
   "id": "96805c27b65ef473",
   "metadata": {
    "ExecuteTime": {
     "end_time": "2024-07-01T09:36:30.604558Z",
     "start_time": "2024-07-01T09:36:30.583912Z"
    }
   },
   "outputs": [],
   "source": [
    "tabularLore = TabularGeneticGeneratorLore(bbox, dataset)"
   ]
  },
  {
   "cell_type": "code",
   "execution_count": 10,
   "id": "76891ffe",
   "metadata": {},
   "outputs": [
    {
     "data": {
      "text/plain": [
       "(['age',\n",
       "  'capital-gain',\n",
       "  'capital-loss',\n",
       "  'hours-per-week',\n",
       "  'workclass',\n",
       "  'education',\n",
       "  'relationship',\n",
       "  'race',\n",
       "  'gender'],\n",
       " dict_keys(['numeric', 'categorical', 'ordinal', 'target']))"
      ]
     },
     "execution_count": 10,
     "metadata": {},
     "output_type": "execute_result"
    }
   ],
   "source": [
    "out = []\n",
    "for k in dataset.descriptor.keys():\n",
    "    if k != 'target':\n",
    "        out.extend(list(dataset.descriptor[k].keys()))\n",
    "out, dataset.descriptor.keys()"
   ]
  },
  {
   "cell_type": "code",
   "execution_count": 11,
   "id": "44da9354",
   "metadata": {},
   "outputs": [
    {
     "data": {
      "text/plain": [
       "{'income': {'index': 9,\n",
       "  'distinct_values': ['>50K', '<=50K'],\n",
       "  'count': {'>50K': 559, '<=50K': 1697}}}"
      ]
     },
     "execution_count": 11,
     "metadata": {},
     "output_type": "execute_result"
    }
   ],
   "source": [
    "dataset.descriptor[\"target\"]"
   ]
  },
  {
   "cell_type": "code",
   "execution_count": 12,
   "id": "f12adf21",
   "metadata": {},
   "outputs": [],
   "source": [
    "x = (dataset.df.drop([target], axis=1)).iloc[1]"
   ]
  },
  {
   "cell_type": "code",
   "execution_count": 13,
   "id": "cd1f4ee3",
   "metadata": {},
   "outputs": [],
   "source": [
    "# tabularLore.explain(x)"
   ]
  },
  {
   "cell_type": "code",
   "execution_count": 14,
   "id": "0b1aaead",
   "metadata": {},
   "outputs": [
    {
     "name": "stdout",
     "output_type": "stream",
     "text": [
      "age 49\n",
      "workclass Private\n",
      "education Doctorate\n",
      "relationship Unmarried\n",
      "race White\n",
      "gender Male\n",
      "capital-gain 7430\n",
      "capital-loss 0\n",
      "hours-per-week 40\n"
     ]
    }
   ],
   "source": [
    "for k,v in x.items():\n",
    "    print (k,v)"
   ]
  },
  {
   "cell_type": "code",
   "execution_count": 15,
   "id": "d3dd5465",
   "metadata": {},
   "outputs": [],
   "source": [
    "# tabularLore.interactive_explanation(x, inJupyter=False)"
   ]
  },
  {
   "cell_type": "code",
   "execution_count": null,
   "id": "5e645233",
   "metadata": {},
   "outputs": [
    {
     "name": "stderr",
     "output_type": "stream",
     "text": [
      "INFO:     Started server process [20108]\n",
      "INFO:     Waiting for application startup.\n",
      "INFO:     Application startup complete.\n",
      "INFO:     Uvicorn running on http://0.0.0.0:8000 (Press CTRL+C to quit)\n"
     ]
    },
    {
     "name": "stdout",
     "output_type": "stream",
     "text": [
      "Launching LORE_sa explanation viz webapp\n",
      "==================================================\n",
      "Starting API server on 0.0.0.0:8000\n",
      "INFO:     127.0.0.1:62577 - \"GET /api/get-datasets HTTP/1.1\" 200 OK\n",
      "API server is ready at http://localhost:8000\n",
      "NPM version detected: 10.9.3\n",
      "Dependencies already installed, skipping npm install\n",
      "Application started successfully!\n",
      "API: http://localhost:8000/docs#/\n",
      "Client: http://localhost:8080\n",
      "==================================================\n",
      "Opening http://localhost:8080 in your default browser...\n",
      "Browser opened successfully!\n"
     ]
    },
    {
     "name": "stdout",
     "output_type": "stream",
     "text": [
      "INFO:     127.0.0.1:59209 - \"GET /api/check-custom-data HTTP/1.1\" 200 OK\n",
      "INFO:     127.0.0.1:59209 - \"OPTIONS /api/explain HTTP/1.1\" 200 OK\n",
      "INFO:     127.0.0.1:59209 - \"POST /api/explain HTTP/1.1\" 200 OK\n",
      "INFO:     127.0.0.1:59209 - \"GET /api/get-classes-colors?method=umap HTTP/1.1\" 200 OK\n",
      "INFO:     127.0.0.1:59209 - \"OPTIONS /api/update-visualization HTTP/1.1\" 200 OK\n"
     ]
    },
    {
     "name": "stderr",
     "output_type": "stream",
     "text": [
      "  File \"c:\\Users\\Ale\\AppData\\Local\\Programs\\Python\\Python39\\lib\\site-packages\\joblib\\externals\\loky\\backend\\context.py\", line 257, in _count_physical_cores\n",
      "    cpu_info = subprocess.run(\n",
      "  File \"c:\\Users\\Ale\\AppData\\Local\\Programs\\Python\\Python39\\lib\\subprocess.py\", line 501, in run\n",
      "    with Popen(*popenargs, **kwargs) as process:\n",
      "  File \"c:\\Users\\Ale\\AppData\\Local\\Programs\\Python\\Python39\\lib\\subprocess.py\", line 947, in __init__\n",
      "    self._execute_child(args, executable, preexec_fn, close_fds,\n",
      "  File \"c:\\Users\\Ale\\AppData\\Local\\Programs\\Python\\Python39\\lib\\subprocess.py\", line 1416, in _execute_child\n",
      "    hp, ht, pid, tid = _winapi.CreateProcess(executable, args,\n"
     ]
    },
    {
     "name": "stdout",
     "output_type": "stream",
     "text": [
      "INFO:     127.0.0.1:57072 - \"POST /api/update-visualization HTTP/1.1\" 200 OK\n",
      "INFO:     127.0.0.1:57072 - \"POST /api/update-visualization HTTP/1.1\" 200 OK\n",
      "INFO:     127.0.0.1:57072 - \"POST /api/update-visualization HTTP/1.1\" 200 OK\n",
      "INFO:     127.0.0.1:57072 - \"POST /api/update-visualization HTTP/1.1\" 500 Internal Server Error\n"
     ]
    },
    {
     "name": "stderr",
     "output_type": "stream",
     "text": [
      "ERROR:    Exception in ASGI application\n",
      "Traceback (most recent call last):\n",
      "  File \"c:\\Users\\Ale\\AppData\\Local\\Programs\\Python\\Python39\\lib\\site-packages\\uvicorn\\protocols\\http\\h11_impl.py\", line 403, in run_asgi\n",
      "    result = await app(  # type: ignore[func-returns-value]\n",
      "  File \"c:\\Users\\Ale\\AppData\\Local\\Programs\\Python\\Python39\\lib\\site-packages\\uvicorn\\middleware\\proxy_headers.py\", line 60, in __call__\n",
      "    return await self.app(scope, receive, send)\n",
      "  File \"c:\\Users\\Ale\\AppData\\Local\\Programs\\Python\\Python39\\lib\\site-packages\\fastapi\\applications.py\", line 1054, in __call__\n",
      "    await super().__call__(scope, receive, send)\n",
      "  File \"c:\\Users\\Ale\\AppData\\Local\\Programs\\Python\\Python39\\lib\\site-packages\\starlette\\applications.py\", line 112, in __call__\n",
      "    await self.middleware_stack(scope, receive, send)\n",
      "  File \"c:\\Users\\Ale\\AppData\\Local\\Programs\\Python\\Python39\\lib\\site-packages\\starlette\\middleware\\errors.py\", line 187, in __call__\n",
      "    raise exc\n",
      "  File \"c:\\Users\\Ale\\AppData\\Local\\Programs\\Python\\Python39\\lib\\site-packages\\starlette\\middleware\\errors.py\", line 165, in __call__\n",
      "    await self.app(scope, receive, _send)\n",
      "  File \"c:\\Users\\Ale\\AppData\\Local\\Programs\\Python\\Python39\\lib\\site-packages\\starlette\\middleware\\cors.py\", line 93, in __call__\n",
      "    await self.simple_response(scope, receive, send, request_headers=headers)\n",
      "  File \"c:\\Users\\Ale\\AppData\\Local\\Programs\\Python\\Python39\\lib\\site-packages\\starlette\\middleware\\cors.py\", line 144, in simple_response\n",
      "    await self.app(scope, receive, send)\n",
      "  File \"c:\\Users\\Ale\\AppData\\Local\\Programs\\Python\\Python39\\lib\\site-packages\\starlette\\middleware\\exceptions.py\", line 62, in __call__\n",
      "    await wrap_app_handling_exceptions(self.app, conn)(scope, receive, send)\n",
      "  File \"c:\\Users\\Ale\\AppData\\Local\\Programs\\Python\\Python39\\lib\\site-packages\\starlette\\_exception_handler.py\", line 53, in wrapped_app\n",
      "    raise exc\n",
      "  File \"c:\\Users\\Ale\\AppData\\Local\\Programs\\Python\\Python39\\lib\\site-packages\\starlette\\_exception_handler.py\", line 42, in wrapped_app\n",
      "    await app(scope, receive, sender)\n",
      "  File \"c:\\Users\\Ale\\AppData\\Local\\Programs\\Python\\Python39\\lib\\site-packages\\starlette\\routing.py\", line 714, in __call__\n",
      "    await self.middleware_stack(scope, receive, send)\n",
      "  File \"c:\\Users\\Ale\\AppData\\Local\\Programs\\Python\\Python39\\lib\\site-packages\\starlette\\routing.py\", line 734, in app\n",
      "    await route.handle(scope, receive, send)\n",
      "  File \"c:\\Users\\Ale\\AppData\\Local\\Programs\\Python\\Python39\\lib\\site-packages\\starlette\\routing.py\", line 288, in handle\n",
      "    await self.app(scope, receive, send)\n",
      "  File \"c:\\Users\\Ale\\AppData\\Local\\Programs\\Python\\Python39\\lib\\site-packages\\starlette\\routing.py\", line 76, in app\n",
      "    await wrap_app_handling_exceptions(app, request)(scope, receive, send)\n",
      "  File \"c:\\Users\\Ale\\AppData\\Local\\Programs\\Python\\Python39\\lib\\site-packages\\starlette\\_exception_handler.py\", line 53, in wrapped_app\n",
      "    raise exc\n",
      "  File \"c:\\Users\\Ale\\AppData\\Local\\Programs\\Python\\Python39\\lib\\site-packages\\starlette\\_exception_handler.py\", line 42, in wrapped_app\n",
      "    await app(scope, receive, sender)\n",
      "  File \"c:\\Users\\Ale\\AppData\\Local\\Programs\\Python\\Python39\\lib\\site-packages\\starlette\\routing.py\", line 73, in app\n",
      "    response = await f(request)\n",
      "  File \"c:\\Users\\Ale\\AppData\\Local\\Programs\\Python\\Python39\\lib\\site-packages\\fastapi\\routing.py\", line 301, in app\n",
      "    raw_response = await run_endpoint_function(\n",
      "  File \"c:\\Users\\Ale\\AppData\\Local\\Programs\\Python\\Python39\\lib\\site-packages\\fastapi\\routing.py\", line 212, in run_endpoint_function\n",
      "    return await dependant.call(**values)\n",
      "  File \"c:\\Users\\Ale\\Desktop\\Master-thesis\\lore_sa update\\lore_sa\\webapp\\routes\\webapp_api_explain.py\", line 553, in update_visualization\n",
      "    scatter_data = DataProcessor.prepare_scatter_data_neighborhood_only(\n",
      "  File \"c:\\Users\\Ale\\Desktop\\Master-thesis\\lore_sa update\\lore_sa\\webapp\\routes\\webapp_api_explain.py\", line 357, in prepare_scatter_data_neighborhood_only\n",
      "    scatter_data = VisualizationGenerator.generate_scatter_plot_data(\n",
      "  File \"c:\\Users\\Ale\\Desktop\\Master-thesis\\lore_sa update\\lore_sa\\webapp\\routes\\webapp_api_explain.py\", line 279, in generate_scatter_plot_data\n",
      "    return create_scatter_plot_data_raw(\n",
      "  File \"c:\\Users\\Ale\\Desktop\\Master-thesis\\lore_sa update\\lore_sa\\webapp\\webapp_create_scatter_plot_data.py\", line 728, in create_scatter_plot_data_raw\n",
      "    return generator.generate(X, y, pretrained_tree, class_names, feature_names,\n",
      "  File \"c:\\Users\\Ale\\Desktop\\Master-thesis\\lore_sa update\\lore_sa\\webapp\\webapp_create_scatter_plot_data.py\", line 652, in generate\n",
      "    decision_boundary = self.boundary_gen.generate_for_pca(\n",
      "  File \"c:\\Users\\Ale\\Desktop\\Master-thesis\\lore_sa update\\lore_sa\\webapp\\webapp_create_scatter_plot_data.py\", line 339, in generate_for_pca\n",
      "    Z = model.predict(grid_original).reshape(xx.shape)\n",
      "AttributeError: 'DecisionTreeSurrogate' object has no attribute 'predict'\n"
     ]
    },
    {
     "name": "stdout",
     "output_type": "stream",
     "text": [
      "INFO:     127.0.0.1:51272 - \"POST /api/update-visualization HTTP/1.1\" 200 OK\n",
      "INFO:     127.0.0.1:51272 - \"POST /api/update-visualization HTTP/1.1\" 200 OK\n",
      "INFO:     127.0.0.1:51272 - \"POST /api/update-visualization HTTP/1.1\" 200 OK\n",
      "INFO:     127.0.0.1:57646 - \"GET /api/get-datasets HTTP/1.1\" 200 OK\n",
      "INFO:     127.0.0.1:58469 - \"GET /api/check-custom-data HTTP/1.1\" 200 OK\n",
      "INFO:     127.0.0.1:58469 - \"GET /api/get-datasets HTTP/1.1\" 200 OK\n",
      "INFO:     127.0.0.1:58469 - \"GET /api/get-dataset-info/iris HTTP/1.1\" 200 OK\n",
      "INFO:     127.0.0.1:58469 - \"GET /api/get-classifiers HTTP/1.1\" 200 OK\n",
      "INFO:     127.0.0.1:58469 - \"GET /api/get-classifiers HTTP/1.1\" 200 OK\n",
      "INFO:     127.0.0.1:58469 - \"POST /api/train-model HTTP/1.1\" 200 OK\n",
      "INFO:     127.0.0.1:58469 - \"POST /api/explain HTTP/1.1\" 200 OK\n",
      "INFO:     127.0.0.1:58469 - \"GET /api/get-classes-colors?method=umap HTTP/1.1\" 200 OK\n",
      "INFO:     127.0.0.1:58469 - \"POST /api/update-visualization HTTP/1.1\" 200 OK\n",
      "INFO:     127.0.0.1:58469 - \"POST /api/update-visualization HTTP/1.1\" 200 OK\n",
      "INFO:     127.0.0.1:58469 - \"POST /api/update-visualization HTTP/1.1\" 200 OK\n",
      "INFO:     127.0.0.1:58469 - \"POST /api/update-visualization HTTP/1.1\" 200 OK\n",
      "INFO:     127.0.0.1:58469 - \"POST /api/update-visualization HTTP/1.1\" 200 OK\n",
      "INFO:     127.0.0.1:58469 - \"POST /api/update-visualization HTTP/1.1\" 200 OK\n",
      "INFO:     127.0.0.1:58469 - \"POST /api/update-visualization HTTP/1.1\" 200 OK\n",
      "INFO:     127.0.0.1:58469 - \"POST /api/update-visualization HTTP/1.1\" 200 OK\n",
      "INFO:     127.0.0.1:58469 - \"POST /api/update-visualization HTTP/1.1\" 500 Internal Server Error\n"
     ]
    },
    {
     "name": "stderr",
     "output_type": "stream",
     "text": [
      "ERROR:    Exception in ASGI application\n",
      "Traceback (most recent call last):\n",
      "  File \"c:\\Users\\Ale\\AppData\\Local\\Programs\\Python\\Python39\\lib\\site-packages\\uvicorn\\protocols\\http\\h11_impl.py\", line 403, in run_asgi\n",
      "    result = await app(  # type: ignore[func-returns-value]\n",
      "  File \"c:\\Users\\Ale\\AppData\\Local\\Programs\\Python\\Python39\\lib\\site-packages\\uvicorn\\middleware\\proxy_headers.py\", line 60, in __call__\n",
      "    return await self.app(scope, receive, send)\n",
      "  File \"c:\\Users\\Ale\\AppData\\Local\\Programs\\Python\\Python39\\lib\\site-packages\\fastapi\\applications.py\", line 1054, in __call__\n",
      "    await super().__call__(scope, receive, send)\n",
      "  File \"c:\\Users\\Ale\\AppData\\Local\\Programs\\Python\\Python39\\lib\\site-packages\\starlette\\applications.py\", line 112, in __call__\n",
      "    await self.middleware_stack(scope, receive, send)\n",
      "  File \"c:\\Users\\Ale\\AppData\\Local\\Programs\\Python\\Python39\\lib\\site-packages\\starlette\\middleware\\errors.py\", line 187, in __call__\n",
      "    raise exc\n",
      "  File \"c:\\Users\\Ale\\AppData\\Local\\Programs\\Python\\Python39\\lib\\site-packages\\starlette\\middleware\\errors.py\", line 165, in __call__\n",
      "    await self.app(scope, receive, _send)\n",
      "  File \"c:\\Users\\Ale\\AppData\\Local\\Programs\\Python\\Python39\\lib\\site-packages\\starlette\\middleware\\cors.py\", line 93, in __call__\n",
      "    await self.simple_response(scope, receive, send, request_headers=headers)\n",
      "  File \"c:\\Users\\Ale\\AppData\\Local\\Programs\\Python\\Python39\\lib\\site-packages\\starlette\\middleware\\cors.py\", line 144, in simple_response\n",
      "    await self.app(scope, receive, send)\n",
      "  File \"c:\\Users\\Ale\\AppData\\Local\\Programs\\Python\\Python39\\lib\\site-packages\\starlette\\middleware\\exceptions.py\", line 62, in __call__\n",
      "    await wrap_app_handling_exceptions(self.app, conn)(scope, receive, send)\n",
      "  File \"c:\\Users\\Ale\\AppData\\Local\\Programs\\Python\\Python39\\lib\\site-packages\\starlette\\_exception_handler.py\", line 53, in wrapped_app\n",
      "    raise exc\n",
      "  File \"c:\\Users\\Ale\\AppData\\Local\\Programs\\Python\\Python39\\lib\\site-packages\\starlette\\_exception_handler.py\", line 42, in wrapped_app\n",
      "    await app(scope, receive, sender)\n",
      "  File \"c:\\Users\\Ale\\AppData\\Local\\Programs\\Python\\Python39\\lib\\site-packages\\starlette\\routing.py\", line 714, in __call__\n",
      "    await self.middleware_stack(scope, receive, send)\n",
      "  File \"c:\\Users\\Ale\\AppData\\Local\\Programs\\Python\\Python39\\lib\\site-packages\\starlette\\routing.py\", line 734, in app\n",
      "    await route.handle(scope, receive, send)\n",
      "  File \"c:\\Users\\Ale\\AppData\\Local\\Programs\\Python\\Python39\\lib\\site-packages\\starlette\\routing.py\", line 288, in handle\n",
      "    await self.app(scope, receive, send)\n",
      "  File \"c:\\Users\\Ale\\AppData\\Local\\Programs\\Python\\Python39\\lib\\site-packages\\starlette\\routing.py\", line 76, in app\n",
      "    await wrap_app_handling_exceptions(app, request)(scope, receive, send)\n",
      "  File \"c:\\Users\\Ale\\AppData\\Local\\Programs\\Python\\Python39\\lib\\site-packages\\starlette\\_exception_handler.py\", line 53, in wrapped_app\n",
      "    raise exc\n",
      "  File \"c:\\Users\\Ale\\AppData\\Local\\Programs\\Python\\Python39\\lib\\site-packages\\starlette\\_exception_handler.py\", line 42, in wrapped_app\n",
      "    await app(scope, receive, sender)\n",
      "  File \"c:\\Users\\Ale\\AppData\\Local\\Programs\\Python\\Python39\\lib\\site-packages\\starlette\\routing.py\", line 73, in app\n",
      "    response = await f(request)\n",
      "  File \"c:\\Users\\Ale\\AppData\\Local\\Programs\\Python\\Python39\\lib\\site-packages\\fastapi\\routing.py\", line 301, in app\n",
      "    raw_response = await run_endpoint_function(\n",
      "  File \"c:\\Users\\Ale\\AppData\\Local\\Programs\\Python\\Python39\\lib\\site-packages\\fastapi\\routing.py\", line 212, in run_endpoint_function\n",
      "    return await dependant.call(**values)\n",
      "  File \"c:\\Users\\Ale\\Desktop\\Master-thesis\\lore_sa update\\lore_sa\\webapp\\routes\\webapp_api_explain.py\", line 553, in update_visualization\n",
      "    scatter_data = DataProcessor.prepare_scatter_data_neighborhood_only(\n",
      "  File \"c:\\Users\\Ale\\Desktop\\Master-thesis\\lore_sa update\\lore_sa\\webapp\\routes\\webapp_api_explain.py\", line 357, in prepare_scatter_data_neighborhood_only\n",
      "    scatter_data = VisualizationGenerator.generate_scatter_plot_data(\n",
      "  File \"c:\\Users\\Ale\\Desktop\\Master-thesis\\lore_sa update\\lore_sa\\webapp\\routes\\webapp_api_explain.py\", line 279, in generate_scatter_plot_data\n",
      "    return create_scatter_plot_data_raw(\n",
      "  File \"c:\\Users\\Ale\\Desktop\\Master-thesis\\lore_sa update\\lore_sa\\webapp\\webapp_create_scatter_plot_data.py\", line 728, in create_scatter_plot_data_raw\n",
      "    return generator.generate(X, y, pretrained_tree, class_names, feature_names,\n",
      "  File \"c:\\Users\\Ale\\Desktop\\Master-thesis\\lore_sa update\\lore_sa\\webapp\\webapp_create_scatter_plot_data.py\", line 652, in generate\n",
      "    decision_boundary = self.boundary_gen.generate_for_pca(\n",
      "  File \"c:\\Users\\Ale\\Desktop\\Master-thesis\\lore_sa update\\lore_sa\\webapp\\webapp_create_scatter_plot_data.py\", line 339, in generate_for_pca\n",
      "    Z = model.predict(grid_original).reshape(xx.shape)\n",
      "AttributeError: 'DecisionTreeSurrogate' object has no attribute 'predict'\n"
     ]
    }
   ],
   "source": [
    "tabularLore.interactive_explanation(inJupyter=False)"
   ]
  },
  {
   "cell_type": "code",
   "execution_count": 17,
   "id": "7149769e",
   "metadata": {},
   "outputs": [
    {
     "data": {
      "text/plain": [
       "('false', 'true')"
      ]
     },
     "execution_count": 17,
     "metadata": {},
     "output_type": "execute_result"
    }
   ],
   "source": [
    "import os\n",
    "os.environ[\"INSTANCE_PROVIDED\"], os.environ[\"CUSTOM_DATA_LOADED\"]"
   ]
  },
  {
   "cell_type": "code",
   "execution_count": 18,
   "id": "985ac9c6",
   "metadata": {},
   "outputs": [],
   "source": [
    "from lore_sa.webapp.routes.webapp_api_state import webapp_state"
   ]
  },
  {
   "cell_type": "code",
   "execution_count": 19,
   "id": "85c048d9",
   "metadata": {},
   "outputs": [
    {
     "data": {
      "application/vnd.microsoft.datawrangler.viewer.v0+json": {
       "columns": [
        {
         "name": "index",
         "rawType": "int64",
         "type": "integer"
        },
        {
         "name": "age",
         "rawType": "int64",
         "type": "integer"
        },
        {
         "name": "workclass",
         "rawType": "object",
         "type": "string"
        },
        {
         "name": "education",
         "rawType": "object",
         "type": "string"
        },
        {
         "name": "relationship",
         "rawType": "object",
         "type": "string"
        },
        {
         "name": "race",
         "rawType": "object",
         "type": "string"
        },
        {
         "name": "gender",
         "rawType": "object",
         "type": "string"
        },
        {
         "name": "capital-gain",
         "rawType": "int64",
         "type": "integer"
        },
        {
         "name": "capital-loss",
         "rawType": "int64",
         "type": "integer"
        },
        {
         "name": "hours-per-week",
         "rawType": "int64",
         "type": "integer"
        },
        {
         "name": "income",
         "rawType": "object",
         "type": "string"
        }
       ],
       "ref": "66a7f98b-1c23-4782-813f-09e7de9b6f60",
       "rows": [
        [
         "0",
         "44",
         "Federal-gov",
         "Assoc-acdm",
         "Husband",
         "White",
         "Male",
         "0",
         "0",
         "40",
         ">50K"
        ],
        [
         "1",
         "49",
         "Private",
         "Doctorate",
         "Unmarried",
         "White",
         "Male",
         "7430",
         "0",
         "40",
         ">50K"
        ],
        [
         "2",
         "26",
         "Local-gov",
         "Bachelors",
         "Own-child",
         "Black",
         "Female",
         "0",
         "0",
         "42",
         "<=50K"
        ],
        [
         "3",
         "31",
         "Private",
         "Bachelors",
         "Husband",
         "White",
         "Male",
         "0",
         "0",
         "50",
         ">50K"
        ],
        [
         "4",
         "43",
         "Private",
         "Bachelors",
         "Unmarried",
         "Black",
         "Female",
         "0",
         "0",
         "35",
         ">50K"
        ],
        [
         "5",
         "44",
         "Private",
         "Doctorate",
         "Husband",
         "White",
         "Male",
         "0",
         "0",
         "50",
         "<=50K"
        ],
        [
         "7",
         "28",
         "Private",
         "HS-grad",
         "Husband",
         "Black",
         "Male",
         "0",
         "0",
         "40",
         "<=50K"
        ],
        [
         "8",
         "39",
         "State-gov",
         "Some-college",
         "Husband",
         "White",
         "Male",
         "0",
         "0",
         "40",
         "<=50K"
        ],
        [
         "9",
         "54",
         "Self-emp-not-inc",
         "Some-college",
         "Husband",
         "White",
         "Male",
         "0",
         "0",
         "40",
         "<=50K"
        ],
        [
         "10",
         "21",
         "Private",
         "Some-college",
         "Wife",
         "White",
         "Female",
         "0",
         "0",
         "28",
         "<=50K"
        ],
        [
         "11",
         "30",
         "Private",
         "Assoc-acdm",
         "Not-in-family",
         "White",
         "Female",
         "0",
         "0",
         "40",
         "<=50K"
        ],
        [
         "12",
         "26",
         "Private",
         "Masters",
         "Not-in-family",
         "White",
         "Female",
         "0",
         "0",
         "10",
         "<=50K"
        ],
        [
         "13",
         "25",
         "Private",
         "HS-grad",
         "Not-in-family",
         "White",
         "Male",
         "0",
         "0",
         "45",
         "<=50K"
        ],
        [
         "14",
         "35",
         "Private",
         "Masters",
         "Husband",
         "White",
         "Male",
         "0",
         "0",
         "40",
         "<=50K"
        ],
        [
         "15",
         "43",
         "Private",
         "Bachelors",
         "Husband",
         "White",
         "Male",
         "0",
         "0",
         "20",
         ">50K"
        ],
        [
         "16",
         "18",
         "Private",
         "Some-college",
         "Own-child",
         "White",
         "Female",
         "0",
         "0",
         "15",
         "<=50K"
        ],
        [
         "17",
         "29",
         "Private",
         "Masters",
         "Not-in-family",
         "Black",
         "Male",
         "0",
         "0",
         "42",
         "<=50K"
        ],
        [
         "18",
         "38",
         "Private",
         "Some-college",
         "Own-child",
         "White",
         "Female",
         "0",
         "0",
         "25",
         "<=50K"
        ],
        [
         "19",
         "68",
         "Self-emp-not-inc",
         "HS-grad",
         "Husband",
         "White",
         "Male",
         "0",
         "0",
         "50",
         "<=50K"
        ],
        [
         "20",
         "30",
         "Private",
         "Some-college",
         "Husband",
         "White",
         "Male",
         "0",
         "0",
         "40",
         "<=50K"
        ],
        [
         "21",
         "27",
         "Private",
         "HS-grad",
         "Own-child",
         "White",
         "Male",
         "0",
         "0",
         "40",
         "<=50K"
        ],
        [
         "22",
         "31",
         "Private",
         "Some-college",
         "Husband",
         "White",
         "Male",
         "0",
         "0",
         "55",
         "<=50K"
        ],
        [
         "23",
         "17",
         "Private",
         "10th",
         "Own-child",
         "White",
         "Male",
         "0",
         "0",
         "20",
         "<=50K"
        ],
        [
         "24",
         "56",
         "Private",
         "7th-8th",
         "Not-in-family",
         "White",
         "Female",
         "0",
         "0",
         "40",
         "<=50K"
        ],
        [
         "25",
         "58",
         "Local-gov",
         "Bachelors",
         "Not-in-family",
         "White",
         "Female",
         "0",
         "0",
         "50",
         "<=50K"
        ],
        [
         "26",
         "21",
         "Private",
         "Some-college",
         "Not-in-family",
         "White",
         "Female",
         "0",
         "0",
         "37",
         "<=50K"
        ],
        [
         "27",
         "40",
         "Private",
         "Assoc-voc",
         "Not-in-family",
         "White",
         "Female",
         "0",
         "0",
         "35",
         "<=50K"
        ],
        [
         "28",
         "44",
         "Private",
         "HS-grad",
         "Own-child",
         "Black",
         "Female",
         "0",
         "0",
         "40",
         "<=50K"
        ],
        [
         "29",
         "50",
         "Self-emp-not-inc",
         "Masters",
         "Husband",
         "White",
         "Male",
         "0",
         "0",
         "20",
         "<=50K"
        ],
        [
         "31",
         "48",
         "State-gov",
         "Bachelors",
         "Not-in-family",
         "White",
         "Male",
         "0",
         "0",
         "40",
         "<=50K"
        ],
        [
         "32",
         "55",
         "Self-emp-not-inc",
         "HS-grad",
         "Own-child",
         "White",
         "Male",
         "0",
         "0",
         "35",
         "<=50K"
        ],
        [
         "33",
         "34",
         "Private",
         "Prof-school",
         "Husband",
         "White",
         "Male",
         "0",
         "0",
         "65",
         ">50K"
        ],
        [
         "34",
         "23",
         "Private",
         "Some-college",
         "Husband",
         "White",
         "Male",
         "0",
         "0",
         "40",
         "<=50K"
        ],
        [
         "35",
         "33",
         "Local-gov",
         "10th",
         "Husband",
         "White",
         "Male",
         "0",
         "0",
         "40",
         "<=50K"
        ],
        [
         "36",
         "19",
         "Private",
         "HS-grad",
         "Own-child",
         "White",
         "Female",
         "0",
         "0",
         "13",
         "<=50K"
        ],
        [
         "37",
         "39",
         "Self-emp-not-inc",
         "Some-college",
         "Own-child",
         "White",
         "Female",
         "0",
         "0",
         "10",
         "<=50K"
        ],
        [
         "39",
         "30",
         "Private",
         "Assoc-voc",
         "Not-in-family",
         "White",
         "Female",
         "0",
         "0",
         "40",
         ">50K"
        ],
        [
         "40",
         "59",
         "Private",
         "Some-college",
         "Husband",
         "White",
         "Male",
         "0",
         "0",
         "56",
         "<=50K"
        ],
        [
         "41",
         "32",
         "Private",
         "Masters",
         "Wife",
         "Asian-Pac-Islander",
         "Female",
         "0",
         "0",
         "20",
         "<=50K"
        ],
        [
         "42",
         "45",
         "Private",
         "HS-grad",
         "Husband",
         "White",
         "Male",
         "0",
         "0",
         "50",
         "<=50K"
        ],
        [
         "43",
         "38",
         "Private",
         "HS-grad",
         "Not-in-family",
         "White",
         "Male",
         "0",
         "0",
         "40",
         "<=50K"
        ],
        [
         "44",
         "20",
         "Private",
         "9th",
         "Own-child",
         "White",
         "Female",
         "0",
         "0",
         "40",
         "<=50K"
        ],
        [
         "45",
         "53",
         "Private",
         "HS-grad",
         "Not-in-family",
         "Black",
         "Female",
         "0",
         "0",
         "40",
         "<=50K"
        ],
        [
         "46",
         "48",
         "Private",
         "Bachelors",
         "Own-child",
         "White",
         "Female",
         "0",
         "0",
         "40",
         "<=50K"
        ],
        [
         "47",
         "21",
         "Local-gov",
         "HS-grad",
         "Not-in-family",
         "White",
         "Female",
         "0",
         "0",
         "22",
         "<=50K"
        ],
        [
         "48",
         "24",
         "Private",
         "12th",
         "Unmarried",
         "White",
         "Male",
         "0",
         "0",
         "40",
         "<=50K"
        ],
        [
         "50",
         "39",
         "Private",
         "Bachelors",
         "Husband",
         "White",
         "Male",
         "0",
         "0",
         "55",
         ">50K"
        ],
        [
         "51",
         "24",
         "State-gov",
         "Bachelors",
         "Not-in-family",
         "White",
         "Male",
         "0",
         "0",
         "20",
         "<=50K"
        ],
        [
         "52",
         "58",
         "Self-emp-inc",
         "HS-grad",
         "Husband",
         "White",
         "Male",
         "0",
         "0",
         "45",
         "<=50K"
        ],
        [
         "53",
         "46",
         "Federal-gov",
         "Some-college",
         "Unmarried",
         "White",
         "Female",
         "0",
         "0",
         "40",
         "<=50K"
        ]
       ],
       "shape": {
        "columns": 10,
        "rows": 2256
       }
      },
      "text/html": [
       "<div>\n",
       "<style scoped>\n",
       "    .dataframe tbody tr th:only-of-type {\n",
       "        vertical-align: middle;\n",
       "    }\n",
       "\n",
       "    .dataframe tbody tr th {\n",
       "        vertical-align: top;\n",
       "    }\n",
       "\n",
       "    .dataframe thead th {\n",
       "        text-align: right;\n",
       "    }\n",
       "</style>\n",
       "<table border=\"1\" class=\"dataframe\">\n",
       "  <thead>\n",
       "    <tr style=\"text-align: right;\">\n",
       "      <th></th>\n",
       "      <th>age</th>\n",
       "      <th>workclass</th>\n",
       "      <th>education</th>\n",
       "      <th>relationship</th>\n",
       "      <th>race</th>\n",
       "      <th>gender</th>\n",
       "      <th>capital-gain</th>\n",
       "      <th>capital-loss</th>\n",
       "      <th>hours-per-week</th>\n",
       "      <th>income</th>\n",
       "    </tr>\n",
       "  </thead>\n",
       "  <tbody>\n",
       "    <tr>\n",
       "      <th>0</th>\n",
       "      <td>44</td>\n",
       "      <td>Federal-gov</td>\n",
       "      <td>Assoc-acdm</td>\n",
       "      <td>Husband</td>\n",
       "      <td>White</td>\n",
       "      <td>Male</td>\n",
       "      <td>0</td>\n",
       "      <td>0</td>\n",
       "      <td>40</td>\n",
       "      <td>&gt;50K</td>\n",
       "    </tr>\n",
       "    <tr>\n",
       "      <th>1</th>\n",
       "      <td>49</td>\n",
       "      <td>Private</td>\n",
       "      <td>Doctorate</td>\n",
       "      <td>Unmarried</td>\n",
       "      <td>White</td>\n",
       "      <td>Male</td>\n",
       "      <td>7430</td>\n",
       "      <td>0</td>\n",
       "      <td>40</td>\n",
       "      <td>&gt;50K</td>\n",
       "    </tr>\n",
       "    <tr>\n",
       "      <th>2</th>\n",
       "      <td>26</td>\n",
       "      <td>Local-gov</td>\n",
       "      <td>Bachelors</td>\n",
       "      <td>Own-child</td>\n",
       "      <td>Black</td>\n",
       "      <td>Female</td>\n",
       "      <td>0</td>\n",
       "      <td>0</td>\n",
       "      <td>42</td>\n",
       "      <td>&lt;=50K</td>\n",
       "    </tr>\n",
       "    <tr>\n",
       "      <th>3</th>\n",
       "      <td>31</td>\n",
       "      <td>Private</td>\n",
       "      <td>Bachelors</td>\n",
       "      <td>Husband</td>\n",
       "      <td>White</td>\n",
       "      <td>Male</td>\n",
       "      <td>0</td>\n",
       "      <td>0</td>\n",
       "      <td>50</td>\n",
       "      <td>&gt;50K</td>\n",
       "    </tr>\n",
       "    <tr>\n",
       "      <th>4</th>\n",
       "      <td>43</td>\n",
       "      <td>Private</td>\n",
       "      <td>Bachelors</td>\n",
       "      <td>Unmarried</td>\n",
       "      <td>Black</td>\n",
       "      <td>Female</td>\n",
       "      <td>0</td>\n",
       "      <td>0</td>\n",
       "      <td>35</td>\n",
       "      <td>&gt;50K</td>\n",
       "    </tr>\n",
       "    <tr>\n",
       "      <th>...</th>\n",
       "      <td>...</td>\n",
       "      <td>...</td>\n",
       "      <td>...</td>\n",
       "      <td>...</td>\n",
       "      <td>...</td>\n",
       "      <td>...</td>\n",
       "      <td>...</td>\n",
       "      <td>...</td>\n",
       "      <td>...</td>\n",
       "      <td>...</td>\n",
       "    </tr>\n",
       "    <tr>\n",
       "      <th>2438</th>\n",
       "      <td>41</td>\n",
       "      <td>Local-gov</td>\n",
       "      <td>Prof-school</td>\n",
       "      <td>Husband</td>\n",
       "      <td>White</td>\n",
       "      <td>Male</td>\n",
       "      <td>0</td>\n",
       "      <td>0</td>\n",
       "      <td>50</td>\n",
       "      <td>&gt;50K</td>\n",
       "    </tr>\n",
       "    <tr>\n",
       "      <th>2439</th>\n",
       "      <td>51</td>\n",
       "      <td>Private</td>\n",
       "      <td>Masters</td>\n",
       "      <td>Husband</td>\n",
       "      <td>White</td>\n",
       "      <td>Male</td>\n",
       "      <td>7298</td>\n",
       "      <td>0</td>\n",
       "      <td>50</td>\n",
       "      <td>&gt;50K</td>\n",
       "    </tr>\n",
       "    <tr>\n",
       "      <th>2440</th>\n",
       "      <td>56</td>\n",
       "      <td>Private</td>\n",
       "      <td>HS-grad</td>\n",
       "      <td>Husband</td>\n",
       "      <td>White</td>\n",
       "      <td>Male</td>\n",
       "      <td>0</td>\n",
       "      <td>0</td>\n",
       "      <td>36</td>\n",
       "      <td>&gt;50K</td>\n",
       "    </tr>\n",
       "    <tr>\n",
       "      <th>2441</th>\n",
       "      <td>35</td>\n",
       "      <td>Private</td>\n",
       "      <td>HS-grad</td>\n",
       "      <td>Husband</td>\n",
       "      <td>White</td>\n",
       "      <td>Male</td>\n",
       "      <td>0</td>\n",
       "      <td>0</td>\n",
       "      <td>40</td>\n",
       "      <td>&lt;=50K</td>\n",
       "    </tr>\n",
       "    <tr>\n",
       "      <th>2442</th>\n",
       "      <td>21</td>\n",
       "      <td>Private</td>\n",
       "      <td>HS-grad</td>\n",
       "      <td>Wife</td>\n",
       "      <td>White</td>\n",
       "      <td>Female</td>\n",
       "      <td>0</td>\n",
       "      <td>0</td>\n",
       "      <td>38</td>\n",
       "      <td>&lt;=50K</td>\n",
       "    </tr>\n",
       "  </tbody>\n",
       "</table>\n",
       "<p>2256 rows × 10 columns</p>\n",
       "</div>"
      ],
      "text/plain": [
       "      age    workclass    education relationship   race  gender  capital-gain  \\\n",
       "0      44  Federal-gov   Assoc-acdm      Husband  White    Male             0   \n",
       "1      49      Private    Doctorate    Unmarried  White    Male          7430   \n",
       "2      26    Local-gov    Bachelors    Own-child  Black  Female             0   \n",
       "3      31      Private    Bachelors      Husband  White    Male             0   \n",
       "4      43      Private    Bachelors    Unmarried  Black  Female             0   \n",
       "...   ...          ...          ...          ...    ...     ...           ...   \n",
       "2438   41    Local-gov  Prof-school      Husband  White    Male             0   \n",
       "2439   51      Private      Masters      Husband  White    Male          7298   \n",
       "2440   56      Private      HS-grad      Husband  White    Male             0   \n",
       "2441   35      Private      HS-grad      Husband  White    Male             0   \n",
       "2442   21      Private      HS-grad         Wife  White  Female             0   \n",
       "\n",
       "      capital-loss  hours-per-week income  \n",
       "0                0              40   >50K  \n",
       "1                0              40   >50K  \n",
       "2                0              42  <=50K  \n",
       "3                0              50   >50K  \n",
       "4                0              35   >50K  \n",
       "...            ...             ...    ...  \n",
       "2438             0              50   >50K  \n",
       "2439             0              50   >50K  \n",
       "2440             0              36   >50K  \n",
       "2441             0              40  <=50K  \n",
       "2442             0              38  <=50K  \n",
       "\n",
       "[2256 rows x 10 columns]"
      ]
     },
     "execution_count": 19,
     "metadata": {},
     "output_type": "execute_result"
    }
   ],
   "source": [
    "webapp_state.dataset.df"
   ]
  },
  {
   "cell_type": "code",
   "execution_count": 22,
   "id": "80168e86",
   "metadata": {},
   "outputs": [],
   "source": [
    "from lore_sa.webapp import Webapp\n",
    "webapp = Webapp()"
   ]
  },
  {
   "cell_type": "code",
   "execution_count": 23,
   "id": "4fa0c73b",
   "metadata": {},
   "outputs": [
    {
     "name": "stdout",
     "output_type": "stream",
     "text": [
      "Launching LORE_sa Demo Application\n",
      "==================================================\n",
      "Starting API server on 0.0.0.0:8000\n"
     ]
    },
    {
     "name": "stderr",
     "output_type": "stream",
     "text": [
      "INFO:     Started server process [20108]\n",
      "INFO:     Waiting for application startup.\n",
      "INFO:     Application startup complete.\n",
      "ERROR:    [Errno 10048] error while attempting to bind on address ('0.0.0.0', 8000): only one usage of each socket address (protocol/network address/port) is normally permitted\n",
      "INFO:     Waiting for application shutdown.\n",
      "INFO:     Application shutdown complete.\n"
     ]
    },
    {
     "name": "stdout",
     "output_type": "stream",
     "text": [
      "API server is ready at http://localhost:8000\n",
      "NPM version detected: 10.9.3\n",
      "Dependencies already installed, skipping npm install\n",
      "Application started successfully!\n",
      "API: http://localhost:8000/docs#/\n",
      "Client: http://localhost:8080\n",
      "==================================================\n",
      "Opening http://localhost:8080 in your default browser...\n",
      "Browser opened successfully!\n"
     ]
    }
   ],
   "source": [
    "webapp.launch_demo()"
   ]
  }
 ],
 "metadata": {
  "kernelspec": {
   "display_name": "Python 3",
   "language": "python",
   "name": "python3"
  },
  "language_info": {
   "codemirror_mode": {
    "name": "ipython",
    "version": 3
   },
   "file_extension": ".py",
   "mimetype": "text/x-python",
   "name": "python",
   "nbconvert_exporter": "python",
   "pygments_lexer": "ipython3",
   "version": "3.9.0"
  }
 },
 "nbformat": 4,
 "nbformat_minor": 5
}

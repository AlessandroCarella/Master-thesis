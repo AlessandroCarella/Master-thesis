{
 "cells": [
  {
   "cell_type": "code",
   "execution_count": null,
   "id": "e5144e0a",
   "metadata": {},
   "outputs": [],
   "source": [
    "from lore_sa.dataset import TabularDataset\n",
    "from lore_sa.lore import TabularGeneticGeneratorLore"
   ]
  },
  {
   "cell_type": "code",
   "execution_count": null,
   "id": "1614f5c1",
   "metadata": {},
   "outputs": [],
   "source": [
    "target = 'income'"
   ]
  },
  {
   "cell_type": "code",
   "execution_count": null,
   "id": "66c360ef",
   "metadata": {
    "ExecuteTime": {
     "end_time": "2024-07-01T09:13:06.822427Z",
     "start_time": "2024-07-01T09:13:06.227080Z"
    }
   },
   "outputs": [],
   "source": [
    "dataset = TabularDataset.from_csv('adult.csv', class_name = target)\n",
    "dataset.df.dropna(inplace = True)"
   ]
  },
  {
   "cell_type": "code",
   "execution_count": null,
   "id": "213cddc1",
   "metadata": {},
   "outputs": [],
   "source": [
    "dataset.df.keys()"
   ]
  },
  {
   "cell_type": "code",
   "execution_count": null,
   "id": "ba3937ac",
   "metadata": {},
   "outputs": [],
   "source": [
    "dataset.df.drop([\"marital-status\", \"fnlwgt\", \"educational-num\", \"occupation\", \"native-country\"], axis=1, inplace=True)"
   ]
  },
  {
   "cell_type": "code",
   "execution_count": null,
   "id": "a974d87a",
   "metadata": {
    "ExecuteTime": {
     "end_time": "2024-07-01T09:21:25.971357Z",
     "start_time": "2024-07-01T09:21:25.698303Z"
    }
   },
   "outputs": [],
   "source": [
    "dataset.update_descriptor()"
   ]
  },
  {
   "cell_type": "code",
   "execution_count": null,
   "id": "adb3009d21ac3996",
   "metadata": {
    "ExecuteTime": {
     "end_time": "2024-07-01T09:33:08.224084Z",
     "start_time": "2024-07-01T09:33:08.209156Z"
    }
   },
   "outputs": [],
   "source": [
    "from sklearn.pipeline import make_pipeline\n",
    "from sklearn.preprocessing import StandardScaler, OrdinalEncoder\n",
    "from sklearn.compose import ColumnTransformer\n",
    "from sklearn.ensemble import RandomForestClassifier\n",
    "from sklearn.model_selection import train_test_split\n",
    "from lore_sa.bbox import sklearn_classifier_bbox\n",
    "\n",
    "def train_model(dataset: TabularDataset):\n",
    "    numeric_indices = [v['index'] for v in dataset.descriptor['numeric'].values()]\n",
    "    categorical_indices = [v['index'] for v in dataset.descriptor['categorical'].values()]\n",
    "    preprocessor = ColumnTransformer(\n",
    "        transformers=[\n",
    "            ('num', StandardScaler(), numeric_indices),\n",
    "            ('cat', OrdinalEncoder(), categorical_indices)\n",
    "        ]\n",
    "    )\n",
    "    model = make_pipeline(preprocessor, RandomForestClassifier(n_estimators=100, random_state=42))\n",
    "    \n",
    "    X = dataset.df.drop([target], axis=1)\n",
    "    X_train, X_test, y_train, y_test = train_test_split(X.values, dataset.df[target].values,\n",
    "                test_size=0.3, random_state=42, stratify=dataset.df[target].values)\n",
    "    model.fit(X_train, y_train)\n",
    "    \n",
    "    return sklearn_classifier_bbox.sklearnBBox(model)"
   ]
  },
  {
   "cell_type": "code",
   "execution_count": null,
   "id": "5249087cf760cf4f",
   "metadata": {
    "ExecuteTime": {
     "end_time": "2024-07-01T09:33:09.806446Z",
     "start_time": "2024-07-01T09:33:08.432660Z"
    }
   },
   "outputs": [],
   "source": [
    "bbox = train_model(dataset)"
   ]
  },
  {
   "cell_type": "code",
   "execution_count": null,
   "id": "96805c27b65ef473",
   "metadata": {
    "ExecuteTime": {
     "end_time": "2024-07-01T09:36:30.604558Z",
     "start_time": "2024-07-01T09:36:30.583912Z"
    }
   },
   "outputs": [],
   "source": [
    "tabularLore = TabularGeneticGeneratorLore(bbox, dataset)"
   ]
  },
  {
   "cell_type": "code",
   "execution_count": null,
   "id": "76891ffe",
   "metadata": {},
   "outputs": [],
   "source": [
    "out = []\n",
    "for k in dataset.descriptor.keys():\n",
    "    if k != 'target':\n",
    "        out.extend(list(dataset.descriptor[k].keys()))\n",
    "out, dataset.descriptor.keys()"
   ]
  },
  {
   "cell_type": "code",
   "execution_count": null,
   "id": "44da9354",
   "metadata": {},
   "outputs": [],
   "source": [
    "dataset.descriptor[\"target\"]"
   ]
  },
  {
   "cell_type": "code",
   "execution_count": null,
   "id": "f12adf21",
   "metadata": {},
   "outputs": [],
   "source": [
    "x = (dataset.df.drop([target], axis=1)).iloc[1]"
   ]
  },
  {
   "cell_type": "code",
   "execution_count": null,
   "id": "cd1f4ee3",
   "metadata": {},
   "outputs": [],
   "source": [
    "# tabularLore.explain(x)"
   ]
  },
  {
   "cell_type": "code",
   "execution_count": null,
   "id": "0b1aaead",
   "metadata": {},
   "outputs": [],
   "source": [
    "for k,v in x.items():\n",
    "    print (k,v)"
   ]
  },
  {
   "cell_type": "code",
   "execution_count": null,
   "id": "d3dd5465",
   "metadata": {},
   "outputs": [],
   "source": [
    "# tabularLore.interactive_explanation(x, inJupyter=False)"
   ]
  },
  {
   "cell_type": "code",
   "execution_count": null,
   "id": "5e645233",
   "metadata": {},
   "outputs": [],
   "source": [
    "tabularLore.interactive_explanation(inJupyter=False)"
   ]
  },
  {
   "cell_type": "code",
   "execution_count": null,
   "id": "7149769e",
   "metadata": {},
   "outputs": [],
   "source": [
    "import os\n",
    "os.environ[\"INSTANCE_PROVIDED\"], os.environ[\"CUSTOM_DATA_LOADED\"]"
   ]
  },
  {
   "cell_type": "code",
   "execution_count": null,
   "id": "985ac9c6",
   "metadata": {},
   "outputs": [],
   "source": [
    "from lore_sa.webapp.routes.webapp_api_state import webapp_state"
   ]
  },
  {
   "cell_type": "code",
   "execution_count": null,
   "id": "85c048d9",
   "metadata": {},
   "outputs": [],
   "source": [
    "webapp_state.dataset.df"
   ]
  },
  {
   "cell_type": "code",
   "execution_count": null,
   "id": "80168e86",
   "metadata": {},
   "outputs": [],
   "source": [
    "from lore_sa.webapp import Webapp\n",
    "webapp = Webapp()"
   ]
  },
  {
   "cell_type": "code",
   "execution_count": null,
   "id": "4fa0c73b",
   "metadata": {},
   "outputs": [],
   "source": [
    "webapp.launch_demo()"
   ]
  }
 ],
 "metadata": {
  "kernelspec": {
   "display_name": "Python 3",
   "language": "python",
   "name": "python3"
  },
  "language_info": {
   "codemirror_mode": {
    "name": "ipython",
    "version": 3
   },
   "file_extension": ".py",
   "mimetype": "text/x-python",
   "name": "python",
   "nbconvert_exporter": "python",
   "pygments_lexer": "ipython3",
   "version": "3.9.0"
  }
 },
 "nbformat": 4,
 "nbformat_minor": 5
}

{
 "cells": [
  {
   "cell_type": "code",
   "execution_count": 1,
   "id": "e5144e0a",
   "metadata": {},
   "outputs": [],
   "source": [
    "from lore_sa.dataset import TabularDataset"
   ]
  },
  {
   "cell_type": "code",
   "execution_count": 2,
   "id": "66c360ef",
   "metadata": {
    "ExecuteTime": {
     "end_time": "2024-07-01T09:13:06.822427Z",
     "start_time": "2024-07-01T09:13:06.227080Z"
    }
   },
   "outputs": [],
   "source": [
    "dataset = TabularDataset.from_csv('iris.csv', class_name = \"variety\")\n",
    "dataset.df.dropna(inplace = True)"
   ]
  },
  {
   "cell_type": "code",
   "execution_count": 3,
   "id": "213cddc1",
   "metadata": {},
   "outputs": [
    {
     "data": {
      "text/plain": [
       "Index(['sepal.length', 'sepal.width', 'petal.length', 'petal.width',\n",
       "       'variety'],\n",
       "      dtype='object')"
      ]
     },
     "execution_count": 3,
     "metadata": {},
     "output_type": "execute_result"
    }
   ],
   "source": [
    "dataset.df.keys()"
   ]
  },
  {
   "cell_type": "code",
   "execution_count": null,
   "id": "a974d87a",
   "metadata": {
    "ExecuteTime": {
     "end_time": "2024-07-01T09:21:25.971357Z",
     "start_time": "2024-07-01T09:21:25.698303Z"
    }
   },
   "outputs": [],
   "source": [
    "dataset.update_descriptor()"
   ]
  },
  {
   "cell_type": "code",
   "execution_count": 5,
   "id": "adb3009d21ac3996",
   "metadata": {
    "ExecuteTime": {
     "end_time": "2024-07-01T09:33:08.224084Z",
     "start_time": "2024-07-01T09:33:08.209156Z"
    }
   },
   "outputs": [],
   "source": [
    "from sklearn.pipeline import make_pipeline\n",
    "from sklearn.preprocessing import StandardScaler, OrdinalEncoder\n",
    "from sklearn.compose import ColumnTransformer\n",
    "from sklearn.ensemble import RandomForestClassifier\n",
    "from sklearn.model_selection import train_test_split\n",
    "from lore_sa.bbox import sklearn_classifier_bbox\n",
    "\n",
    "\n",
    "def train_model(dataset: TabularDataset):\n",
    "    numeric_indices = [v['index'] for v in dataset.descriptor['numeric'].values()]\n",
    "    categorical_indices = [v['index'] for v in dataset.descriptor['categorical'].values()]\n",
    "    preprocessor = ColumnTransformer(\n",
    "        transformers=[\n",
    "            ('num', StandardScaler(), numeric_indices),\n",
    "            ('cat', OrdinalEncoder(), categorical_indices)\n",
    "        ]\n",
    "    )\n",
    "    model = make_pipeline(preprocessor, RandomForestClassifier(n_estimators=100, random_state=42))\n",
    "    \n",
    "    X_train, X_test, y_train, y_test = train_test_split(dataset.df.loc[:, 'sepal.length':'petal.width'].values, dataset.df['variety'].values,\n",
    "                test_size=0.3, random_state=42, stratify=dataset.df['variety'].values)\n",
    "    model.fit(X_train, y_train)\n",
    "    \n",
    "    return sklearn_classifier_bbox.sklearnBBox(model)"
   ]
  },
  {
   "cell_type": "code",
   "execution_count": 6,
   "id": "5249087cf760cf4f",
   "metadata": {
    "ExecuteTime": {
     "end_time": "2024-07-01T09:33:09.806446Z",
     "start_time": "2024-07-01T09:33:08.432660Z"
    }
   },
   "outputs": [],
   "source": [
    "bbox = train_model(dataset)"
   ]
  },
  {
   "cell_type": "code",
   "execution_count": 7,
   "id": "96805c27b65ef473",
   "metadata": {
    "ExecuteTime": {
     "end_time": "2024-07-01T09:36:30.604558Z",
     "start_time": "2024-07-01T09:36:30.583912Z"
    }
   },
   "outputs": [],
   "source": [
    "from lore_sa.lore import TabularGeneticGeneratorLore\n",
    "\n",
    "tabularLore = TabularGeneticGeneratorLore(bbox, dataset)"
   ]
  },
  {
   "cell_type": "code",
   "execution_count": 8,
   "id": "76891ffe",
   "metadata": {},
   "outputs": [
    {
     "data": {
      "text/plain": [
       "(['sepal.length', 'sepal.width', 'petal.length', 'petal.width'],\n",
       " dict_keys(['numeric', 'categorical', 'ordinal', 'target']))"
      ]
     },
     "execution_count": 8,
     "metadata": {},
     "output_type": "execute_result"
    }
   ],
   "source": [
    "out = []\n",
    "for k in dataset.descriptor.keys():\n",
    "    if k != 'target':\n",
    "        out.extend(list(dataset.descriptor[k].keys()))\n",
    "out, dataset.descriptor.keys()"
   ]
  },
  {
   "cell_type": "code",
   "execution_count": 9,
   "id": "44da9354",
   "metadata": {},
   "outputs": [
    {
     "data": {
      "text/plain": [
       "{'variety': {'index': 4,\n",
       "  'distinct_values': ['Setosa', 'Versicolor', 'Virginica'],\n",
       "  'count': {'Setosa': 50, 'Versicolor': 50, 'Virginica': 50}}}"
      ]
     },
     "execution_count": 9,
     "metadata": {},
     "output_type": "execute_result"
    }
   ],
   "source": [
    "dataset.descriptor[\"target\"]"
   ]
  },
  {
   "cell_type": "code",
   "execution_count": 10,
   "id": "a74e4711",
   "metadata": {},
   "outputs": [],
   "source": [
    "from lore_sa.webapp import Webapp\n",
    "webapp = Webapp()"
   ]
  },
  {
   "cell_type": "code",
   "execution_count": null,
   "id": "5b4ac621",
   "metadata": {},
   "outputs": [
    {
     "name": "stderr",
     "output_type": "stream",
     "text": [
      "INFO:     Started server process [15580]\n",
      "INFO:     Waiting for application startup.\n",
      "INFO:     Application startup complete.\n",
      "INFO:     Uvicorn running on http://0.0.0.0:8000 (Press CTRL+C to quit)\n"
     ]
    },
    {
     "name": "stdout",
     "output_type": "stream",
     "text": [
      "Launching LORE_sa explanation viz webapp\n",
      "==================================================\n",
      "Starting API server on 0.0.0.0:8000\n",
      "INFO:     127.0.0.1:49689 - \"GET /api/get-datasets HTTP/1.1\" 200 OK\n",
      "API server is ready at http://localhost:8000\n",
      "Application started successfully!\n",
      "API: http://localhost:8000\n",
      "Client: http://localhost:8080\n",
      "==================================================\n",
      "Opening http://localhost:8080 in your default browser...\n",
      "Browser opened successfully!\n"
     ]
    },
    {
     "name": "stdout",
     "output_type": "stream",
     "text": [
      "INFO:     127.0.0.1:61271 - \"GET /api/check-custom-data HTTP/1.1\" 200 OK\n",
      "INFO:     127.0.0.1:61279 - \"GET /api/get-datasets HTTP/1.1\" 200 OK\n",
      "INFO:     127.0.0.1:61271 - \"GET /api/check-custom-data HTTP/1.1\" 200 OK\n",
      "INFO:     127.0.0.1:61271 - \"GET /api/get-datasets HTTP/1.1\" 200 OK\n",
      "INFO:     127.0.0.1:61292 - \"GET /api/get-datasets HTTP/1.1\" 200 OK\n",
      "INFO:     127.0.0.1:61271 - \"GET /api/check-custom-data HTTP/1.1\" 200 OK\n",
      "INFO:     127.0.0.1:61303 - \"GET /api/get-datasets HTTP/1.1\" 200 OK\n",
      "INFO:     127.0.0.1:60010 - \"GET /api/check-custom-data HTTP/1.1\" 200 OK\n",
      "INFO:     127.0.0.1:60010 - \"GET /api/get-datasets HTTP/1.1\" 200 OK\n"
     ]
    }
   ],
   "source": [
    "webapp.launch_demo()\n",
    "# webapp.interactive_explanation(tabularLore.bbox, tabularLore.dataset, 'variety')"
   ]
  }
 ],
 "metadata": {
  "kernelspec": {
   "display_name": "Python 3",
   "language": "python",
   "name": "python3"
  },
  "language_info": {
   "codemirror_mode": {
    "name": "ipython",
    "version": 3
   },
   "file_extension": ".py",
   "mimetype": "text/x-python",
   "name": "python",
   "nbconvert_exporter": "python",
   "pygments_lexer": "ipython3",
   "version": "3.9.0"
  }
 },
 "nbformat": 4,
 "nbformat_minor": 5
}

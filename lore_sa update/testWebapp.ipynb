{
 "cells": [
  {
   "cell_type": "code",
   "execution_count": 1,
   "id": "6a8cfef6",
   "metadata": {},
   "outputs": [],
   "source": [
    "from lore_sa.webapp import Webapp\n",
    "webapp = Webapp()"
   ]
  },
  {
   "cell_type": "code",
   "execution_count": 2,
   "id": "49bf7667",
   "metadata": {},
   "outputs": [
    {
     "name": "stderr",
     "output_type": "stream",
     "text": [
      "INFO:     Started server process [29232]\n",
      "INFO:     Waiting for application startup.\n",
      "INFO:     Application startup complete.\n",
      "INFO:     Uvicorn running on http://0.0.0.0:8000 (Press CTRL+C to quit)\n"
     ]
    },
    {
     "name": "stdout",
     "output_type": "stream",
     "text": [
      "Launching LORE_sa Demo Application\n",
      "==================================================\n",
      "Cleaning up processes on target ports...\n",
      "========================================\n",
      "Checking port 8000...\n",
      "Error finding processes on port 8000: invalid attr name 'connections'\n",
      "No processes found running on port 8000\n",
      "Checking port 8080...\n",
      "Error finding processes on port 8080: invalid attr name 'connections'\n",
      "No processes found running on port 8080\n",
      "========================================\n",
      "Port cleanup completed successfully\n",
      "Starting API server on 0.0.0.0:8000\n",
      "INFO:     127.0.0.1:54286 - \"GET /api/get-datasets HTTP/1.1\" 200 OK\n",
      "API server is ready at http://localhost:8000\n",
      "Starting client application on port 8080...\n",
      "Application started successfully!\n",
      "API: http://localhost:8000\n",
      "Client: http://localhost:8080\n",
      "==================================================\n"
     ]
    },
    {
     "data": {
      "text/html": [
       "\n",
       "        <div style=\"\n",
       "            width: 100%;\n",
       "            height: 700px;\n",
       "            overflow: hidden;\n",
       "            border: 1px solid #ccc;\n",
       "            position: relative;\n",
       "        \">\n",
       "            <iframe src=\"http://localhost:8080\" \n",
       "                    width=\"142%\" \n",
       "                    height=\"1000px\"\n",
       "                    style=\"\n",
       "                        transform: scale(0.7);\n",
       "                        transform-origin: top left;\n",
       "                        border: none;\n",
       "                        position: absolute;\n",
       "                        top: 0;\n",
       "                        left: 0;\n",
       "                    \"\n",
       "                    frameborder=\"0\"\n",
       "                    scrolling=\"auto\">\n",
       "            </iframe>\n",
       "        </div>\n",
       "        "
      ],
      "text/plain": [
       "<IPython.core.display.HTML object>"
      ]
     },
     "metadata": {},
     "output_type": "display_data"
    },
    {
     "data": {
      "text/plain": [
       "(8000, 8080)"
      ]
     },
     "execution_count": 2,
     "metadata": {},
     "output_type": "execute_result"
    },
    {
     "name": "stdout",
     "output_type": "stream",
     "text": [
      "INFO:     127.0.0.1:51337 - \"GET / HTTP/1.1\" 404 Not Found\n",
      "INFO:     127.0.0.1:51337 - \"GET /favicon.ico HTTP/1.1\" 404 Not Found\n",
      "INFO:     127.0.0.1:51337 - \"GET /docs HTTP/1.1\" 200 OK\n",
      "INFO:     127.0.0.1:51337 - \"GET /openapi.json HTTP/1.1\" 200 OK\n",
      "INFO:     127.0.0.1:56947 - \"GET /api/get-datasets HTTP/1.1\" 200 OK\n"
     ]
    }
   ],
   "source": [
    "webapp.launch_demo()"
   ]
  }
 ],
 "metadata": {
  "kernelspec": {
   "display_name": "Python 3",
   "language": "python",
   "name": "python3"
  },
  "language_info": {
   "codemirror_mode": {
    "name": "ipython",
    "version": 3
   },
   "file_extension": ".py",
   "mimetype": "text/x-python",
   "name": "python",
   "nbconvert_exporter": "python",
   "pygments_lexer": "ipython3",
   "version": "3.9.0"
  }
 },
 "nbformat": 4,
 "nbformat_minor": 5
}

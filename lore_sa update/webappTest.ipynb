{
 "cells": [
  {
   "cell_type": "code",
   "execution_count": 1,
   "id": "93a4deff",
   "metadata": {},
   "outputs": [],
   "source": [
    "from lore_sa.webapp import Webapp\n",
    "webapp = Webapp()"
   ]
  },
  {
   "cell_type": "code",
   "execution_count": null,
   "id": "a0305bd1",
   "metadata": {},
   "outputs": [
    {
     "name": "stderr",
     "output_type": "stream",
     "text": [
      "INFO:     Started server process [30944]\n",
      "INFO:     Waiting for application startup.\n",
      "INFO:     Application startup complete.\n",
      "INFO:     Uvicorn running on http://0.0.0.0:8000 (Press CTRL+C to quit)\n"
     ]
    },
    {
     "name": "stdout",
     "output_type": "stream",
     "text": [
      "Launching LORE_sa Demo Application\n",
      "==================================================\n",
      "Starting API server on 0.0.0.0:8000\n",
      "INFO:     127.0.0.1:56852 - \"GET /api/get-datasets HTTP/1.1\" 200 OK\n",
      "API server is ready at http://localhost:8000\n",
      "NPM version detected: 10.9.3\n",
      "Dependencies already installed, skipping npm install\n",
      "Application started successfully!\n",
      "API: http://localhost:8000/docs#/\n",
      "Client: http://localhost:8080\n",
      "==================================================\n",
      "Opening http://localhost:8080 in your default browser...\n",
      "Browser opened successfully!\n"
     ]
    },
    {
     "name": "stdout",
     "output_type": "stream",
     "text": [
      "INFO:     127.0.0.1:54163 - \"GET /api/check-custom-data HTTP/1.1\" 200 OK\n",
      "INFO:     127.0.0.1:54163 - \"GET /api/get-datasets HTTP/1.1\" 200 OK\n",
      "INFO:     127.0.0.1:54163 - \"GET /api/get-dataset-info/iris HTTP/1.1\" 200 OK\n",
      "INFO:     127.0.0.1:54163 - \"GET /api/get-classifiers HTTP/1.1\" 200 OK\n",
      "INFO:     127.0.0.1:54163 - \"GET /api/get-classifiers HTTP/1.1\" 200 OK\n",
      "INFO:     127.0.0.1:54163 - \"POST /api/train-model HTTP/1.1\" 200 OK\n",
      "{'UMAP': {'n_neighbors': 15, 'min_dist': 0.1, 'spread': 1, 'n_epochs': 200, 'learning_rate': 1, 'metric': 'euclidean'}, 'PCA': {'whiten': False, 'svd_solver': 'auto', 'tol': 0, 'iterated_power': 7}, 't-SNE': {'sne_perplexity': 30, 'sne_early_exaggeration': 12, 'sne_learning_rate': 'auto', 'sne_max_iter': 1000, 'sne_metric': 'euclidean', 'sne_init': 'pca', 'sne_method': 'barnes_hut'}, 'MDS': {'metric': True, 'n_init': 4, 'max_iter': 300, 'eps': 0.001, 'dissimilarity': 'euclidean'}}\n",
      "INFO:     127.0.0.1:54163 - \"POST /api/explain HTTP/1.1\" 200 OK\n",
      "INFO:     127.0.0.1:54163 - \"GET /api/get-classes-colors?method=umap HTTP/1.1\" 200 OK\n",
      "{'UMAP': {'n_neighbors': 16, 'min_dist': 0.1, 'spread': 1, 'n_epochs': 200, 'learning_rate': 1, 'metric': 'euclidean'}, 'PCA': {'whiten': False, 'svd_solver': 'auto', 'tol': 0, 'iterated_power': 7}, 't-SNE': {'sne_perplexity': 30, 'sne_early_exaggeration': 12, 'sne_learning_rate': 'auto', 'sne_max_iter': 1000, 'sne_metric': 'euclidean', 'sne_init': 'pca', 'sne_method': 'barnes_hut'}, 'MDS': {'metric': True, 'n_init': 4, 'max_iter': 300, 'eps': 0.001, 'dissimilarity': 'euclidean'}}\n",
      "INFO:     127.0.0.1:61992 - \"POST /api/explain HTTP/1.1\" 200 OK\n",
      "INFO:     127.0.0.1:61992 - \"GET /api/get-classes-colors?method=umap HTTP/1.1\" 200 OK\n"
     ]
    }
   ],
   "source": [
    "webapp.launch_demo()"
   ]
  }
 ],
 "metadata": {
  "kernelspec": {
   "display_name": "Python 3",
   "language": "python",
   "name": "python3"
  },
  "language_info": {
   "codemirror_mode": {
    "name": "ipython",
    "version": 3
   },
   "file_extension": ".py",
   "mimetype": "text/x-python",
   "name": "python",
   "nbconvert_exporter": "python",
   "pygments_lexer": "ipython3",
   "version": "3.9.0"
  }
 },
 "nbformat": 4,
 "nbformat_minor": 5
}

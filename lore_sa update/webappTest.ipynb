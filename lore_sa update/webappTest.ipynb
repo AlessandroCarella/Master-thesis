{
 "cells": [
  {
   "cell_type": "code",
   "execution_count": 1,
   "id": "93a4deff",
   "metadata": {},
   "outputs": [],
   "source": [
    "from lore_sa.webapp import Webapp\n",
    "webapp = Webapp()"
   ]
  },
  {
   "cell_type": "code",
   "execution_count": null,
   "id": "a0305bd1",
   "metadata": {},
   "outputs": [
    {
     "name": "stderr",
     "output_type": "stream",
     "text": [
      "INFO:     Started server process [2508]\n",
      "INFO:     Waiting for application startup.\n",
      "INFO:     Application startup complete.\n",
      "INFO:     Uvicorn running on http://0.0.0.0:8000 (Press CTRL+C to quit)\n"
     ]
    },
    {
     "name": "stdout",
     "output_type": "stream",
     "text": [
      "Launching LORE_sa Demo Application\n",
      "==================================================\n",
      "Starting API server on 0.0.0.0:8000\n",
      "INFO:     127.0.0.1:58096 - \"GET /api/get-datasets HTTP/1.1\" 200 OK\n",
      "API server is ready at http://localhost:8000\n",
      "NPM version detected: 10.9.3\n",
      "Dependencies already installed, skipping npm install\n",
      "Application started successfully!\n",
      "API: http://localhost:8000/docs#/\n",
      "Client: http://localhost:8080\n",
      "==================================================\n",
      "Opening http://localhost:8080 in your default browser...\n",
      "Browser opened successfully!\n"
     ]
    },
    {
     "name": "stdout",
     "output_type": "stream",
     "text": [
      "INFO:     127.0.0.1:53080 - \"GET /api/check-custom-data HTTP/1.1\" 200 OK\n",
      "INFO:     127.0.0.1:53080 - \"GET /api/get-datasets HTTP/1.1\" 200 OK\n",
      "INFO:     127.0.0.1:53080 - \"GET /api/get-dataset-info/iris HTTP/1.1\" 200 OK\n",
      "INFO:     127.0.0.1:53080 - \"GET /api/get-classifiers HTTP/1.1\" 200 OK\n",
      "INFO:     127.0.0.1:53080 - \"GET /api/get-classifiers HTTP/1.1\" 200 OK\n",
      "INFO:     127.0.0.1:53080 - \"POST /api/train-model HTTP/1.1\" 200 OK\n",
      "INFO:     127.0.0.1:60434 - \"POST /api/explain HTTP/1.1\" 200 OK\n",
      "INFO:     127.0.0.1:60434 - \"GET /api/get-classes-colors?method=umap HTTP/1.1\" 200 OK\n",
      "INFO:     127.0.0.1:56655 - \"POST /api/explain HTTP/1.1\" 200 OK\n",
      "INFO:     127.0.0.1:56655 - \"GET /api/get-classes-colors?method=umap HTTP/1.1\" 200 OK\n",
      "INFO:     127.0.0.1:55401 - \"OPTIONS /api/update-visualization HTTP/1.1\" 200 OK\n",
      "INFO:     127.0.0.1:55401 - \"POST /api/update-visualization HTTP/1.1\" 200 OK\n",
      "INFO:     127.0.0.1:55401 - \"GET /api/get-classes-colors?method=pca HTTP/1.1\" 200 OK\n",
      "INFO:     127.0.0.1:55401 - \"OPTIONS /api/explain HTTP/1.1\" 200 OK\n",
      "INFO:     127.0.0.1:62561 - \"POST /api/explain HTTP/1.1\" 200 OK\n",
      "INFO:     127.0.0.1:62561 - \"GET /api/get-classes-colors?method=umap HTTP/1.1\" 200 OK\n",
      "INFO:     127.0.0.1:62561 - \"POST /api/update-visualization HTTP/1.1\" 200 OK\n",
      "INFO:     127.0.0.1:62561 - \"GET /api/get-classes-colors?method=pca HTTP/1.1\" 200 OK\n",
      "INFO:     127.0.0.1:62561 - \"POST /api/explain HTTP/1.1\" 200 OK\n",
      "INFO:     127.0.0.1:62561 - \"GET /api/get-classes-colors?method=umap HTTP/1.1\" 200 OK\n",
      "INFO:     127.0.0.1:62561 - \"POST /api/update-visualization HTTP/1.1\" 200 OK\n",
      "INFO:     127.0.0.1:62561 - \"GET /api/get-classes-colors?method=pca HTTP/1.1\" 200 OK\n",
      "INFO:     127.0.0.1:64993 - \"POST /api/update-visualization HTTP/1.1\" 200 OK\n",
      "INFO:     127.0.0.1:64993 - \"GET /api/get-classes-colors?method=umap HTTP/1.1\" 200 OK\n",
      "INFO:     127.0.0.1:62992 - \"POST /api/explain HTTP/1.1\" 200 OK\n",
      "INFO:     127.0.0.1:62992 - \"GET /api/get-classes-colors?method=umap HTTP/1.1\" 200 OK\n",
      "INFO:     127.0.0.1:56159 - \"POST /api/explain HTTP/1.1\" 200 OK\n",
      "INFO:     127.0.0.1:56159 - \"GET /api/get-classes-colors?method=umap HTTP/1.1\" 200 OK\n",
      "INFO:     127.0.0.1:56159 - \"POST /api/update-visualization HTTP/1.1\" 200 OK\n",
      "INFO:     127.0.0.1:56159 - \"GET /api/get-classes-colors?method=pca HTTP/1.1\" 200 OK\n",
      "INFO:     127.0.0.1:56159 - \"POST /api/explain HTTP/1.1\" 200 OK\n",
      "INFO:     127.0.0.1:56159 - \"GET /api/get-classes-colors?method=umap HTTP/1.1\" 200 OK\n",
      "INFO:     127.0.0.1:56159 - \"POST /api/update-visualization HTTP/1.1\" 200 OK\n",
      "INFO:     127.0.0.1:56159 - \"GET /api/get-classes-colors?method=pca HTTP/1.1\" 200 OK\n",
      "INFO:     127.0.0.1:56159 - \"POST /api/update-visualization HTTP/1.1\" 200 OK\n",
      "INFO:     127.0.0.1:56159 - \"GET /api/get-classes-colors?method=umap HTTP/1.1\" 200 OK\n",
      "INFO:     127.0.0.1:56159 - \"POST /api/explain HTTP/1.1\" 200 OK\n",
      "INFO:     127.0.0.1:56159 - \"GET /api/get-classes-colors?method=umap HTTP/1.1\" 200 OK\n",
      "INFO:     127.0.0.1:56159 - \"POST /api/explain HTTP/1.1\" 200 OK\n",
      "INFO:     127.0.0.1:56159 - \"GET /api/get-classes-colors?method=umap HTTP/1.1\" 200 OK\n",
      "INFO:     127.0.0.1:56159 - \"POST /api/explain HTTP/1.1\" 200 OK\n",
      "INFO:     127.0.0.1:56159 - \"GET /api/get-classes-colors?method=umap HTTP/1.1\" 200 OK\n",
      "INFO:     127.0.0.1:56159 - \"POST /api/explain HTTP/1.1\" 200 OK\n",
      "INFO:     127.0.0.1:56159 - \"GET /api/get-classes-colors?method=umap HTTP/1.1\" 200 OK\n",
      "INFO:     127.0.0.1:56159 - \"POST /api/update-visualization HTTP/1.1\" 200 OK\n",
      "INFO:     127.0.0.1:56159 - \"GET /api/get-classes-colors?method=pca HTTP/1.1\" 200 OK\n",
      "INFO:     127.0.0.1:54911 - \"POST /api/update-visualization HTTP/1.1\" 200 OK\n",
      "INFO:     127.0.0.1:54911 - \"GET /api/get-classes-colors?method=umap HTTP/1.1\" 200 OK\n",
      "INFO:     127.0.0.1:62825 - \"POST /api/update-visualization HTTP/1.1\" 200 OK\n",
      "INFO:     127.0.0.1:62825 - \"GET /api/get-classes-colors?method=pca HTTP/1.1\" 200 OK\n",
      "INFO:     127.0.0.1:62825 - \"POST /api/explain HTTP/1.1\" 200 OK\n",
      "INFO:     127.0.0.1:62825 - \"GET /api/get-classes-colors?method=umap HTTP/1.1\" 200 OK\n",
      "INFO:     127.0.0.1:62825 - \"POST /api/update-visualization HTTP/1.1\" 200 OK\n",
      "INFO:     127.0.0.1:62825 - \"GET /api/get-classes-colors?method=pca HTTP/1.1\" 200 OK\n",
      "INFO:     127.0.0.1:62825 - \"POST /api/update-visualization HTTP/1.1\" 200 OK\n",
      "INFO:     127.0.0.1:62825 - \"GET /api/get-classes-colors?method=umap HTTP/1.1\" 200 OK\n",
      "INFO:     127.0.0.1:51743 - \"POST /api/explain HTTP/1.1\" 200 OK\n",
      "INFO:     127.0.0.1:51743 - \"GET /api/get-classes-colors?method=umap HTTP/1.1\" 200 OK\n",
      "INFO:     127.0.0.1:51743 - \"POST /api/explain HTTP/1.1\" 200 OK\n",
      "INFO:     127.0.0.1:51743 - \"GET /api/get-classes-colors?method=umap HTTP/1.1\" 200 OK\n",
      "INFO:     127.0.0.1:51743 - \"POST /api/explain HTTP/1.1\" 200 OK\n",
      "INFO:     127.0.0.1:51743 - \"GET /api/get-classes-colors?method=umap HTTP/1.1\" 200 OK\n",
      "INFO:     127.0.0.1:58455 - \"POST /api/explain HTTP/1.1\" 200 OK\n",
      "INFO:     127.0.0.1:58455 - \"GET /api/get-classes-colors?method=umap HTTP/1.1\" 200 OK\n",
      "INFO:     127.0.0.1:58455 - \"POST /api/explain HTTP/1.1\" 200 OK\n",
      "INFO:     127.0.0.1:58455 - \"GET /api/get-classes-colors?method=umap HTTP/1.1\" 200 OK\n",
      "INFO:     127.0.0.1:58455 - \"POST /api/explain HTTP/1.1\" 200 OK\n",
      "INFO:     127.0.0.1:58455 - \"GET /api/get-classes-colors?method=umap HTTP/1.1\" 200 OK\n",
      "INFO:     127.0.0.1:58455 - \"POST /api/explain HTTP/1.1\" 200 OK\n",
      "INFO:     127.0.0.1:58455 - \"GET /api/get-classes-colors?method=umap HTTP/1.1\" 200 OK\n",
      "INFO:     127.0.0.1:58455 - \"POST /api/explain HTTP/1.1\" 200 OK\n",
      "INFO:     127.0.0.1:58455 - \"GET /api/get-classes-colors?method=umap HTTP/1.1\" 200 OK\n",
      "INFO:     127.0.0.1:55694 - \"POST /api/update-visualization HTTP/1.1\" 200 OK\n",
      "INFO:     127.0.0.1:55694 - \"GET /api/get-classes-colors?method=pca HTTP/1.1\" 200 OK\n",
      "INFO:     127.0.0.1:55694 - \"POST /api/explain HTTP/1.1\" 200 OK\n",
      "INFO:     127.0.0.1:55694 - \"GET /api/get-classes-colors?method=umap HTTP/1.1\" 200 OK\n",
      "INFO:     127.0.0.1:55694 - \"POST /api/explain HTTP/1.1\" 200 OK\n",
      "INFO:     127.0.0.1:55694 - \"GET /api/get-classes-colors?method=umap HTTP/1.1\" 200 OK\n",
      "INFO:     127.0.0.1:51762 - \"POST /api/explain HTTP/1.1\" 200 OK\n",
      "INFO:     127.0.0.1:51762 - \"GET /api/get-classes-colors?method=umap HTTP/1.1\" 200 OK\n",
      "INFO:     127.0.0.1:51800 - \"POST /api/explain HTTP/1.1\" 200 OK\n",
      "INFO:     127.0.0.1:51800 - \"GET /api/get-classes-colors?method=umap HTTP/1.1\" 200 OK\n",
      "INFO:     127.0.0.1:51800 - \"POST /api/explain HTTP/1.1\" 200 OK\n",
      "INFO:     127.0.0.1:51800 - \"GET /api/get-classes-colors?method=umap HTTP/1.1\" 200 OK\n"
     ]
    }
   ],
   "source": [
    "webapp.launch_demo()"
   ]
  }
 ],
 "metadata": {
  "kernelspec": {
   "display_name": "Python 3",
   "language": "python",
   "name": "python3"
  },
  "language_info": {
   "codemirror_mode": {
    "name": "ipython",
    "version": 3
   },
   "file_extension": ".py",
   "mimetype": "text/x-python",
   "name": "python",
   "nbconvert_exporter": "python",
   "pygments_lexer": "ipython3",
   "version": "3.9.0"
  }
 },
 "nbformat": 4,
 "nbformat_minor": 5
}
